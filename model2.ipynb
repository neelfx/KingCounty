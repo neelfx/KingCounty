{
 "cells": [
  {
   "cell_type": "code",
   "execution_count": 17,
   "metadata": {
    "ExecuteTime": {
     "end_time": "2020-07-30T13:12:37.237965Z",
     "start_time": "2020-07-30T13:12:37.208982Z"
    }
   },
   "outputs": [],
   "source": [
    "import pickle\n",
    "import pandas as pd\n",
    "import numpy as np\n",
    "import seaborn as sns\n",
    "import matplotlib.pyplot as plt\n",
    "%matplotlib inline\n"
   ]
  },
  {
   "cell_type": "code",
   "execution_count": 18,
   "metadata": {
    "ExecuteTime": {
     "end_time": "2020-07-30T13:12:37.642082Z",
     "start_time": "2020-07-30T13:12:37.613104Z"
    }
   },
   "outputs": [],
   "source": [
    "with open('cleaned_df.pickle', 'rb') as file:\n",
    "    df = pickle.load(file)"
   ]
  },
  {
   "cell_type": "code",
   "execution_count": 25,
   "metadata": {
    "ExecuteTime": {
     "end_time": "2020-07-30T13:12:55.474763Z",
     "start_time": "2020-07-30T13:12:55.458771Z"
    }
   },
   "outputs": [
    {
     "name": "stdout",
     "output_type": "stream",
     "text": [
      "<class 'pandas.core.frame.DataFrame'>\n",
      "RangeIndex: 21597 entries, 0 to 21596\n",
      "Data columns (total 21 columns):\n",
      "id               21597 non-null int64\n",
      "date             21597 non-null datetime64[ns]\n",
      "price            21597 non-null float64\n",
      "bedrooms         21597 non-null int64\n",
      "bathrooms        21597 non-null float64\n",
      "sqft_living      21597 non-null int64\n",
      "sqft_lot         21597 non-null int64\n",
      "floors           21597 non-null float64\n",
      "waterfront       21597 non-null int64\n",
      "view             21597 non-null int64\n",
      "condition        21597 non-null int64\n",
      "grade            21597 non-null int64\n",
      "sqft_above       21597 non-null int64\n",
      "has_basement     21597 non-null int64\n",
      "yr_built         21597 non-null int64\n",
      "yr_renovated     21597 non-null float64\n",
      "zipcode          21597 non-null int64\n",
      "lat              21597 non-null float64\n",
      "long             21597 non-null float64\n",
      "sqft_living15    21597 non-null int64\n",
      "sqft_lot15       21597 non-null int64\n",
      "dtypes: datetime64[ns](1), float64(6), int64(14)\n",
      "memory usage: 3.5 MB\n"
     ]
    }
   ],
   "source": [
    "df.info()"
   ]
  },
  {
   "cell_type": "code",
   "execution_count": 26,
   "metadata": {
    "ExecuteTime": {
     "end_time": "2020-07-30T13:12:56.025526Z",
     "start_time": "2020-07-30T13:12:56.015529Z"
    }
   },
   "outputs": [],
   "source": [
    "from sklearn.model_selection import train_test_split\n",
    "from sklearn.linear_model import LinearRegression\n",
    "\n",
    "data = df\n",
    "y = data['price']\n",
    "X = data.drop(['price','date','id','zipcode'], axis = 1)\n",
    "\n"
   ]
  },
  {
   "cell_type": "code",
   "execution_count": 27,
   "metadata": {
    "ExecuteTime": {
     "end_time": "2020-07-30T13:12:56.717563Z",
     "start_time": "2020-07-30T13:12:56.701575Z"
    }
   },
   "outputs": [],
   "source": [
    "# create data sets with an 80/20 split - train/test\n",
    "X_train, X_test, y_train, y_test = train_test_split(X, y, test_size = 0.2)"
   ]
  },
  {
   "cell_type": "code",
   "execution_count": 28,
   "metadata": {
    "ExecuteTime": {
     "end_time": "2020-07-30T13:12:57.110469Z",
     "start_time": "2020-07-30T13:12:57.102471Z"
    }
   },
   "outputs": [
    {
     "data": {
      "text/plain": [
       "4320"
      ]
     },
     "execution_count": 28,
     "metadata": {},
     "output_type": "execute_result"
    }
   ],
   "source": [
    "len(y_test)"
   ]
  },
  {
   "cell_type": "code",
   "execution_count": 29,
   "metadata": {
    "ExecuteTime": {
     "end_time": "2020-07-30T13:12:57.700594Z",
     "start_time": "2020-07-30T13:12:57.667615Z"
    }
   },
   "outputs": [
    {
     "name": "stdout",
     "output_type": "stream",
     "text": [
      "Train Mean Squared Error: 42089005409.68142\n",
      "Test Mean Squared Error: 38287037340.5627\n"
     ]
    }
   ],
   "source": [
    "linreg = LinearRegression()\n",
    "linreg.fit(X_train, y_train)\n",
    "\n",
    "y_hat_train = linreg.predict(X_train)\n",
    "y_hat_test = linreg.predict(X_test)\n",
    "\n",
    "mse_train = np.sum((y_train-y_hat_train)**2)/len(y_train)\n",
    "mse_test =np.sum((y_test-y_hat_test)**2)/len(y_test)\n",
    "print('Train Mean Squared Error:', mse_train)\n",
    "print('Test Mean Squared Error:', mse_test)"
   ]
  },
  {
   "cell_type": "code",
   "execution_count": 30,
   "metadata": {
    "ExecuteTime": {
     "end_time": "2020-07-30T13:12:58.244630Z",
     "start_time": "2020-07-30T13:12:58.237635Z"
    }
   },
   "outputs": [
    {
     "name": "stdout",
     "output_type": "stream",
     "text": [
      "Train Root Mean Squared Error: 205156.05136013273\n",
      "Test Root Mean Squared Error: 195670.73705734\n"
     ]
    }
   ],
   "source": [
    "rmse_train = np.sqrt(mse_train)\n",
    "rmse_test = np.sqrt(mse_test)\n",
    "print('Train Root Mean Squared Error:', rmse_train)\n",
    "print('Test Root Mean Squared Error:', rmse_test)"
   ]
  },
  {
   "cell_type": "code",
   "execution_count": 31,
   "metadata": {
    "ExecuteTime": {
     "end_time": "2020-07-30T13:13:00.471182Z",
     "start_time": "2020-07-30T13:12:59.550707Z"
    }
   },
   "outputs": [
    {
     "data": {
      "image/png": "[encoded data removed]",
      "text/plain": [
       "<Figure size 432x288 with 1 Axes>"
      ]
     },
     "metadata": {
      "needs_background": "light"
     },
     "output_type": "display_data"
    }
   ],
   "source": [
    "from sklearn.model_selection import cross_val_predict\n",
    "\n",
    "predicted = cross_val_predict(linreg, X, y, cv=10)\n",
    "\n",
    "fig, ax = plt.subplots()\n",
    "ax.scatter(y, predicted)\n",
    "ax.plot([y.min(), y.max()], [y.min(), y.max()], 'k--', lw=4)\n",
    "ax.set_xlabel('Measured')\n",
    "ax.set_ylabel('Predicted')\n",
    "plt.show()"
   ]
  },
  {
   "cell_type": "code",
   "execution_count": 32,
   "metadata": {
    "ExecuteTime": {
     "end_time": "2020-07-30T13:13:01.159805Z",
     "start_time": "2020-07-30T13:13:00.863976Z"
    }
   },
   "outputs": [
    {
     "data": {
      "text/plain": [
       "<matplotlib.axes._subplots.AxesSubplot at 0x240cc3c3ef0>"
      ]
     },
     "execution_count": 32,
     "metadata": {},
     "output_type": "execute_result"
    },
    {
     "data": {
      "image/png": "[encoded data removed]",
      "text/plain": [
       "<Figure size 432x288 with 1 Axes>"
      ]
     },
     "metadata": {
      "needs_background": "light"
     },
     "output_type": "display_data"
    }
   ],
   "source": [
    "ax1 = sns.distplot(y_test, hist=False, color=\"r\", label=\"Actual Value\")\n",
    "sns.distplot(y_hat_test, hist=False, color=\"b\", label=\"Fitted Values\" , ax=ax1)"
   ]
  },
  {
   "cell_type": "code",
   "execution_count": 33,
   "metadata": {
    "ExecuteTime": {
     "end_time": "2020-07-30T13:13:01.848050Z",
     "start_time": "2020-07-30T13:13:01.837056Z"
    }
   },
   "outputs": [],
   "source": [
    "y_predicted = linreg.predict(X)"
   ]
  },
  {
   "cell_type": "code",
   "execution_count": 34,
   "metadata": {
    "ExecuteTime": {
     "end_time": "2020-07-30T13:13:02.210273Z",
     "start_time": "2020-07-30T13:13:02.205276Z"
    }
   },
   "outputs": [],
   "source": [
    "residuals = y - y_predicted"
   ]
  },
  {
   "cell_type": "code",
   "execution_count": 35,
   "metadata": {
    "ExecuteTime": {
     "end_time": "2020-07-30T13:13:03.253384Z",
     "start_time": "2020-07-30T13:13:02.811635Z"
    },
    "scrolled": true
   },
   "outputs": [
    {
     "data": {
      "image/png": "[encoded data removed]",
      "text/plain": [
       "<Figure size 432x288 with 1 Axes>"
      ]
     },
     "metadata": {
      "needs_background": "light"
     },
     "output_type": "display_data"
    }
   ],
   "source": [
    "from scipy.stats import probplot\n",
    "\n",
    "_ = probplot(residuals, plot=plt)"
   ]
  },
  {
   "cell_type": "code",
   "execution_count": 36,
   "metadata": {
    "ExecuteTime": {
     "end_time": "2020-07-30T13:13:06.446319Z",
     "start_time": "2020-07-30T13:13:06.084524Z"
    }
   },
   "outputs": [
    {
     "data": {
      "image/png": "[encoded data removed]",
      "text/plain": [
       "<Figure size 864x432 with 1 Axes>"
      ]
     },
     "metadata": {
      "needs_background": "light"
     },
     "output_type": "display_data"
    }
   ],
   "source": [
    "# Histogram for residuals\n",
    "    color = 'Blue'\n",
    "    plt.figure(figsize=(12,6))\n",
    "    plt.hist(residuals, histtype = 'bar', range = (-500000, 500000),bins = 40, color=color)\n",
    "    plt.ylim(0,3000)\n",
    "    plt.xlim(-450000, 450000)\n",
    "    plt.xticks((range(-450000,450000, 50000)), rotation = 'vertical')\n",
    "    plt.xlabel('Residuals = y_real - y_predicted')\n",
    "    plt.title('Residuals Histogram')\n",
    "    plt.show()"
   ]
  },
  {
   "cell_type": "code",
   "execution_count": 37,
   "metadata": {
    "ExecuteTime": {
     "end_time": "2020-07-30T13:13:09.439395Z",
     "start_time": "2020-07-30T13:13:09.426401Z"
    }
   },
   "outputs": [],
   "source": [
    "data1 = df.drop(['id', 'date'], axis = 1)\n",
    "y1 = data1.price\n",
    "data1 = data1.drop(['price'], axis = 1)"
   ]
  },
  {
   "cell_type": "code",
   "execution_count": 38,
   "metadata": {
    "ExecuteTime": {
     "end_time": "2020-07-30T13:13:10.820349Z",
     "start_time": "2020-07-30T13:13:10.779374Z"
    }
   },
   "outputs": [
    {
     "name": "stdout",
     "output_type": "stream",
     "text": [
      "0.6981487095483874\n"
     ]
    }
   ],
   "source": [
    "\n",
    "\n",
    "linreg1 = LinearRegression()\n",
    "linreg1.fit(data1, y1)\n",
    "print(linreg1.score(data1, y1))\n",
    "\n"
   ]
  },
  {
   "cell_type": "code",
   "execution_count": 39,
   "metadata": {
    "ExecuteTime": {
     "end_time": "2020-07-30T13:13:12.550020Z",
     "start_time": "2020-07-30T13:13:12.538026Z"
    }
   },
   "outputs": [],
   "source": [
    "\n",
    "\n",
    "y_predict = linreg1.predict(data1)\n",
    "residuals1 = y - y_predict\n",
    "\n"
   ]
  },
  {
   "cell_type": "code",
   "execution_count": 40,
   "metadata": {
    "ExecuteTime": {
     "end_time": "2020-07-30T13:13:13.949822Z",
     "start_time": "2020-07-30T13:13:13.537062Z"
    },
    "scrolled": true
   },
   "outputs": [
    {
     "data": {
      "image/png": "[encoded data removed]",
      "text/plain": [
       "<Figure size 432x288 with 1 Axes>"
      ]
     },
     "metadata": {
      "needs_background": "light"
     },
     "output_type": "display_data"
    }
   ],
   "source": [
    "_ = probplot(residuals1, plot=plt)"
   ]
  },
  {
   "cell_type": "markdown",
   "metadata": {
    "ExecuteTime": {
     "end_time": "2020-07-28T01:58:58.123441Z",
     "start_time": "2020-07-28T01:58:58.119444Z"
    }
   },
   "source": [
    "## Creating dummies for categoricals and then checking linear regression one by one along with its R-squared and Rooted MSE"
   ]
  },
  {
   "cell_type": "code",
   "execution_count": 41,
   "metadata": {
    "ExecuteTime": {
     "end_time": "2020-07-30T13:13:25.035904Z",
     "start_time": "2020-07-30T13:13:25.026909Z"
    }
   },
   "outputs": [],
   "source": [
    "df_dv1 = df.copy()"
   ]
  },
  {
   "cell_type": "code",
   "execution_count": 42,
   "metadata": {
    "ExecuteTime": {
     "end_time": "2020-07-30T13:13:25.394749Z",
     "start_time": "2020-07-30T13:13:25.357774Z"
    }
   },
   "outputs": [],
   "source": [
    "zip_dummies = pd.get_dummies(df_dv1['zipcode'],prefix='zip')\n",
    "df_zip = pd.concat([df_dv1, zip_dummies], axis=1)"
   ]
  },
  {
   "cell_type": "code",
   "execution_count": 43,
   "metadata": {
    "ExecuteTime": {
     "end_time": "2020-07-30T13:13:28.343021Z",
     "start_time": "2020-07-30T13:13:28.291071Z"
    }
   },
   "outputs": [
    {
     "data": {
      "text/html": [
       "<div>\n",
       "<style scoped>\n",
       "    .dataframe tbody tr th:only-of-type {\n",
       "        vertical-align: middle;\n",
       "    }\n",
       "\n",
       "    .dataframe tbody tr th {\n",
       "        vertical-align: top;\n",
       "    }\n",
       "\n",
       "    .dataframe thead th {\n",
       "        text-align: right;\n",
       "    }\n",
       "</style>\n",
       "<table border=\"1\" class=\"dataframe\">\n",
       "  <thead>\n",
       "    <tr style=\"text-align: right;\">\n",
       "      <th></th>\n",
       "      <th>id</th>\n",
       "      <th>date</th>\n",
       "      <th>price</th>\n",
       "      <th>bedrooms</th>\n",
       "      <th>bathrooms</th>\n",
       "      <th>sqft_living</th>\n",
       "      <th>sqft_lot</th>\n",
       "      <th>floors</th>\n",
       "      <th>waterfront</th>\n",
       "      <th>view</th>\n",
       "      <th>...</th>\n",
       "      <th>zip_98146</th>\n",
       "      <th>zip_98148</th>\n",
       "      <th>zip_98155</th>\n",
       "      <th>zip_98166</th>\n",
       "      <th>zip_98168</th>\n",
       "      <th>zip_98177</th>\n",
       "      <th>zip_98178</th>\n",
       "      <th>zip_98188</th>\n",
       "      <th>zip_98198</th>\n",
       "      <th>zip_98199</th>\n",
       "    </tr>\n",
       "  </thead>\n",
       "  <tbody>\n",
       "    <tr>\n",
       "      <td>0</td>\n",
       "      <td>7129300520</td>\n",
       "      <td>2014-10-13</td>\n",
       "      <td>221900.0</td>\n",
       "      <td>3</td>\n",
       "      <td>1.00</td>\n",
       "      <td>1180</td>\n",
       "      <td>5650</td>\n",
       "      <td>1.0</td>\n",
       "      <td>0</td>\n",
       "      <td>0</td>\n",
       "      <td>...</td>\n",
       "      <td>0</td>\n",
       "      <td>0</td>\n",
       "      <td>0</td>\n",
       "      <td>0</td>\n",
       "      <td>0</td>\n",
       "      <td>0</td>\n",
       "      <td>1</td>\n",
       "      <td>0</td>\n",
       "      <td>0</td>\n",
       "      <td>0</td>\n",
       "    </tr>\n",
       "    <tr>\n",
       "      <td>1</td>\n",
       "      <td>6414100192</td>\n",
       "      <td>2014-12-09</td>\n",
       "      <td>538000.0</td>\n",
       "      <td>3</td>\n",
       "      <td>2.25</td>\n",
       "      <td>2570</td>\n",
       "      <td>7242</td>\n",
       "      <td>2.0</td>\n",
       "      <td>0</td>\n",
       "      <td>0</td>\n",
       "      <td>...</td>\n",
       "      <td>0</td>\n",
       "      <td>0</td>\n",
       "      <td>0</td>\n",
       "      <td>0</td>\n",
       "      <td>0</td>\n",
       "      <td>0</td>\n",
       "      <td>0</td>\n",
       "      <td>0</td>\n",
       "      <td>0</td>\n",
       "      <td>0</td>\n",
       "    </tr>\n",
       "  </tbody>\n",
       "</table>\n",
       "<p>2 rows × 91 columns</p>\n",
       "</div>"
      ],
      "text/plain": [
       "           id       date     price  bedrooms  bathrooms  sqft_living  \\\n",
       "0  7129300520 2014-10-13  221900.0         3       1.00         1180   \n",
       "1  6414100192 2014-12-09  538000.0         3       2.25         2570   \n",
       "\n",
       "   sqft_lot  floors  waterfront  view  ...  zip_98146  zip_98148  zip_98155  \\\n",
       "0      5650     1.0           0     0  ...          0          0          0   \n",
       "1      7242     2.0           0     0  ...          0          0          0   \n",
       "\n",
       "   zip_98166  zip_98168  zip_98177  zip_98178  zip_98188  zip_98198  zip_98199  \n",
       "0          0          0          0          1          0          0          0  \n",
       "1          0          0          0          0          0          0          0  \n",
       "\n",
       "[2 rows x 91 columns]"
      ]
     },
     "execution_count": 43,
     "metadata": {},
     "output_type": "execute_result"
    }
   ],
   "source": [
    "df_zip.head(2)"
   ]
  },
  {
   "cell_type": "code",
   "execution_count": 44,
   "metadata": {
    "ExecuteTime": {
     "end_time": "2020-07-30T13:13:29.412955Z",
     "start_time": "2020-07-30T13:13:29.385971Z"
    }
   },
   "outputs": [],
   "source": [
    "data = df_zip.copy()\n",
    "y = data['price']\n",
    "X = data.drop(['price','date','id','zipcode', 'has_basement'], axis = 1)\n",
    "\n"
   ]
  },
  {
   "cell_type": "code",
   "execution_count": 45,
   "metadata": {
    "ExecuteTime": {
     "end_time": "2020-07-30T13:13:30.178176Z",
     "start_time": "2020-07-30T13:13:30.155174Z"
    }
   },
   "outputs": [],
   "source": [
    "# create data sets with an 80/20 split - train/test\n",
    "X_train, X_test, y_train, y_test = train_test_split(X, y, test_size = 0.2)"
   ]
  },
  {
   "cell_type": "code",
   "execution_count": 46,
   "metadata": {
    "ExecuteTime": {
     "end_time": "2020-07-30T13:13:30.717513Z",
     "start_time": "2020-07-30T13:13:30.587584Z"
    }
   },
   "outputs": [
    {
     "name": "stdout",
     "output_type": "stream",
     "text": [
      "Train Mean Squarred Error: 26071742704.10279\n",
      "Test Mean Squarred Error: 27859144912.894955\n"
     ]
    }
   ],
   "source": [
    "linreg = LinearRegression()\n",
    "linreg.fit(X_train, y_train)\n",
    "\n",
    "y_hat_train = linreg.predict(X_train)\n",
    "y_hat_test = linreg.predict(X_test)\n",
    "\n",
    "mse_train = np.sum((y_train-y_hat_train)**2)/len(y_train)\n",
    "mse_test =np.sum((y_test-y_hat_test)**2)/len(y_test)\n",
    "print('Train Mean Squarred Error:', mse_train)\n",
    "print('Test Mean Squarred Error:', mse_test)"
   ]
  },
  {
   "cell_type": "code",
   "execution_count": 47,
   "metadata": {
    "ExecuteTime": {
     "end_time": "2020-07-30T13:13:31.987493Z",
     "start_time": "2020-07-30T13:13:31.980499Z"
    }
   },
   "outputs": [
    {
     "name": "stdout",
     "output_type": "stream",
     "text": [
      "Train Root Mean Squarred Error: 161467.46639525497\n",
      "Test Root Mean Squarred Error: 166910.58957685984\n"
     ]
    }
   ],
   "source": [
    "rmse_train = np.sqrt(mse_train)\n",
    "rmse_test = np.sqrt(mse_test)\n",
    "print('Train Root Mean Squarred Error:', rmse_train)\n",
    "print('Test Root Mean Squarred Error:', rmse_test)"
   ]
  },
  {
   "cell_type": "code",
   "execution_count": 48,
   "metadata": {
    "ExecuteTime": {
     "end_time": "2020-07-30T13:13:34.221508Z",
     "start_time": "2020-07-30T13:13:32.658404Z"
    }
   },
   "outputs": [
    {
     "data": {
      "image/png": "[encoded data removed]",
      "text/plain": [
       "<Figure size 432x288 with 1 Axes>"
      ]
     },
     "metadata": {
      "needs_background": "light"
     },
     "output_type": "display_data"
    }
   ],
   "source": [
    "predicted = cross_val_predict(linreg, X, y, cv=10)\n",
    "\n",
    "fig, ax = plt.subplots()\n",
    "ax.scatter(y, predicted)\n",
    "ax.plot([y.min(), y.max()], [y.min(), y.max()], 'k--', lw=4)\n",
    "ax.set_xlabel('Measured')\n",
    "ax.set_ylabel('Predicted')\n",
    "plt.show()"
   ]
  },
  {
   "cell_type": "code",
   "execution_count": 49,
   "metadata": {
    "ExecuteTime": {
     "end_time": "2020-07-30T13:13:34.742211Z",
     "start_time": "2020-07-30T13:13:34.224511Z"
    }
   },
   "outputs": [
    {
     "data": {
      "image/png": "[encoded data removed]",
      "text/plain": [
       "<Figure size 432x288 with 1 Axes>"
      ]
     },
     "metadata": {
      "needs_background": "light"
     },
     "output_type": "display_data"
    }
   ],
   "source": [
    "y_predicted = linreg.predict(X)\n",
    "residuals = y - y_predicted\n",
    "_ = probplot(residuals, plot=plt)"
   ]
  },
  {
   "cell_type": "code",
   "execution_count": 50,
   "metadata": {
    "ExecuteTime": {
     "end_time": "2020-07-30T13:13:34.816200Z",
     "start_time": "2020-07-30T13:13:34.747212Z"
    }
   },
   "outputs": [
    {
     "data": {
      "text/html": [
       "<div>\n",
       "<style scoped>\n",
       "    .dataframe tbody tr th:only-of-type {\n",
       "        vertical-align: middle;\n",
       "    }\n",
       "\n",
       "    .dataframe tbody tr th {\n",
       "        vertical-align: top;\n",
       "    }\n",
       "\n",
       "    .dataframe thead th {\n",
       "        text-align: right;\n",
       "    }\n",
       "</style>\n",
       "<table border=\"1\" class=\"dataframe\">\n",
       "  <thead>\n",
       "    <tr style=\"text-align: right;\">\n",
       "      <th></th>\n",
       "      <th>id</th>\n",
       "      <th>date</th>\n",
       "      <th>price</th>\n",
       "      <th>bedrooms</th>\n",
       "      <th>bathrooms</th>\n",
       "      <th>sqft_living</th>\n",
       "      <th>sqft_lot</th>\n",
       "      <th>floors</th>\n",
       "      <th>waterfront</th>\n",
       "      <th>view</th>\n",
       "      <th>...</th>\n",
       "      <th>grd_4</th>\n",
       "      <th>grd_5</th>\n",
       "      <th>grd_6</th>\n",
       "      <th>grd_7</th>\n",
       "      <th>grd_8</th>\n",
       "      <th>grd_9</th>\n",
       "      <th>grd_10</th>\n",
       "      <th>grd_11</th>\n",
       "      <th>grd_12</th>\n",
       "      <th>grd_13</th>\n",
       "    </tr>\n",
       "  </thead>\n",
       "  <tbody>\n",
       "    <tr>\n",
       "      <td>0</td>\n",
       "      <td>7129300520</td>\n",
       "      <td>2014-10-13</td>\n",
       "      <td>221900.0</td>\n",
       "      <td>3</td>\n",
       "      <td>1.00</td>\n",
       "      <td>1180</td>\n",
       "      <td>5650</td>\n",
       "      <td>1.0</td>\n",
       "      <td>0</td>\n",
       "      <td>0</td>\n",
       "      <td>...</td>\n",
       "      <td>0</td>\n",
       "      <td>0</td>\n",
       "      <td>0</td>\n",
       "      <td>1</td>\n",
       "      <td>0</td>\n",
       "      <td>0</td>\n",
       "      <td>0</td>\n",
       "      <td>0</td>\n",
       "      <td>0</td>\n",
       "      <td>0</td>\n",
       "    </tr>\n",
       "    <tr>\n",
       "      <td>1</td>\n",
       "      <td>6414100192</td>\n",
       "      <td>2014-12-09</td>\n",
       "      <td>538000.0</td>\n",
       "      <td>3</td>\n",
       "      <td>2.25</td>\n",
       "      <td>2570</td>\n",
       "      <td>7242</td>\n",
       "      <td>2.0</td>\n",
       "      <td>0</td>\n",
       "      <td>0</td>\n",
       "      <td>...</td>\n",
       "      <td>0</td>\n",
       "      <td>0</td>\n",
       "      <td>0</td>\n",
       "      <td>1</td>\n",
       "      <td>0</td>\n",
       "      <td>0</td>\n",
       "      <td>0</td>\n",
       "      <td>0</td>\n",
       "      <td>0</td>\n",
       "      <td>0</td>\n",
       "    </tr>\n",
       "  </tbody>\n",
       "</table>\n",
       "<p>2 rows × 102 columns</p>\n",
       "</div>"
      ],
      "text/plain": [
       "           id       date     price  bedrooms  bathrooms  sqft_living  \\\n",
       "0  7129300520 2014-10-13  221900.0         3       1.00         1180   \n",
       "1  6414100192 2014-12-09  538000.0         3       2.25         2570   \n",
       "\n",
       "   sqft_lot  floors  waterfront  view  ...  grd_4  grd_5  grd_6  grd_7  grd_8  \\\n",
       "0      5650     1.0           0     0  ...      0      0      0      1      0   \n",
       "1      7242     2.0           0     0  ...      0      0      0      1      0   \n",
       "\n",
       "   grd_9  grd_10  grd_11  grd_12  grd_13  \n",
       "0      0       0       0       0       0  \n",
       "1      0       0       0       0       0  \n",
       "\n",
       "[2 rows x 102 columns]"
      ]
     },
     "execution_count": 50,
     "metadata": {},
     "output_type": "execute_result"
    }
   ],
   "source": [
    "\n",
    "df_dv2 = df_zip.copy()\n",
    "grd_dummies = pd.get_dummies(df_zip['grade'],prefix='grd')\n",
    "df_zip_grd = pd.concat([df_dv2, grd_dummies], axis=1)\n",
    "df_zip_grd.head(2)"
   ]
  },
  {
   "cell_type": "code",
   "execution_count": 51,
   "metadata": {
    "ExecuteTime": {
     "end_time": "2020-07-30T13:13:36.275709Z",
     "start_time": "2020-07-30T13:13:36.247726Z"
    }
   },
   "outputs": [],
   "source": [
    "data = df_zip_grd\n",
    "y = data['price']\n",
    "X = data.drop(['price','date','id','zipcode', 'has_basement', 'grade'], axis = 1)\n"
   ]
  },
  {
   "cell_type": "code",
   "execution_count": 52,
   "metadata": {
    "ExecuteTime": {
     "end_time": "2020-07-30T13:13:39.110029Z",
     "start_time": "2020-07-30T13:13:39.087041Z"
    }
   },
   "outputs": [],
   "source": [
    "# create data sets with an 80/20 split - train/test\n",
    "X_train, X_test, y_train, y_test = train_test_split(X, y, test_size = 0.2)"
   ]
  },
  {
   "cell_type": "code",
   "execution_count": 53,
   "metadata": {
    "ExecuteTime": {
     "end_time": "2020-07-30T13:13:44.829785Z",
     "start_time": "2020-07-30T13:13:44.670893Z"
    }
   },
   "outputs": [
    {
     "name": "stdout",
     "output_type": "stream",
     "text": [
      "Train Mean Squared Error: 20818553353.612926\n",
      "Test Mean Squared Error: 30808103508.380814\n"
     ]
    }
   ],
   "source": [
    "linreg = LinearRegression()\n",
    "linreg.fit(X_train, y_train)\n",
    "\n",
    "y_hat_train = linreg.predict(X_train)\n",
    "y_hat_test = linreg.predict(X_test)\n",
    "\n",
    "mse_train = np.sum((y_train-y_hat_train)**2)/len(y_train)\n",
    "mse_test =np.sum((y_test-y_hat_test)**2)/len(y_test)\n",
    "print('Train Mean Squared Error:', mse_train)\n",
    "print('Test Mean Squared Error:', mse_test)"
   ]
  },
  {
   "cell_type": "code",
   "execution_count": 54,
   "metadata": {
    "ExecuteTime": {
     "end_time": "2020-07-30T13:13:51.036818Z",
     "start_time": "2020-07-30T13:13:51.031826Z"
    }
   },
   "outputs": [
    {
     "name": "stdout",
     "output_type": "stream",
     "text": [
      "Train Root Mean Squared Error: 144286.3588618582\n",
      "Test Root Mean Squared Error: 175522.3732416492\n"
     ]
    }
   ],
   "source": [
    "rmse_train = np.sqrt(mse_train)\n",
    "rmse_test = np.sqrt(mse_test)\n",
    "print('Train Root Mean Squared Error:', rmse_train)\n",
    "print('Test Root Mean Squared Error:', rmse_test)"
   ]
  },
  {
   "cell_type": "code",
   "execution_count": 55,
   "metadata": {
    "ExecuteTime": {
     "end_time": "2020-07-30T13:13:54.227067Z",
     "start_time": "2020-07-30T13:13:52.524042Z"
    }
   },
   "outputs": [
    {
     "data": {
      "image/png": "[encoded data removed]",
      "text/plain": [
       "<Figure size 432x288 with 1 Axes>"
      ]
     },
     "metadata": {
      "needs_background": "light"
     },
     "output_type": "display_data"
    }
   ],
   "source": [
    "predicted = cross_val_predict(linreg, X, y, cv=10)\n",
    "\n",
    "fig, ax = plt.subplots()\n",
    "ax.scatter(y, predicted)\n",
    "ax.plot([y.min(), y.max()], [y.min(), y.max()], 'k--', lw=4)\n",
    "ax.set_xlabel('Measured')\n",
    "ax.set_ylabel('Predicted')\n",
    "plt.show()"
   ]
  },
  {
   "cell_type": "code",
   "execution_count": 56,
   "metadata": {
    "ExecuteTime": {
     "end_time": "2020-07-30T13:13:55.039820Z",
     "start_time": "2020-07-30T13:13:54.616061Z"
    }
   },
   "outputs": [
    {
     "data": {
      "image/png": "[encoded data removed]",
      "text/plain": [
       "<Figure size 432x288 with 1 Axes>"
      ]
     },
     "metadata": {
      "needs_background": "light"
     },
     "output_type": "display_data"
    }
   ],
   "source": [
    "y_predicted = linreg.predict(X)\n",
    "residuals = y - y_predicted\n",
    "_ = probplot(residuals, plot=plt)"
   ]
  },
  {
   "cell_type": "code",
   "execution_count": 57,
   "metadata": {
    "ExecuteTime": {
     "end_time": "2020-07-30T13:13:55.843117Z",
     "start_time": "2020-07-30T13:13:55.824128Z"
    }
   },
   "outputs": [
    {
     "data": {
      "text/plain": [
       "2014.0    73\n",
       "2013.0    31\n",
       "2003.0    31\n",
       "2007.0    30\n",
       "2000.0    29\n",
       "          ..\n",
       "1971.0     1\n",
       "1934.0     1\n",
       "1953.0     1\n",
       "1951.0     1\n",
       "1954.0     1\n",
       "Name: yr_renovated, Length: 69, dtype: int64"
      ]
     },
     "execution_count": 57,
     "metadata": {},
     "output_type": "execute_result"
    }
   ],
   "source": [
    "df_zip_grd[df_zip_grd['yr_renovated'] > 0]['yr_renovated'].value_counts()"
   ]
  },
  {
   "cell_type": "code",
   "execution_count": 59,
   "metadata": {
    "ExecuteTime": {
     "end_time": "2020-07-30T13:28:04.737590Z",
     "start_time": "2020-07-30T13:27:48.938617Z"
    }
   },
   "outputs": [
    {
     "name": "stderr",
     "output_type": "stream",
     "text": [
      "C:\\Users\\Neel\\Anaconda3\\envs\\learn-env\\lib\\site-packages\\ipykernel_launcher.py:10: SettingWithCopyWarning: \n",
      "A value is trying to be set on a copy of a slice from a DataFrame\n",
      "\n",
      "See the caveats in the documentation: http://pandas.pydata.org/pandas-docs/stable/user_guide/indexing.html#returning-a-view-versus-a-copy\n",
      "  # Remove the CWD from sys.path while we load stuff.\n",
      "C:\\Users\\Neel\\Anaconda3\\envs\\learn-env\\lib\\site-packages\\ipykernel_launcher.py:12: SettingWithCopyWarning: \n",
      "A value is trying to be set on a copy of a slice from a DataFrame\n",
      "\n",
      "See the caveats in the documentation: http://pandas.pydata.org/pandas-docs/stable/user_guide/indexing.html#returning-a-view-versus-a-copy\n",
      "  if sys.path[0] == '':\n"
     ]
    }
   ],
   "source": [
    "# add feature for living space and overall lot size comparison with 15 neighbour average.\n",
    "# 1 means larger than neighbour\n",
    "# 0 means smaller than neighbour\n",
    "\n",
    "df_compared = df_zip_grd.copy()\n",
    "df_compared['neighb_living_compared'] = 0\n",
    "df_compared['neighb_lot_compared'] = 0\n",
    "for index, row in df_compared.iterrows():\n",
    "    if row['sqft_living'] > row['sqft_living15']:\n",
    "        df_compared['neighb_living_compared'][index] = 1\n",
    "    if row['sqft_lot'] > row['sqft_lot15']:\n",
    "        df_compared['neighb_lot_compared'][index] = 1\n",
    "\n"
   ]
  },
  {
   "cell_type": "code",
   "execution_count": 60,
   "metadata": {
    "ExecuteTime": {
     "end_time": "2020-07-30T13:28:04.831536Z",
     "start_time": "2020-07-30T13:28:04.743585Z"
    }
   },
   "outputs": [
    {
     "data": {
      "text/html": [
       "<div>\n",
       "<style scoped>\n",
       "    .dataframe tbody tr th:only-of-type {\n",
       "        vertical-align: middle;\n",
       "    }\n",
       "\n",
       "    .dataframe tbody tr th {\n",
       "        vertical-align: top;\n",
       "    }\n",
       "\n",
       "    .dataframe thead th {\n",
       "        text-align: right;\n",
       "    }\n",
       "</style>\n",
       "<table border=\"1\" class=\"dataframe\">\n",
       "  <thead>\n",
       "    <tr style=\"text-align: right;\">\n",
       "      <th></th>\n",
       "      <th>id</th>\n",
       "      <th>date</th>\n",
       "      <th>price</th>\n",
       "      <th>bedrooms</th>\n",
       "      <th>bathrooms</th>\n",
       "      <th>sqft_living</th>\n",
       "      <th>sqft_lot</th>\n",
       "      <th>floors</th>\n",
       "      <th>waterfront</th>\n",
       "      <th>view</th>\n",
       "      <th>...</th>\n",
       "      <th>grd_6</th>\n",
       "      <th>grd_7</th>\n",
       "      <th>grd_8</th>\n",
       "      <th>grd_9</th>\n",
       "      <th>grd_10</th>\n",
       "      <th>grd_11</th>\n",
       "      <th>grd_12</th>\n",
       "      <th>grd_13</th>\n",
       "      <th>neighb_living_compared</th>\n",
       "      <th>neighb_lot_compared</th>\n",
       "    </tr>\n",
       "  </thead>\n",
       "  <tbody>\n",
       "    <tr>\n",
       "      <td>0</td>\n",
       "      <td>7129300520</td>\n",
       "      <td>2014-10-13</td>\n",
       "      <td>221900.0</td>\n",
       "      <td>3</td>\n",
       "      <td>1.00</td>\n",
       "      <td>1180</td>\n",
       "      <td>5650</td>\n",
       "      <td>1.0</td>\n",
       "      <td>0</td>\n",
       "      <td>0</td>\n",
       "      <td>...</td>\n",
       "      <td>0</td>\n",
       "      <td>1</td>\n",
       "      <td>0</td>\n",
       "      <td>0</td>\n",
       "      <td>0</td>\n",
       "      <td>0</td>\n",
       "      <td>0</td>\n",
       "      <td>0</td>\n",
       "      <td>0</td>\n",
       "      <td>0</td>\n",
       "    </tr>\n",
       "    <tr>\n",
       "      <td>1</td>\n",
       "      <td>6414100192</td>\n",
       "      <td>2014-12-09</td>\n",
       "      <td>538000.0</td>\n",
       "      <td>3</td>\n",
       "      <td>2.25</td>\n",
       "      <td>2570</td>\n",
       "      <td>7242</td>\n",
       "      <td>2.0</td>\n",
       "      <td>0</td>\n",
       "      <td>0</td>\n",
       "      <td>...</td>\n",
       "      <td>0</td>\n",
       "      <td>1</td>\n",
       "      <td>0</td>\n",
       "      <td>0</td>\n",
       "      <td>0</td>\n",
       "      <td>0</td>\n",
       "      <td>0</td>\n",
       "      <td>0</td>\n",
       "      <td>1</td>\n",
       "      <td>0</td>\n",
       "    </tr>\n",
       "    <tr>\n",
       "      <td>3</td>\n",
       "      <td>2487200875</td>\n",
       "      <td>2014-12-09</td>\n",
       "      <td>604000.0</td>\n",
       "      <td>4</td>\n",
       "      <td>3.00</td>\n",
       "      <td>1960</td>\n",
       "      <td>5000</td>\n",
       "      <td>1.0</td>\n",
       "      <td>0</td>\n",
       "      <td>0</td>\n",
       "      <td>...</td>\n",
       "      <td>0</td>\n",
       "      <td>1</td>\n",
       "      <td>0</td>\n",
       "      <td>0</td>\n",
       "      <td>0</td>\n",
       "      <td>0</td>\n",
       "      <td>0</td>\n",
       "      <td>0</td>\n",
       "      <td>1</td>\n",
       "      <td>0</td>\n",
       "    </tr>\n",
       "    <tr>\n",
       "      <td>5</td>\n",
       "      <td>7237550310</td>\n",
       "      <td>2014-05-12</td>\n",
       "      <td>1230000.0</td>\n",
       "      <td>4</td>\n",
       "      <td>4.50</td>\n",
       "      <td>5420</td>\n",
       "      <td>101930</td>\n",
       "      <td>1.0</td>\n",
       "      <td>0</td>\n",
       "      <td>0</td>\n",
       "      <td>...</td>\n",
       "      <td>0</td>\n",
       "      <td>0</td>\n",
       "      <td>0</td>\n",
       "      <td>0</td>\n",
       "      <td>0</td>\n",
       "      <td>1</td>\n",
       "      <td>0</td>\n",
       "      <td>0</td>\n",
       "      <td>1</td>\n",
       "      <td>0</td>\n",
       "    </tr>\n",
       "    <tr>\n",
       "      <td>6</td>\n",
       "      <td>1321400060</td>\n",
       "      <td>2014-06-27</td>\n",
       "      <td>257500.0</td>\n",
       "      <td>3</td>\n",
       "      <td>2.25</td>\n",
       "      <td>1715</td>\n",
       "      <td>6819</td>\n",
       "      <td>2.0</td>\n",
       "      <td>0</td>\n",
       "      <td>0</td>\n",
       "      <td>...</td>\n",
       "      <td>0</td>\n",
       "      <td>1</td>\n",
       "      <td>0</td>\n",
       "      <td>0</td>\n",
       "      <td>0</td>\n",
       "      <td>0</td>\n",
       "      <td>0</td>\n",
       "      <td>0</td>\n",
       "      <td>0</td>\n",
       "      <td>0</td>\n",
       "    </tr>\n",
       "    <tr>\n",
       "      <td>...</td>\n",
       "      <td>...</td>\n",
       "      <td>...</td>\n",
       "      <td>...</td>\n",
       "      <td>...</td>\n",
       "      <td>...</td>\n",
       "      <td>...</td>\n",
       "      <td>...</td>\n",
       "      <td>...</td>\n",
       "      <td>...</td>\n",
       "      <td>...</td>\n",
       "      <td>...</td>\n",
       "      <td>...</td>\n",
       "      <td>...</td>\n",
       "      <td>...</td>\n",
       "      <td>...</td>\n",
       "      <td>...</td>\n",
       "      <td>...</td>\n",
       "      <td>...</td>\n",
       "      <td>...</td>\n",
       "      <td>...</td>\n",
       "      <td>...</td>\n",
       "    </tr>\n",
       "    <tr>\n",
       "      <td>21589</td>\n",
       "      <td>3448900210</td>\n",
       "      <td>2014-10-14</td>\n",
       "      <td>610685.0</td>\n",
       "      <td>4</td>\n",
       "      <td>2.50</td>\n",
       "      <td>2520</td>\n",
       "      <td>6023</td>\n",
       "      <td>2.0</td>\n",
       "      <td>0</td>\n",
       "      <td>0</td>\n",
       "      <td>...</td>\n",
       "      <td>0</td>\n",
       "      <td>0</td>\n",
       "      <td>0</td>\n",
       "      <td>1</td>\n",
       "      <td>0</td>\n",
       "      <td>0</td>\n",
       "      <td>0</td>\n",
       "      <td>0</td>\n",
       "      <td>0</td>\n",
       "      <td>0</td>\n",
       "    </tr>\n",
       "    <tr>\n",
       "      <td>21592</td>\n",
       "      <td>263000018</td>\n",
       "      <td>2014-05-21</td>\n",
       "      <td>360000.0</td>\n",
       "      <td>3</td>\n",
       "      <td>2.50</td>\n",
       "      <td>1530</td>\n",
       "      <td>1131</td>\n",
       "      <td>3.0</td>\n",
       "      <td>0</td>\n",
       "      <td>0</td>\n",
       "      <td>...</td>\n",
       "      <td>0</td>\n",
       "      <td>0</td>\n",
       "      <td>1</td>\n",
       "      <td>0</td>\n",
       "      <td>0</td>\n",
       "      <td>0</td>\n",
       "      <td>0</td>\n",
       "      <td>0</td>\n",
       "      <td>0</td>\n",
       "      <td>0</td>\n",
       "    </tr>\n",
       "    <tr>\n",
       "      <td>21593</td>\n",
       "      <td>6600060120</td>\n",
       "      <td>2015-02-23</td>\n",
       "      <td>400000.0</td>\n",
       "      <td>4</td>\n",
       "      <td>2.50</td>\n",
       "      <td>2310</td>\n",
       "      <td>5813</td>\n",
       "      <td>2.0</td>\n",
       "      <td>0</td>\n",
       "      <td>0</td>\n",
       "      <td>...</td>\n",
       "      <td>0</td>\n",
       "      <td>0</td>\n",
       "      <td>1</td>\n",
       "      <td>0</td>\n",
       "      <td>0</td>\n",
       "      <td>0</td>\n",
       "      <td>0</td>\n",
       "      <td>0</td>\n",
       "      <td>1</td>\n",
       "      <td>0</td>\n",
       "    </tr>\n",
       "    <tr>\n",
       "      <td>21594</td>\n",
       "      <td>1523300141</td>\n",
       "      <td>2014-06-23</td>\n",
       "      <td>402101.0</td>\n",
       "      <td>2</td>\n",
       "      <td>0.75</td>\n",
       "      <td>1020</td>\n",
       "      <td>1350</td>\n",
       "      <td>2.0</td>\n",
       "      <td>0</td>\n",
       "      <td>0</td>\n",
       "      <td>...</td>\n",
       "      <td>0</td>\n",
       "      <td>1</td>\n",
       "      <td>0</td>\n",
       "      <td>0</td>\n",
       "      <td>0</td>\n",
       "      <td>0</td>\n",
       "      <td>0</td>\n",
       "      <td>0</td>\n",
       "      <td>0</td>\n",
       "      <td>0</td>\n",
       "    </tr>\n",
       "    <tr>\n",
       "      <td>21596</td>\n",
       "      <td>1523300157</td>\n",
       "      <td>2014-10-15</td>\n",
       "      <td>325000.0</td>\n",
       "      <td>2</td>\n",
       "      <td>0.75</td>\n",
       "      <td>1020</td>\n",
       "      <td>1076</td>\n",
       "      <td>2.0</td>\n",
       "      <td>0</td>\n",
       "      <td>0</td>\n",
       "      <td>...</td>\n",
       "      <td>0</td>\n",
       "      <td>1</td>\n",
       "      <td>0</td>\n",
       "      <td>0</td>\n",
       "      <td>0</td>\n",
       "      <td>0</td>\n",
       "      <td>0</td>\n",
       "      <td>0</td>\n",
       "      <td>0</td>\n",
       "      <td>0</td>\n",
       "    </tr>\n",
       "  </tbody>\n",
       "</table>\n",
       "<p>13004 rows × 104 columns</p>\n",
       "</div>"
      ],
      "text/plain": [
       "               id       date      price  bedrooms  bathrooms  sqft_living  \\\n",
       "0      7129300520 2014-10-13   221900.0         3       1.00         1180   \n",
       "1      6414100192 2014-12-09   538000.0         3       2.25         2570   \n",
       "3      2487200875 2014-12-09   604000.0         4       3.00         1960   \n",
       "5      7237550310 2014-05-12  1230000.0         4       4.50         5420   \n",
       "6      1321400060 2014-06-27   257500.0         3       2.25         1715   \n",
       "...           ...        ...        ...       ...        ...          ...   \n",
       "21589  3448900210 2014-10-14   610685.0         4       2.50         2520   \n",
       "21592   263000018 2014-05-21   360000.0         3       2.50         1530   \n",
       "21593  6600060120 2015-02-23   400000.0         4       2.50         2310   \n",
       "21594  1523300141 2014-06-23   402101.0         2       0.75         1020   \n",
       "21596  1523300157 2014-10-15   325000.0         2       0.75         1020   \n",
       "\n",
       "       sqft_lot  floors  waterfront  view  ...  grd_6  grd_7  grd_8  grd_9  \\\n",
       "0          5650     1.0           0     0  ...      0      1      0      0   \n",
       "1          7242     2.0           0     0  ...      0      1      0      0   \n",
       "3          5000     1.0           0     0  ...      0      1      0      0   \n",
       "5        101930     1.0           0     0  ...      0      0      0      0   \n",
       "6          6819     2.0           0     0  ...      0      1      0      0   \n",
       "...         ...     ...         ...   ...  ...    ...    ...    ...    ...   \n",
       "21589      6023     2.0           0     0  ...      0      0      0      1   \n",
       "21592      1131     3.0           0     0  ...      0      0      1      0   \n",
       "21593      5813     2.0           0     0  ...      0      0      1      0   \n",
       "21594      1350     2.0           0     0  ...      0      1      0      0   \n",
       "21596      1076     2.0           0     0  ...      0      1      0      0   \n",
       "\n",
       "       grd_10  grd_11  grd_12  grd_13  neighb_living_compared  \\\n",
       "0           0       0       0       0                       0   \n",
       "1           0       0       0       0                       1   \n",
       "3           0       0       0       0                       1   \n",
       "5           0       1       0       0                       1   \n",
       "6           0       0       0       0                       0   \n",
       "...       ...     ...     ...     ...                     ...   \n",
       "21589       0       0       0       0                       0   \n",
       "21592       0       0       0       0                       0   \n",
       "21593       0       0       0       0                       1   \n",
       "21594       0       0       0       0                       0   \n",
       "21596       0       0       0       0                       0   \n",
       "\n",
       "       neighb_lot_compared  \n",
       "0                        0  \n",
       "1                        0  \n",
       "3                        0  \n",
       "5                        0  \n",
       "6                        0  \n",
       "...                    ...  \n",
       "21589                    0  \n",
       "21592                    0  \n",
       "21593                    0  \n",
       "21594                    0  \n",
       "21596                    0  \n",
       "\n",
       "[13004 rows x 104 columns]"
      ]
     },
     "execution_count": 60,
     "metadata": {},
     "output_type": "execute_result"
    }
   ],
   "source": [
    "df_compared[df_compared['neighb_lot_compared'] == 0]"
   ]
  },
  {
   "cell_type": "code",
   "execution_count": 618,
   "metadata": {
    "ExecuteTime": {
     "end_time": "2020-07-28T02:00:33.612583Z",
     "start_time": "2020-07-28T02:00:32.626147Z"
    },
    "scrolled": true
   },
   "outputs": [
    {
     "data": {
      "text/plain": [
       "<matplotlib.axes._subplots.AxesSubplot at 0x2131d1bef28>"
      ]
     },
     "execution_count": 618,
     "metadata": {},
     "output_type": "execute_result"
    },
    {
     "data": {
      "image/png": "[encoded data removed]",
      "text/plain": [
       "<Figure size 432x288 with 1 Axes>"
      ]
     },
     "metadata": {
      "needs_background": "light"
     },
     "output_type": "display_data"
    }
   ],
   "source": [
    "df_compared.plot(kind = 'scatter', x = 'neighb_lot_compared', y='price')"
   ]
  },
  {
   "cell_type": "code",
   "execution_count": 653,
   "metadata": {
    "ExecuteTime": {
     "end_time": "2020-07-28T17:35:37.474108Z",
     "start_time": "2020-07-28T17:35:35.788074Z"
    },
    "scrolled": false
   },
   "outputs": [
    {
     "name": "stderr",
     "output_type": "stream",
     "text": [
      "'c' argument looks like a single numeric RGB or RGBA sequence, which should be avoided as value-mapping will have precedence in case its length matches with 'x' & 'y'.  Please use a 2-D array with a single row if you really want to specify the same RGB or RGBA value for all points.\n"
     ]
    },
    {
     "data": {
      "text/plain": [
       "<matplotlib.axes._subplots.AxesSubplot at 0x2131d101e48>"
      ]
     },
     "execution_count": 653,
     "metadata": {},
     "output_type": "execute_result"
    },
    {
     "data": {
      "image/png": "[encoded data removed]",
      "text/plain": [
       "<Figure size 720x504 with 1 Axes>"
      ]
     },
     "metadata": {},
     "output_type": "display_data"
    }
   ],
   "source": [
    "df_compared.plot(figsize=(10,7),kind = 'scatter', x = 'neighb_living_compared', y='price')"
   ]
  },
  {
   "cell_type": "code",
   "execution_count": 620,
   "metadata": {
    "ExecuteTime": {
     "end_time": "2020-07-28T02:00:37.692253Z",
     "start_time": "2020-07-28T02:00:37.687257Z"
    }
   },
   "outputs": [],
   "source": [
    "# A binary comparision of whether living space and lot size is larger than \n",
    "# the neighbour average looks like a good indicator for price"
   ]
  },
  {
   "cell_type": "code",
   "execution_count": 621,
   "metadata": {
    "ExecuteTime": {
     "end_time": "2020-07-28T02:00:39.788127Z",
     "start_time": "2020-07-28T02:00:39.543266Z"
    }
   },
   "outputs": [
    {
     "name": "stdout",
     "output_type": "stream",
     "text": [
      "Train Mean Squarred Error: 21492058646.697422\n",
      "Test Mean Squarred Error: 27952131347.010265\n",
      "Train Root Mean Squarred Error: 146601.70069510592\n",
      "Test Root Mean Squarred Error: 167188.90916269016\n"
     ]
    }
   ],
   "source": [
    "    data = df_compared.copy()\n",
    "    y = data['price']\n",
    "    X = data.drop(['price','date','id','zipcode', 'has_basement', 'grade',\n",
    "                   'yr_renovated', 'renovated', 'floors', 'bathrooms'], axis = 1)\n",
    "    # create data sets with an 80/20 split - train/test\n",
    "    X_train, X_test, y_train, y_test = train_test_split(X, y, test_size = 0.2)\n",
    "    linreg = LinearRegression()\n",
    "    linreg.fit(X_train, y_train)\n",
    "\n",
    "    y_hat_train = linreg.predict(X_train)\n",
    "    y_hat_test = linreg.predict(X_test)\n",
    "\n",
    "    mse_train = np.sum((y_train-y_hat_train)**2)/len(y_train)\n",
    "    mse_test =np.sum((y_test-y_hat_test)**2)/len(y_test)\n",
    "    print('Train Mean Squarred Error:', mse_train)\n",
    "    print('Test Mean Squarred Error:', mse_test)\n",
    "    rmse_train = np.sqrt(mse_train)\n",
    "    rmse_test = np.sqrt(mse_test)\n",
    "    print('Train Root Mean Squarred Error:', rmse_train)\n",
    "    print('Test Root Mean Squarred Error:', rmse_test)"
   ]
  },
  {
   "cell_type": "code",
   "execution_count": 622,
   "metadata": {
    "ExecuteTime": {
     "end_time": "2020-07-28T02:00:40.781559Z",
     "start_time": "2020-07-28T02:00:40.765568Z"
    }
   },
   "outputs": [],
   "source": [
    "def haversine_distance(lat1, lon1):\n",
    "    # log, lat of the Seattle Space Needle, location i used to reference the center of seattle\n",
    "    lat2 = 47.620422\n",
    "    lon2 = -122.349358\n",
    "    r = 6371\n",
    "    phi1 = np.radians(lat1)\n",
    "    phi2 = np.radians(lat2)\n",
    "    delta_phi = np.radians(lat2 - lat1)\n",
    "    delta_lambda = np.radians(lon2 - lon1)\n",
    "    a = np.sin(delta_phi / 2)**2 + np.cos(phi1) * np.cos(phi2) *   np.sin(delta_lambda / 2)**2\n",
    "    res = r * (2 * np.arctan2(np.sqrt(a), np.sqrt(1 - a)))\n",
    "    return np.round(res, 2)"
   ]
  },
  {
   "cell_type": "code",
   "execution_count": 623,
   "metadata": {
    "ExecuteTime": {
     "end_time": "2020-07-28T02:00:52.141349Z",
     "start_time": "2020-07-28T02:00:42.069125Z"
    }
   },
   "outputs": [
    {
     "name": "stderr",
     "output_type": "stream",
     "text": [
      "C:\\Users\\Neel\\Anaconda3\\envs\\learn-env\\lib\\site-packages\\ipykernel_launcher.py:4: SettingWithCopyWarning: \n",
      "A value is trying to be set on a copy of a slice from a DataFrame\n",
      "\n",
      "See the caveats in the documentation: http://pandas.pydata.org/pandas-docs/stable/user_guide/indexing.html#returning-a-view-versus-a-copy\n",
      "  after removing the cwd from sys.path.\n"
     ]
    }
   ],
   "source": [
    "df_dist = df_compared.copy()\n",
    "df_dist['dist_to_center'] = 0\n",
    "for index, row in df_dist.iterrows():\n",
    "    df_dist['dist_to_center'][index] = haversine_distance(row['lat'], row['long'])"
   ]
  },
  {
   "cell_type": "code",
   "execution_count": 624,
   "metadata": {
    "ExecuteTime": {
     "end_time": "2020-07-28T02:00:52.156340Z",
     "start_time": "2020-07-28T02:00:52.144349Z"
    }
   },
   "outputs": [
    {
     "data": {
      "text/plain": [
       "0    13\n",
       "1    11\n",
       "2    15\n",
       "3    11\n",
       "4    22\n",
       "5    26\n",
       "6    34\n",
       "7    23\n",
       "8    12\n",
       "9    36\n",
       "Name: dist_to_center, dtype: int64"
      ]
     },
     "execution_count": 624,
     "metadata": {},
     "output_type": "execute_result"
    }
   ],
   "source": [
    "df_dist['dist_to_center'].head(10)"
   ]
  },
  {
   "cell_type": "code",
   "execution_count": 625,
   "metadata": {
    "ExecuteTime": {
     "end_time": "2020-07-28T02:00:53.027841Z",
     "start_time": "2020-07-28T02:00:52.167333Z"
    },
    "scrolled": false
   },
   "outputs": [
    {
     "data": {
      "text/plain": [
       "<matplotlib.axes._subplots.AxesSubplot at 0x2131d194f28>"
      ]
     },
     "execution_count": 625,
     "metadata": {},
     "output_type": "execute_result"
    },
    {
     "data": {
      "image/png": "[encoded data removed]",
      "text/plain": [
       "<Figure size 432x288 with 1 Axes>"
      ]
     },
     "metadata": {
      "needs_background": "light"
     },
     "output_type": "display_data"
    }
   ],
   "source": [
    "df_dist.plot(kind = 'scatter', x = 'dist_to_center', y='price')"
   ]
  },
  {
   "cell_type": "code",
   "execution_count": 626,
   "metadata": {
    "ExecuteTime": {
     "end_time": "2020-07-28T02:00:53.852372Z",
     "start_time": "2020-07-28T02:00:53.031839Z"
    },
    "scrolled": true
   },
   "outputs": [
    {
     "data": {
      "text/plain": [
       "<matplotlib.axes._subplots.AxesSubplot at 0x21321987860>"
      ]
     },
     "execution_count": 626,
     "metadata": {},
     "output_type": "execute_result"
    },
    {
     "data": {
      "image/png": "[encoded data removed]",
      "text/plain": [
       "<Figure size 432x288 with 1 Axes>"
      ]
     },
     "metadata": {
      "needs_background": "light"
     },
     "output_type": "display_data"
    }
   ],
   "source": [
    "df_dist.plot(kind = 'scatter', x = 'dist_to_center', y='sqft_lot')"
   ]
  },
  {
   "cell_type": "code",
   "execution_count": 627,
   "metadata": {
    "ExecuteTime": {
     "end_time": "2020-07-28T02:00:53.882353Z",
     "start_time": "2020-07-28T02:00:53.872359Z"
    }
   },
   "outputs": [],
   "source": [
    "# showing sqft_lot vs distance to center of seattle shows as expected being low, inverse to price."
   ]
  },
  {
   "cell_type": "code",
   "execution_count": 628,
   "metadata": {
    "ExecuteTime": {
     "end_time": "2020-07-28T02:00:54.421046Z",
     "start_time": "2020-07-28T02:00:53.886351Z"
    },
    "scrolled": false
   },
   "outputs": [
    {
     "data": {
      "text/plain": [
       "<matplotlib.axes._subplots.AxesSubplot at 0x213248d6828>"
      ]
     },
     "execution_count": 628,
     "metadata": {},
     "output_type": "execute_result"
    },
    {
     "data": {
      "image/png": "[encoded data removed]",
      "text/plain": [
       "<Figure size 720x504 with 1 Axes>"
      ]
     },
     "metadata": {
      "needs_background": "light"
     },
     "output_type": "display_data"
    }
   ],
   "source": [
    "df_dist['dist_to_center'].hist(figsize=(10,7), bins = 20)"
   ]
  },
  {
   "cell_type": "code",
   "execution_count": null,
   "metadata": {
    "ExecuteTime": {
     "end_time": "2020-07-28T13:10:00.356890Z",
     "start_time": "2020-07-28T13:09:58.471967Z"
    }
   },
   "outputs": [],
   "source": []
  },
  {
   "cell_type": "markdown",
   "metadata": {},
   "source": [
    "\n",
    "Most of the homes are closer to the center of the city, as expected density of homes increased in the center of cities, compared to the outer areas.\n"
   ]
  },
  {
   "cell_type": "code",
   "execution_count": 629,
   "metadata": {
    "ExecuteTime": {
     "end_time": "2020-07-28T02:03:20.894324Z",
     "start_time": "2020-07-28T02:03:20.717425Z"
    }
   },
   "outputs": [
    {
     "name": "stdout",
     "output_type": "stream",
     "text": [
      "Train Mean Squarred Error: 23184531292.01939\n",
      "Test Mean Squarred Error: 23796718786.452606\n",
      "Train Root Mean Squarred Error: 152264.67512860423\n",
      "Test Root Mean Squarred Error: 154261.85136466048\n"
     ]
    }
   ],
   "source": [
    "    data = df_dist.copy()\n",
    "    y = data['price']\n",
    "    X = data.drop(['price','date','id','zipcode', 'has_basement', 'grade',\n",
    "                   'yr_renovated', 'renovated', 'floors', 'bathrooms', 'lat',\n",
    "                   'long', 'sqft_living15', 'sqft_lot15', 'condition', 'yr_built'], axis = 1)\n",
    "    # create data sets with an 80/20 split - train/test\n",
    "    X_train, X_test, y_train, y_test = train_test_split(X, y, test_size = 0.2)\n",
    "    linreg = LinearRegression()\n",
    "    linreg.fit(X_train, y_train)\n",
    "\n",
    "    y_hat_train = linreg.predict(X_train)\n",
    "    y_hat_test = linreg.predict(X_test)\n",
    "\n",
    "    mse_train = np.sum((y_train-y_hat_train)**2)/len(y_train)\n",
    "    mse_test =np.sum((y_test-y_hat_test)**2)/len(y_test)\n",
    "    print('Train Mean Squarred Error:', mse_train)\n",
    "    print('Test Mean Squarred Error:', mse_test)\n",
    "    rmse_train = np.sqrt(mse_train)\n",
    "    rmse_test = np.sqrt(mse_test)\n",
    "    print('Train Root Mean Squarred Error:', rmse_train)\n",
    "    print('Test Root Mean Squarred Error:', rmse_test)"
   ]
  },
  {
   "cell_type": "code",
   "execution_count": 630,
   "metadata": {
    "ExecuteTime": {
     "end_time": "2020-07-28T02:03:24.027092Z",
     "start_time": "2020-07-28T02:03:23.306507Z"
    },
    "scrolled": false
   },
   "outputs": [
    {
     "data": {
      "text/html": [
       "<table class=\"simpletable\">\n",
       "<caption>OLS Regression Results</caption>\n",
       "<tr>\n",
       "  <th>Dep. Variable:</th>          <td>price</td>      <th>  R-squared:         </th>  <td>   0.828</td>  \n",
       "</tr>\n",
       "<tr>\n",
       "  <th>Model:</th>                   <td>OLS</td>       <th>  Adj. R-squared:    </th>  <td>   0.827</td>  \n",
       "</tr>\n",
       "<tr>\n",
       "  <th>Method:</th>             <td>Least Squares</td>  <th>  F-statistic:       </th>  <td>   1168.</td>  \n",
       "</tr>\n",
       "<tr>\n",
       "  <th>Date:</th>             <td>Tue, 28 Jul 2020</td> <th>  Prob (F-statistic):</th>   <td>  0.00</td>   \n",
       "</tr>\n",
       "<tr>\n",
       "  <th>Time:</th>                 <td>03:03:23</td>     <th>  Log-Likelihood:    </th> <td>-2.8604e+05</td>\n",
       "</tr>\n",
       "<tr>\n",
       "  <th>No. Observations:</th>      <td> 21420</td>      <th>  AIC:               </th>  <td>5.723e+05</td> \n",
       "</tr>\n",
       "<tr>\n",
       "  <th>Df Residuals:</th>          <td> 21331</td>      <th>  BIC:               </th>  <td>5.730e+05</td> \n",
       "</tr>\n",
       "<tr>\n",
       "  <th>Df Model:</th>              <td>    88</td>      <th>                     </th>      <td> </td>     \n",
       "</tr>\n",
       "<tr>\n",
       "  <th>Covariance Type:</th>      <td>nonrobust</td>    <th>                     </th>      <td> </td>     \n",
       "</tr>\n",
       "</table>\n",
       "<table class=\"simpletable\">\n",
       "<tr>\n",
       "             <td></td>               <th>coef</th>     <th>std err</th>      <th>t</th>      <th>P>|t|</th>  <th>[0.025</th>    <th>0.975]</th>  \n",
       "</tr>\n",
       "<tr>\n",
       "  <th>bedrooms</th>               <td>-8293.2164</td> <td> 1474.776</td> <td>   -5.623</td> <td> 0.000</td> <td>-1.12e+04</td> <td>-5402.545</td>\n",
       "</tr>\n",
       "<tr>\n",
       "  <th>sqft_living</th>            <td>  165.3524</td> <td>    3.174</td> <td>   52.099</td> <td> 0.000</td> <td>  159.131</td> <td>  171.573</td>\n",
       "</tr>\n",
       "<tr>\n",
       "  <th>sqft_lot</th>               <td>    0.2038</td> <td>    0.028</td> <td>    7.313</td> <td> 0.000</td> <td>    0.149</td> <td>    0.258</td>\n",
       "</tr>\n",
       "<tr>\n",
       "  <th>waterfront</th>             <td> 7.572e+05</td> <td> 1.34e+04</td> <td>   56.603</td> <td> 0.000</td> <td> 7.31e+05</td> <td> 7.83e+05</td>\n",
       "</tr>\n",
       "<tr>\n",
       "  <th>view</th>                   <td> 1.168e+05</td> <td> 4016.473</td> <td>   29.071</td> <td> 0.000</td> <td> 1.09e+05</td> <td> 1.25e+05</td>\n",
       "</tr>\n",
       "<tr>\n",
       "  <th>sqft_above</th>             <td>   21.0639</td> <td>    3.044</td> <td>    6.920</td> <td> 0.000</td> <td>   15.098</td> <td>   27.030</td>\n",
       "</tr>\n",
       "<tr>\n",
       "  <th>zip_98001</th>              <td>-2.557e+04</td> <td> 1.21e+04</td> <td>   -2.111</td> <td> 0.035</td> <td>-4.93e+04</td> <td>-1827.124</td>\n",
       "</tr>\n",
       "<tr>\n",
       "  <th>zip_98002</th>              <td> 1021.5752</td> <td> 1.44e+04</td> <td>    0.071</td> <td> 0.944</td> <td>-2.73e+04</td> <td> 2.93e+04</td>\n",
       "</tr>\n",
       "<tr>\n",
       "  <th>zip_98003</th>              <td> -3.73e+04</td> <td> 1.25e+04</td> <td>   -2.981</td> <td> 0.003</td> <td>-6.18e+04</td> <td>-1.28e+04</td>\n",
       "</tr>\n",
       "<tr>\n",
       "  <th>zip_98004</th>              <td> 5.995e+05</td> <td> 9417.052</td> <td>   63.661</td> <td> 0.000</td> <td> 5.81e+05</td> <td> 6.18e+05</td>\n",
       "</tr>\n",
       "<tr>\n",
       "  <th>zip_98005</th>              <td> 1.698e+05</td> <td> 1.21e+04</td> <td>   14.073</td> <td> 0.000</td> <td> 1.46e+05</td> <td> 1.93e+05</td>\n",
       "</tr>\n",
       "<tr>\n",
       "  <th>zip_98006</th>              <td> 1.257e+05</td> <td> 7373.132</td> <td>   17.045</td> <td> 0.000</td> <td> 1.11e+05</td> <td>  1.4e+05</td>\n",
       "</tr>\n",
       "<tr>\n",
       "  <th>zip_98007</th>              <td> 1.199e+05</td> <td> 1.31e+04</td> <td>    9.160</td> <td> 0.000</td> <td> 9.42e+04</td> <td> 1.45e+05</td>\n",
       "</tr>\n",
       "<tr>\n",
       "  <th>zip_98008</th>              <td> 1.438e+05</td> <td> 9356.298</td> <td>   15.372</td> <td> 0.000</td> <td> 1.25e+05</td> <td> 1.62e+05</td>\n",
       "</tr>\n",
       "<tr>\n",
       "  <th>zip_98010</th>              <td> 8.424e+04</td> <td> 1.94e+04</td> <td>    4.336</td> <td> 0.000</td> <td> 4.62e+04</td> <td> 1.22e+05</td>\n",
       "</tr>\n",
       "<tr>\n",
       "  <th>zip_98011</th>              <td> 6222.9671</td> <td> 1.12e+04</td> <td>    0.556</td> <td> 0.578</td> <td>-1.57e+04</td> <td> 2.82e+04</td>\n",
       "</tr>\n",
       "<tr>\n",
       "  <th>zip_98014</th>              <td> 7.771e+04</td> <td> 1.73e+04</td> <td>    4.502</td> <td> 0.000</td> <td> 4.39e+04</td> <td> 1.12e+05</td>\n",
       "</tr>\n",
       "<tr>\n",
       "  <th>zip_98019</th>              <td> 4.164e+04</td> <td> 1.35e+04</td> <td>    3.087</td> <td> 0.002</td> <td> 1.52e+04</td> <td> 6.81e+04</td>\n",
       "</tr>\n",
       "<tr>\n",
       "  <th>zip_98022</th>              <td> 9.231e+04</td> <td> 2.01e+04</td> <td>    4.604</td> <td> 0.000</td> <td>  5.3e+04</td> <td> 1.32e+05</td>\n",
       "</tr>\n",
       "<tr>\n",
       "  <th>zip_98023</th>              <td>-5.416e+04</td> <td> 1.12e+04</td> <td>   -4.833</td> <td> 0.000</td> <td>-7.61e+04</td> <td>-3.22e+04</td>\n",
       "</tr>\n",
       "<tr>\n",
       "  <th>zip_98024</th>              <td>  1.21e+05</td> <td> 1.92e+04</td> <td>    6.311</td> <td> 0.000</td> <td> 8.34e+04</td> <td> 1.59e+05</td>\n",
       "</tr>\n",
       "<tr>\n",
       "  <th>zip_98027</th>              <td> 7.913e+04</td> <td> 8919.224</td> <td>    8.872</td> <td> 0.000</td> <td> 6.16e+04</td> <td> 9.66e+04</td>\n",
       "</tr>\n",
       "<tr>\n",
       "  <th>zip_98028</th>              <td>-8160.4383</td> <td> 9353.679</td> <td>   -0.872</td> <td> 0.383</td> <td>-2.65e+04</td> <td> 1.02e+04</td>\n",
       "</tr>\n",
       "<tr>\n",
       "  <th>zip_98029</th>              <td>  1.39e+05</td> <td>    1e+04</td> <td>   13.879</td> <td> 0.000</td> <td> 1.19e+05</td> <td> 1.59e+05</td>\n",
       "</tr>\n",
       "<tr>\n",
       "  <th>zip_98030</th>              <td>-4.962e+04</td> <td> 1.18e+04</td> <td>   -4.213</td> <td> 0.000</td> <td>-7.27e+04</td> <td>-2.65e+04</td>\n",
       "</tr>\n",
       "<tr>\n",
       "  <th>zip_98031</th>              <td>-5.789e+04</td> <td> 1.07e+04</td> <td>   -5.422</td> <td> 0.000</td> <td>-7.88e+04</td> <td> -3.7e+04</td>\n",
       "</tr>\n",
       "<tr>\n",
       "  <th>zip_98032</th>              <td>-6.002e+04</td> <td> 1.48e+04</td> <td>   -4.049</td> <td> 0.000</td> <td>-8.91e+04</td> <td> -3.1e+04</td>\n",
       "</tr>\n",
       "<tr>\n",
       "  <th>zip_98033</th>              <td> 2.108e+05</td> <td> 7842.885</td> <td>   26.876</td> <td> 0.000</td> <td> 1.95e+05</td> <td> 2.26e+05</td>\n",
       "</tr>\n",
       "<tr>\n",
       "  <th>zip_98034</th>              <td> 5.674e+04</td> <td> 6997.515</td> <td>    8.108</td> <td> 0.000</td> <td>  4.3e+04</td> <td> 7.05e+04</td>\n",
       "</tr>\n",
       "<tr>\n",
       "  <th>zip_98038</th>              <td> 1.305e+04</td> <td> 1.17e+04</td> <td>    1.117</td> <td> 0.264</td> <td>-9854.798</td> <td>  3.6e+04</td>\n",
       "</tr>\n",
       "<tr>\n",
       "  <th>zip_98039</th>              <td> 1.065e+06</td> <td> 2.23e+04</td> <td>   47.865</td> <td> 0.000</td> <td> 1.02e+06</td> <td> 1.11e+06</td>\n",
       "</tr>\n",
       "<tr>\n",
       "  <th>zip_98040</th>              <td> 3.559e+05</td> <td> 9848.628</td> <td>   36.135</td> <td> 0.000</td> <td> 3.37e+05</td> <td> 3.75e+05</td>\n",
       "</tr>\n",
       "<tr>\n",
       "  <th>zip_98042</th>              <td>-2.545e+04</td> <td> 1.05e+04</td> <td>   -2.417</td> <td> 0.016</td> <td>-4.61e+04</td> <td>-4810.941</td>\n",
       "</tr>\n",
       "<tr>\n",
       "  <th>zip_98045</th>              <td> 1.385e+05</td> <td>  1.8e+04</td> <td>    7.694</td> <td> 0.000</td> <td> 1.03e+05</td> <td> 1.74e+05</td>\n",
       "</tr>\n",
       "<tr>\n",
       "  <th>zip_98052</th>              <td>  1.14e+05</td> <td> 6906.189</td> <td>   16.505</td> <td> 0.000</td> <td>    1e+05</td> <td> 1.28e+05</td>\n",
       "</tr>\n",
       "<tr>\n",
       "  <th>zip_98053</th>              <td> 1.156e+05</td> <td> 9085.974</td> <td>   12.721</td> <td> 0.000</td> <td> 9.78e+04</td> <td> 1.33e+05</td>\n",
       "</tr>\n",
       "<tr>\n",
       "  <th>zip_98055</th>              <td>-6.866e+04</td> <td> 9891.496</td> <td>   -6.942</td> <td> 0.000</td> <td>-8.81e+04</td> <td>-4.93e+04</td>\n",
       "</tr>\n",
       "<tr>\n",
       "  <th>zip_98056</th>              <td>-3.636e+04</td> <td> 7962.289</td> <td>   -4.566</td> <td> 0.000</td> <td> -5.2e+04</td> <td>-2.08e+04</td>\n",
       "</tr>\n",
       "<tr>\n",
       "  <th>zip_98058</th>              <td>-5.112e+04</td> <td> 8416.636</td> <td>   -6.074</td> <td> 0.000</td> <td>-6.76e+04</td> <td>-3.46e+04</td>\n",
       "</tr>\n",
       "<tr>\n",
       "  <th>zip_98059</th>              <td>-2.895e+04</td> <td> 7818.305</td> <td>   -3.703</td> <td> 0.000</td> <td>-4.43e+04</td> <td>-1.36e+04</td>\n",
       "</tr>\n",
       "<tr>\n",
       "  <th>zip_98065</th>              <td> 7.228e+04</td> <td> 1.36e+04</td> <td>    5.314</td> <td> 0.000</td> <td> 4.56e+04</td> <td> 9.89e+04</td>\n",
       "</tr>\n",
       "<tr>\n",
       "  <th>zip_98070</th>              <td>-8.331e+04</td> <td>  1.5e+04</td> <td>   -5.555</td> <td> 0.000</td> <td>-1.13e+05</td> <td>-5.39e+04</td>\n",
       "</tr>\n",
       "<tr>\n",
       "  <th>zip_98072</th>              <td> 5.488e+04</td> <td> 9810.683</td> <td>    5.594</td> <td> 0.000</td> <td> 3.56e+04</td> <td> 7.41e+04</td>\n",
       "</tr>\n",
       "<tr>\n",
       "  <th>zip_98074</th>              <td> 7.447e+04</td> <td> 8266.590</td> <td>    9.009</td> <td> 0.000</td> <td> 5.83e+04</td> <td> 9.07e+04</td>\n",
       "</tr>\n",
       "<tr>\n",
       "  <th>zip_98075</th>              <td> 8.229e+04</td> <td> 9414.830</td> <td>    8.740</td> <td> 0.000</td> <td> 6.38e+04</td> <td> 1.01e+05</td>\n",
       "</tr>\n",
       "<tr>\n",
       "  <th>zip_98077</th>              <td> 3.455e+04</td> <td>  1.2e+04</td> <td>    2.882</td> <td> 0.004</td> <td> 1.11e+04</td> <td>  5.8e+04</td>\n",
       "</tr>\n",
       "<tr>\n",
       "  <th>zip_98092</th>              <td>-3.062e+04</td> <td> 1.32e+04</td> <td>   -2.313</td> <td> 0.021</td> <td>-5.66e+04</td> <td>-4676.807</td>\n",
       "</tr>\n",
       "<tr>\n",
       "  <th>zip_98102</th>              <td> 2.669e+05</td> <td> 1.65e+04</td> <td>   16.201</td> <td> 0.000</td> <td> 2.35e+05</td> <td> 2.99e+05</td>\n",
       "</tr>\n",
       "<tr>\n",
       "  <th>zip_98103</th>              <td> 1.455e+05</td> <td> 8418.470</td> <td>   17.280</td> <td> 0.000</td> <td> 1.29e+05</td> <td> 1.62e+05</td>\n",
       "</tr>\n",
       "<tr>\n",
       "  <th>zip_98105</th>              <td> 2.959e+05</td> <td> 1.14e+04</td> <td>   25.854</td> <td> 0.000</td> <td> 2.73e+05</td> <td> 3.18e+05</td>\n",
       "</tr>\n",
       "<tr>\n",
       "  <th>zip_98106</th>              <td>-6.347e+04</td> <td> 9440.919</td> <td>   -6.723</td> <td> 0.000</td> <td> -8.2e+04</td> <td> -4.5e+04</td>\n",
       "</tr>\n",
       "<tr>\n",
       "  <th>zip_98107</th>              <td> 1.465e+05</td> <td>  1.1e+04</td> <td>   13.343</td> <td> 0.000</td> <td> 1.25e+05</td> <td> 1.68e+05</td>\n",
       "</tr>\n",
       "<tr>\n",
       "  <th>zip_98108</th>              <td>-6.845e+04</td> <td> 1.21e+04</td> <td>   -5.656</td> <td> 0.000</td> <td>-9.22e+04</td> <td>-4.47e+04</td>\n",
       "</tr>\n",
       "<tr>\n",
       "  <th>zip_98109</th>              <td> 2.916e+05</td> <td> 1.63e+04</td> <td>   17.850</td> <td> 0.000</td> <td>  2.6e+05</td> <td> 3.24e+05</td>\n",
       "</tr>\n",
       "<tr>\n",
       "  <th>zip_98112</th>              <td> 4.299e+05</td> <td> 1.14e+04</td> <td>   37.598</td> <td> 0.000</td> <td> 4.07e+05</td> <td> 4.52e+05</td>\n",
       "</tr>\n",
       "<tr>\n",
       "  <th>zip_98115</th>              <td> 1.556e+05</td> <td> 7983.154</td> <td>   19.492</td> <td> 0.000</td> <td>  1.4e+05</td> <td> 1.71e+05</td>\n",
       "</tr>\n",
       "<tr>\n",
       "  <th>zip_98116</th>              <td> 1.099e+05</td> <td> 1.01e+04</td> <td>   10.853</td> <td> 0.000</td> <td>    9e+04</td> <td>  1.3e+05</td>\n",
       "</tr>\n",
       "<tr>\n",
       "  <th>zip_98117</th>              <td> 1.371e+05</td> <td> 8205.098</td> <td>   16.714</td> <td> 0.000</td> <td> 1.21e+05</td> <td> 1.53e+05</td>\n",
       "</tr>\n",
       "<tr>\n",
       "  <th>zip_98118</th>              <td>-1.636e+04</td> <td> 7962.535</td> <td>   -2.055</td> <td> 0.040</td> <td> -3.2e+04</td> <td> -755.120</td>\n",
       "</tr>\n",
       "<tr>\n",
       "  <th>zip_98119</th>              <td> 2.785e+05</td> <td> 1.33e+04</td> <td>   20.894</td> <td> 0.000</td> <td> 2.52e+05</td> <td> 3.05e+05</td>\n",
       "</tr>\n",
       "<tr>\n",
       "  <th>zip_98122</th>              <td> 1.421e+05</td> <td> 1.11e+04</td> <td>   12.754</td> <td> 0.000</td> <td>  1.2e+05</td> <td> 1.64e+05</td>\n",
       "</tr>\n",
       "<tr>\n",
       "  <th>zip_98125</th>              <td> 3.383e+04</td> <td> 8375.650</td> <td>    4.039</td> <td> 0.000</td> <td> 1.74e+04</td> <td> 5.02e+04</td>\n",
       "</tr>\n",
       "<tr>\n",
       "  <th>zip_98126</th>              <td> 7165.6071</td> <td> 9349.170</td> <td>    0.766</td> <td> 0.443</td> <td>-1.12e+04</td> <td> 2.55e+04</td>\n",
       "</tr>\n",
       "<tr>\n",
       "  <th>zip_98133</th>              <td> 6157.2909</td> <td> 7570.748</td> <td>    0.813</td> <td> 0.416</td> <td>-8681.945</td> <td>  2.1e+04</td>\n",
       "</tr>\n",
       "<tr>\n",
       "  <th>zip_98136</th>              <td> 7.304e+04</td> <td> 1.03e+04</td> <td>    7.105</td> <td> 0.000</td> <td> 5.29e+04</td> <td> 9.32e+04</td>\n",
       "</tr>\n",
       "<tr>\n",
       "  <th>zip_98144</th>              <td> 7.807e+04</td> <td> 1.02e+04</td> <td>    7.649</td> <td> 0.000</td> <td> 5.81e+04</td> <td> 9.81e+04</td>\n",
       "</tr>\n",
       "<tr>\n",
       "  <th>zip_98146</th>              <td>-5.539e+04</td> <td> 9564.033</td> <td>   -5.792</td> <td> 0.000</td> <td>-7.41e+04</td> <td>-3.66e+04</td>\n",
       "</tr>\n",
       "<tr>\n",
       "  <th>zip_98148</th>              <td>-4.964e+04</td> <td> 2.04e+04</td> <td>   -2.432</td> <td> 0.015</td> <td>-8.96e+04</td> <td>-9641.089</td>\n",
       "</tr>\n",
       "<tr>\n",
       "  <th>zip_98155</th>              <td> 6326.8440</td> <td> 7648.558</td> <td>    0.827</td> <td> 0.408</td> <td>-8664.904</td> <td> 2.13e+04</td>\n",
       "</tr>\n",
       "<tr>\n",
       "  <th>zip_98166</th>              <td>-6.075e+04</td> <td> 9939.210</td> <td>   -6.112</td> <td> 0.000</td> <td>-8.02e+04</td> <td>-4.13e+04</td>\n",
       "</tr>\n",
       "<tr>\n",
       "  <th>zip_98168</th>              <td> -1.02e+05</td> <td> 9773.633</td> <td>  -10.432</td> <td> 0.000</td> <td>-1.21e+05</td> <td>-8.28e+04</td>\n",
       "</tr>\n",
       "<tr>\n",
       "  <th>zip_98177</th>              <td> 7.956e+04</td> <td> 9932.994</td> <td>    8.009</td> <td> 0.000</td> <td> 6.01e+04</td> <td>  9.9e+04</td>\n",
       "</tr>\n",
       "<tr>\n",
       "  <th>zip_98178</th>              <td>-1.208e+05</td> <td> 9832.050</td> <td>  -12.283</td> <td> 0.000</td> <td> -1.4e+05</td> <td>-1.01e+05</td>\n",
       "</tr>\n",
       "<tr>\n",
       "  <th>zip_98188</th>              <td>-8.473e+04</td> <td> 1.33e+04</td> <td>   -6.359</td> <td> 0.000</td> <td>-1.11e+05</td> <td>-5.86e+04</td>\n",
       "</tr>\n",
       "<tr>\n",
       "  <th>zip_98198</th>              <td> -7.97e+04</td> <td> 1.04e+04</td> <td>   -7.697</td> <td> 0.000</td> <td>   -1e+05</td> <td>-5.94e+04</td>\n",
       "</tr>\n",
       "<tr>\n",
       "  <th>zip_98199</th>              <td> 1.892e+05</td> <td> 1.06e+04</td> <td>   17.857</td> <td> 0.000</td> <td> 1.68e+05</td> <td>  2.1e+05</td>\n",
       "</tr>\n",
       "<tr>\n",
       "  <th>grd_3</th>                  <td> 4.011e+05</td> <td> 1.52e+05</td> <td>    2.647</td> <td> 0.008</td> <td> 1.04e+05</td> <td> 6.98e+05</td>\n",
       "</tr>\n",
       "<tr>\n",
       "  <th>grd_4</th>                  <td> 2.325e+05</td> <td> 3.04e+04</td> <td>    7.658</td> <td> 0.000</td> <td> 1.73e+05</td> <td> 2.92e+05</td>\n",
       "</tr>\n",
       "<tr>\n",
       "  <th>grd_5</th>                  <td> 2.019e+05</td> <td> 1.34e+04</td> <td>   15.035</td> <td> 0.000</td> <td> 1.76e+05</td> <td> 2.28e+05</td>\n",
       "</tr>\n",
       "<tr>\n",
       "  <th>grd_6</th>                  <td> 1.959e+05</td> <td> 9497.855</td> <td>   20.629</td> <td> 0.000</td> <td> 1.77e+05</td> <td> 2.15e+05</td>\n",
       "</tr>\n",
       "<tr>\n",
       "  <th>grd_7</th>                  <td> 1.902e+05</td> <td> 9195.289</td> <td>   20.680</td> <td> 0.000</td> <td> 1.72e+05</td> <td> 2.08e+05</td>\n",
       "</tr>\n",
       "<tr>\n",
       "  <th>grd_8</th>                  <td> 2.029e+05</td> <td> 9527.634</td> <td>   21.299</td> <td> 0.000</td> <td> 1.84e+05</td> <td> 2.22e+05</td>\n",
       "</tr>\n",
       "<tr>\n",
       "  <th>grd_9</th>                  <td> 2.708e+05</td> <td> 1.04e+04</td> <td>   26.153</td> <td> 0.000</td> <td> 2.51e+05</td> <td> 2.91e+05</td>\n",
       "</tr>\n",
       "<tr>\n",
       "  <th>grd_10</th>                 <td> 3.902e+05</td> <td> 1.15e+04</td> <td>   33.825</td> <td> 0.000</td> <td> 3.68e+05</td> <td> 4.13e+05</td>\n",
       "</tr>\n",
       "<tr>\n",
       "  <th>grd_11</th>                 <td> 5.782e+05</td> <td> 1.39e+04</td> <td>   41.498</td> <td> 0.000</td> <td> 5.51e+05</td> <td> 6.05e+05</td>\n",
       "</tr>\n",
       "<tr>\n",
       "  <th>grd_12</th>                 <td> 1.001e+06</td> <td> 2.11e+04</td> <td>   47.324</td> <td> 0.000</td> <td> 9.59e+05</td> <td> 1.04e+06</td>\n",
       "</tr>\n",
       "<tr>\n",
       "  <th>grd_13</th>                 <td> 2.079e+06</td> <td> 4.54e+04</td> <td>   45.786</td> <td> 0.000</td> <td> 1.99e+06</td> <td> 2.17e+06</td>\n",
       "</tr>\n",
       "<tr>\n",
       "  <th>neighb_living_compared</th> <td> -3.11e+04</td> <td> 2588.347</td> <td>  -12.015</td> <td> 0.000</td> <td>-3.62e+04</td> <td> -2.6e+04</td>\n",
       "</tr>\n",
       "<tr>\n",
       "  <th>neighb_lot_compared</th>    <td> 9806.4128</td> <td> 2188.093</td> <td>    4.482</td> <td> 0.000</td> <td> 5517.586</td> <td> 1.41e+04</td>\n",
       "</tr>\n",
       "<tr>\n",
       "  <th>dist_to_center</th>         <td>-6272.9418</td> <td>  483.574</td> <td>  -12.972</td> <td> 0.000</td> <td>-7220.784</td> <td>-5325.100</td>\n",
       "</tr>\n",
       "</table>\n",
       "<table class=\"simpletable\">\n",
       "<tr>\n",
       "  <th>Omnibus:</th>       <td>15773.237</td> <th>  Durbin-Watson:     </th>  <td>   1.999</td>  \n",
       "</tr>\n",
       "<tr>\n",
       "  <th>Prob(Omnibus):</th>  <td> 0.000</td>   <th>  Jarque-Bera (JB):  </th> <td>1531987.818</td>\n",
       "</tr>\n",
       "<tr>\n",
       "  <th>Skew:</th>           <td> 2.812</td>   <th>  Prob(JB):          </th>  <td>    0.00</td>  \n",
       "</tr>\n",
       "<tr>\n",
       "  <th>Kurtosis:</th>       <td>44.047</td>   <th>  Cond. No.          </th>  <td>5.24e+20</td>  \n",
       "</tr>\n",
       "</table><br/><br/>Warnings:<br/>[1] Standard Errors assume that the covariance matrix of the errors is correctly specified.<br/>[2] The smallest eigenvalue is 1.52e-28. This might indicate that there are<br/>strong multicollinearity problems or that the design matrix is singular."
      ],
      "text/plain": [
       "<class 'statsmodels.iolib.summary.Summary'>\n",
       "\"\"\"\n",
       "                            OLS Regression Results                            \n",
       "==============================================================================\n",
       "Dep. Variable:                  price   R-squared:                       0.828\n",
       "Model:                            OLS   Adj. R-squared:                  0.827\n",
       "Method:                 Least Squares   F-statistic:                     1168.\n",
       "Date:                Tue, 28 Jul 2020   Prob (F-statistic):               0.00\n",
       "Time:                        03:03:23   Log-Likelihood:            -2.8604e+05\n",
       "No. Observations:               21420   AIC:                         5.723e+05\n",
       "Df Residuals:                   21331   BIC:                         5.730e+05\n",
       "Df Model:                          88                                         \n",
       "Covariance Type:            nonrobust                                         \n",
       "==========================================================================================\n",
       "                             coef    std err          t      P>|t|      [0.025      0.975]\n",
       "------------------------------------------------------------------------------------------\n",
       "bedrooms               -8293.2164   1474.776     -5.623      0.000   -1.12e+04   -5402.545\n",
       "sqft_living              165.3524      3.174     52.099      0.000     159.131     171.573\n",
       "sqft_lot                   0.2038      0.028      7.313      0.000       0.149       0.258\n",
       "waterfront              7.572e+05   1.34e+04     56.603      0.000    7.31e+05    7.83e+05\n",
       "view                    1.168e+05   4016.473     29.071      0.000    1.09e+05    1.25e+05\n",
       "sqft_above                21.0639      3.044      6.920      0.000      15.098      27.030\n",
       "zip_98001              -2.557e+04   1.21e+04     -2.111      0.035   -4.93e+04   -1827.124\n",
       "zip_98002               1021.5752   1.44e+04      0.071      0.944   -2.73e+04    2.93e+04\n",
       "zip_98003               -3.73e+04   1.25e+04     -2.981      0.003   -6.18e+04   -1.28e+04\n",
       "zip_98004               5.995e+05   9417.052     63.661      0.000    5.81e+05    6.18e+05\n",
       "zip_98005               1.698e+05   1.21e+04     14.073      0.000    1.46e+05    1.93e+05\n",
       "zip_98006               1.257e+05   7373.132     17.045      0.000    1.11e+05     1.4e+05\n",
       "zip_98007               1.199e+05   1.31e+04      9.160      0.000    9.42e+04    1.45e+05\n",
       "zip_98008               1.438e+05   9356.298     15.372      0.000    1.25e+05    1.62e+05\n",
       "zip_98010               8.424e+04   1.94e+04      4.336      0.000    4.62e+04    1.22e+05\n",
       "zip_98011               6222.9671   1.12e+04      0.556      0.578   -1.57e+04    2.82e+04\n",
       "zip_98014               7.771e+04   1.73e+04      4.502      0.000    4.39e+04    1.12e+05\n",
       "zip_98019               4.164e+04   1.35e+04      3.087      0.002    1.52e+04    6.81e+04\n",
       "zip_98022               9.231e+04   2.01e+04      4.604      0.000     5.3e+04    1.32e+05\n",
       "zip_98023              -5.416e+04   1.12e+04     -4.833      0.000   -7.61e+04   -3.22e+04\n",
       "zip_98024                1.21e+05   1.92e+04      6.311      0.000    8.34e+04    1.59e+05\n",
       "zip_98027               7.913e+04   8919.224      8.872      0.000    6.16e+04    9.66e+04\n",
       "zip_98028              -8160.4383   9353.679     -0.872      0.383   -2.65e+04    1.02e+04\n",
       "zip_98029                1.39e+05      1e+04     13.879      0.000    1.19e+05    1.59e+05\n",
       "zip_98030              -4.962e+04   1.18e+04     -4.213      0.000   -7.27e+04   -2.65e+04\n",
       "zip_98031              -5.789e+04   1.07e+04     -5.422      0.000   -7.88e+04    -3.7e+04\n",
       "zip_98032              -6.002e+04   1.48e+04     -4.049      0.000   -8.91e+04    -3.1e+04\n",
       "zip_98033               2.108e+05   7842.885     26.876      0.000    1.95e+05    2.26e+05\n",
       "zip_98034               5.674e+04   6997.515      8.108      0.000     4.3e+04    7.05e+04\n",
       "zip_98038               1.305e+04   1.17e+04      1.117      0.264   -9854.798     3.6e+04\n",
       "zip_98039               1.065e+06   2.23e+04     47.865      0.000    1.02e+06    1.11e+06\n",
       "zip_98040               3.559e+05   9848.628     36.135      0.000    3.37e+05    3.75e+05\n",
       "zip_98042              -2.545e+04   1.05e+04     -2.417      0.016   -4.61e+04   -4810.941\n",
       "zip_98045               1.385e+05    1.8e+04      7.694      0.000    1.03e+05    1.74e+05\n",
       "zip_98052                1.14e+05   6906.189     16.505      0.000       1e+05    1.28e+05\n",
       "zip_98053               1.156e+05   9085.974     12.721      0.000    9.78e+04    1.33e+05\n",
       "zip_98055              -6.866e+04   9891.496     -6.942      0.000   -8.81e+04   -4.93e+04\n",
       "zip_98056              -3.636e+04   7962.289     -4.566      0.000    -5.2e+04   -2.08e+04\n",
       "zip_98058              -5.112e+04   8416.636     -6.074      0.000   -6.76e+04   -3.46e+04\n",
       "zip_98059              -2.895e+04   7818.305     -3.703      0.000   -4.43e+04   -1.36e+04\n",
       "zip_98065               7.228e+04   1.36e+04      5.314      0.000    4.56e+04    9.89e+04\n",
       "zip_98070              -8.331e+04    1.5e+04     -5.555      0.000   -1.13e+05   -5.39e+04\n",
       "zip_98072               5.488e+04   9810.683      5.594      0.000    3.56e+04    7.41e+04\n",
       "zip_98074               7.447e+04   8266.590      9.009      0.000    5.83e+04    9.07e+04\n",
       "zip_98075               8.229e+04   9414.830      8.740      0.000    6.38e+04    1.01e+05\n",
       "zip_98077               3.455e+04    1.2e+04      2.882      0.004    1.11e+04     5.8e+04\n",
       "zip_98092              -3.062e+04   1.32e+04     -2.313      0.021   -5.66e+04   -4676.807\n",
       "zip_98102               2.669e+05   1.65e+04     16.201      0.000    2.35e+05    2.99e+05\n",
       "zip_98103               1.455e+05   8418.470     17.280      0.000    1.29e+05    1.62e+05\n",
       "zip_98105               2.959e+05   1.14e+04     25.854      0.000    2.73e+05    3.18e+05\n",
       "zip_98106              -6.347e+04   9440.919     -6.723      0.000    -8.2e+04    -4.5e+04\n",
       "zip_98107               1.465e+05    1.1e+04     13.343      0.000    1.25e+05    1.68e+05\n",
       "zip_98108              -6.845e+04   1.21e+04     -5.656      0.000   -9.22e+04   -4.47e+04\n",
       "zip_98109               2.916e+05   1.63e+04     17.850      0.000     2.6e+05    3.24e+05\n",
       "zip_98112               4.299e+05   1.14e+04     37.598      0.000    4.07e+05    4.52e+05\n",
       "zip_98115               1.556e+05   7983.154     19.492      0.000     1.4e+05    1.71e+05\n",
       "zip_98116               1.099e+05   1.01e+04     10.853      0.000       9e+04     1.3e+05\n",
       "zip_98117               1.371e+05   8205.098     16.714      0.000    1.21e+05    1.53e+05\n",
       "zip_98118              -1.636e+04   7962.535     -2.055      0.040    -3.2e+04    -755.120\n",
       "zip_98119               2.785e+05   1.33e+04     20.894      0.000    2.52e+05    3.05e+05\n",
       "zip_98122               1.421e+05   1.11e+04     12.754      0.000     1.2e+05    1.64e+05\n",
       "zip_98125               3.383e+04   8375.650      4.039      0.000    1.74e+04    5.02e+04\n",
       "zip_98126               7165.6071   9349.170      0.766      0.443   -1.12e+04    2.55e+04\n",
       "zip_98133               6157.2909   7570.748      0.813      0.416   -8681.945     2.1e+04\n",
       "zip_98136               7.304e+04   1.03e+04      7.105      0.000    5.29e+04    9.32e+04\n",
       "zip_98144               7.807e+04   1.02e+04      7.649      0.000    5.81e+04    9.81e+04\n",
       "zip_98146              -5.539e+04   9564.033     -5.792      0.000   -7.41e+04   -3.66e+04\n",
       "zip_98148              -4.964e+04   2.04e+04     -2.432      0.015   -8.96e+04   -9641.089\n",
       "zip_98155               6326.8440   7648.558      0.827      0.408   -8664.904    2.13e+04\n",
       "zip_98166              -6.075e+04   9939.210     -6.112      0.000   -8.02e+04   -4.13e+04\n",
       "zip_98168               -1.02e+05   9773.633    -10.432      0.000   -1.21e+05   -8.28e+04\n",
       "zip_98177               7.956e+04   9932.994      8.009      0.000    6.01e+04     9.9e+04\n",
       "zip_98178              -1.208e+05   9832.050    -12.283      0.000    -1.4e+05   -1.01e+05\n",
       "zip_98188              -8.473e+04   1.33e+04     -6.359      0.000   -1.11e+05   -5.86e+04\n",
       "zip_98198               -7.97e+04   1.04e+04     -7.697      0.000      -1e+05   -5.94e+04\n",
       "zip_98199               1.892e+05   1.06e+04     17.857      0.000    1.68e+05     2.1e+05\n",
       "grd_3                   4.011e+05   1.52e+05      2.647      0.008    1.04e+05    6.98e+05\n",
       "grd_4                   2.325e+05   3.04e+04      7.658      0.000    1.73e+05    2.92e+05\n",
       "grd_5                   2.019e+05   1.34e+04     15.035      0.000    1.76e+05    2.28e+05\n",
       "grd_6                   1.959e+05   9497.855     20.629      0.000    1.77e+05    2.15e+05\n",
       "grd_7                   1.902e+05   9195.289     20.680      0.000    1.72e+05    2.08e+05\n",
       "grd_8                   2.029e+05   9527.634     21.299      0.000    1.84e+05    2.22e+05\n",
       "grd_9                   2.708e+05   1.04e+04     26.153      0.000    2.51e+05    2.91e+05\n",
       "grd_10                  3.902e+05   1.15e+04     33.825      0.000    3.68e+05    4.13e+05\n",
       "grd_11                  5.782e+05   1.39e+04     41.498      0.000    5.51e+05    6.05e+05\n",
       "grd_12                  1.001e+06   2.11e+04     47.324      0.000    9.59e+05    1.04e+06\n",
       "grd_13                  2.079e+06   4.54e+04     45.786      0.000    1.99e+06    2.17e+06\n",
       "neighb_living_compared  -3.11e+04   2588.347    -12.015      0.000   -3.62e+04    -2.6e+04\n",
       "neighb_lot_compared     9806.4128   2188.093      4.482      0.000    5517.586    1.41e+04\n",
       "dist_to_center         -6272.9418    483.574    -12.972      0.000   -7220.784   -5325.100\n",
       "==============================================================================\n",
       "Omnibus:                    15773.237   Durbin-Watson:                   1.999\n",
       "Prob(Omnibus):                  0.000   Jarque-Bera (JB):          1531987.818\n",
       "Skew:                           2.812   Prob(JB):                         0.00\n",
       "Kurtosis:                      44.047   Cond. No.                     5.24e+20\n",
       "==============================================================================\n",
       "\n",
       "Warnings:\n",
       "[1] Standard Errors assume that the covariance matrix of the errors is correctly specified.\n",
       "[2] The smallest eigenvalue is 1.52e-28. This might indicate that there are\n",
       "strong multicollinearity problems or that the design matrix is singular.\n",
       "\"\"\""
      ]
     },
     "execution_count": 630,
     "metadata": {},
     "output_type": "execute_result"
    }
   ],
   "source": [
    "from statsmodels.api import OLS\n",
    "OLS(y, X).fit().summary()"
   ]
  },
  {
   "cell_type": "code",
   "execution_count": 631,
   "metadata": {
    "ExecuteTime": {
     "end_time": "2020-07-28T02:03:30.268801Z",
     "start_time": "2020-07-28T02:03:30.265804Z"
    }
   },
   "outputs": [],
   "source": [
    "# predicted = cross_val_predict(linreg, X, y, cv=10)\n",
    "\n",
    "# fig, ax = plt.subplots()\n",
    "# ax.scatter(y, predicted)\n",
    "# ax.plot([y.min(), y.max()], [y.min(), y.max()], 'k--', lw=4)\n",
    "# ax.set_xlabel('Measured')\n",
    "# ax.set_ylabel('Predicted')\n",
    "# plt.show()"
   ]
  },
  {
   "cell_type": "code",
   "execution_count": 632,
   "metadata": {
    "ExecuteTime": {
     "end_time": "2020-07-28T02:03:47.144182Z",
     "start_time": "2020-07-28T02:03:31.357180Z"
    },
    "scrolled": true
   },
   "outputs": [
    {
     "name": "stderr",
     "output_type": "stream",
     "text": [
      "C:\\Users\\Neel\\Anaconda3\\envs\\learn-env\\lib\\site-packages\\ipykernel_launcher.py:20: SettingWithCopyWarning: \n",
      "A value is trying to be set on a copy of a slice from a DataFrame\n",
      "\n",
      "See the caveats in the documentation: http://pandas.pydata.org/pandas-docs/stable/user_guide/indexing.html#returning-a-view-versus-a-copy\n",
      "C:\\Users\\Neel\\Anaconda3\\envs\\learn-env\\lib\\site-packages\\ipykernel_launcher.py:14: SettingWithCopyWarning: \n",
      "A value is trying to be set on a copy of a slice from a DataFrame\n",
      "\n",
      "See the caveats in the documentation: http://pandas.pydata.org/pandas-docs/stable/user_guide/indexing.html#returning-a-view-versus-a-copy\n",
      "  \n",
      "C:\\Users\\Neel\\Anaconda3\\envs\\learn-env\\lib\\site-packages\\ipykernel_launcher.py:10: SettingWithCopyWarning: \n",
      "A value is trying to be set on a copy of a slice from a DataFrame\n",
      "\n",
      "See the caveats in the documentation: http://pandas.pydata.org/pandas-docs/stable/user_guide/indexing.html#returning-a-view-versus-a-copy\n",
      "  # Remove the CWD from sys.path while we load stuff.\n",
      "C:\\Users\\Neel\\Anaconda3\\envs\\learn-env\\lib\\site-packages\\ipykernel_launcher.py:8: SettingWithCopyWarning: \n",
      "A value is trying to be set on a copy of a slice from a DataFrame\n",
      "\n",
      "See the caveats in the documentation: http://pandas.pydata.org/pandas-docs/stable/user_guide/indexing.html#returning-a-view-versus-a-copy\n",
      "  \n",
      "C:\\Users\\Neel\\Anaconda3\\envs\\learn-env\\lib\\site-packages\\ipykernel_launcher.py:6: SettingWithCopyWarning: \n",
      "A value is trying to be set on a copy of a slice from a DataFrame\n",
      "\n",
      "See the caveats in the documentation: http://pandas.pydata.org/pandas-docs/stable/user_guide/indexing.html#returning-a-view-versus-a-copy\n",
      "  \n",
      "C:\\Users\\Neel\\Anaconda3\\envs\\learn-env\\lib\\site-packages\\ipykernel_launcher.py:18: SettingWithCopyWarning: \n",
      "A value is trying to be set on a copy of a slice from a DataFrame\n",
      "\n",
      "See the caveats in the documentation: http://pandas.pydata.org/pandas-docs/stable/user_guide/indexing.html#returning-a-view-versus-a-copy\n",
      "C:\\Users\\Neel\\Anaconda3\\envs\\learn-env\\lib\\site-packages\\ipykernel_launcher.py:16: SettingWithCopyWarning: \n",
      "A value is trying to be set on a copy of a slice from a DataFrame\n",
      "\n",
      "See the caveats in the documentation: http://pandas.pydata.org/pandas-docs/stable/user_guide/indexing.html#returning-a-view-versus-a-copy\n",
      "  app.launch_new_instance()\n",
      "C:\\Users\\Neel\\Anaconda3\\envs\\learn-env\\lib\\site-packages\\ipykernel_launcher.py:12: SettingWithCopyWarning: \n",
      "A value is trying to be set on a copy of a slice from a DataFrame\n",
      "\n",
      "See the caveats in the documentation: http://pandas.pydata.org/pandas-docs/stable/user_guide/indexing.html#returning-a-view-versus-a-copy\n",
      "  if sys.path[0] == '':\n"
     ]
    }
   ],
   "source": [
    "#df_zip_grd[df_zip_grd['yr_renovated'] > 0]['yr_renovated'].head(50)\n",
    "df_ren = df_dist.copy()\n",
    "\n",
    "for index, row in df_ren.iterrows():\n",
    "    if row['yr_renovated'] <= 2015.0 and row['yr_renovated'] > 2010:\n",
    "        df_ren['renovated'][index] = 'within 5 years'\n",
    "    elif row['yr_renovated'] <= 2010 and row['yr_renovated'] > 2005:\n",
    "        df_ren['renovated'][index] = '5 - 10 years'\n",
    "    elif row['yr_renovated'] <= 2005 and row['yr_renovated'] > 2000:\n",
    "        df_ren['renovated'][index] = '10 - 15 years'\n",
    "    elif row['yr_renovated'] <= 2000 and row['yr_renovated'] > 1995:\n",
    "        df_ren['renovated'][index] = '15 - 20 years'\n",
    "    elif row['yr_renovated'] <= 1995 and row['yr_renovated'] > 1990:\n",
    "        df_ren['renovated'][index] = '20 - 25 years'\n",
    "    elif row['yr_renovated'] <= 1990 and row['yr_renovated'] > 1985:\n",
    "        df_ren['renovated'][index] = '25 - 30 years'\n",
    "    elif row['yr_renovated'] <= 1985 and row['yr_renovated'] > 1980:\n",
    "        df_ren['renovated'][index] = '30 - 35 years'\n",
    "    else:\n",
    "        df_ren['renovated'][index] = 'over 35 years'"
   ]
  },
  {
   "cell_type": "code",
   "execution_count": null,
   "metadata": {
    "ExecuteTime": {
     "end_time": "2020-07-27T15:13:25.235988Z",
     "start_time": "2020-07-27T15:13:25.232989Z"
    }
   },
   "outputs": [],
   "source": []
  },
  {
   "cell_type": "code",
   "execution_count": 633,
   "metadata": {
    "ExecuteTime": {
     "end_time": "2020-07-28T02:03:47.163153Z",
     "start_time": "2020-07-28T02:03:47.147163Z"
    }
   },
   "outputs": [
    {
     "data": {
      "text/plain": [
       "over 35 years     20784\n",
       "within 5 years      135\n",
       "10 - 15 years       114\n",
       "5 - 10 years        101\n",
       "15 - 20 years        83\n",
       "25 - 30 years        80\n",
       "20 - 25 years        67\n",
       "30 - 35 years        56\n",
       "Name: renovated, dtype: int64"
      ]
     },
     "execution_count": 633,
     "metadata": {},
     "output_type": "execute_result"
    }
   ],
   "source": [
    "df_ren['renovated'].value_counts()"
   ]
  },
  {
   "cell_type": "code",
   "execution_count": 634,
   "metadata": {
    "ExecuteTime": {
     "end_time": "2020-07-28T02:03:56.064289Z",
     "start_time": "2020-07-28T02:03:56.013318Z"
    },
    "scrolled": true
   },
   "outputs": [
    {
     "data": {
      "text/html": [
       "<div>\n",
       "<style scoped>\n",
       "    .dataframe tbody tr th:only-of-type {\n",
       "        vertical-align: middle;\n",
       "    }\n",
       "\n",
       "    .dataframe tbody tr th {\n",
       "        vertical-align: top;\n",
       "    }\n",
       "\n",
       "    .dataframe thead th {\n",
       "        text-align: right;\n",
       "    }\n",
       "</style>\n",
       "<table border=\"1\" class=\"dataframe\">\n",
       "  <thead>\n",
       "    <tr style=\"text-align: right;\">\n",
       "      <th></th>\n",
       "      <th>id</th>\n",
       "      <th>date</th>\n",
       "      <th>price</th>\n",
       "      <th>bedrooms</th>\n",
       "      <th>bathrooms</th>\n",
       "      <th>sqft_living</th>\n",
       "      <th>sqft_lot</th>\n",
       "      <th>floors</th>\n",
       "      <th>waterfront</th>\n",
       "      <th>view</th>\n",
       "      <th>...</th>\n",
       "      <th>grd_8</th>\n",
       "      <th>grd_9</th>\n",
       "      <th>grd_10</th>\n",
       "      <th>grd_11</th>\n",
       "      <th>grd_12</th>\n",
       "      <th>grd_13</th>\n",
       "      <th>renovated</th>\n",
       "      <th>neighb_living_compared</th>\n",
       "      <th>neighb_lot_compared</th>\n",
       "      <th>dist_to_center</th>\n",
       "    </tr>\n",
       "  </thead>\n",
       "  <tbody>\n",
       "    <tr>\n",
       "      <td>0</td>\n",
       "      <td>7129300520</td>\n",
       "      <td>2014-10-13</td>\n",
       "      <td>221900.0</td>\n",
       "      <td>3</td>\n",
       "      <td>1.00</td>\n",
       "      <td>1180</td>\n",
       "      <td>5650</td>\n",
       "      <td>1.0</td>\n",
       "      <td>0</td>\n",
       "      <td>0</td>\n",
       "      <td>...</td>\n",
       "      <td>0</td>\n",
       "      <td>0</td>\n",
       "      <td>0</td>\n",
       "      <td>0</td>\n",
       "      <td>0</td>\n",
       "      <td>0</td>\n",
       "      <td>over 35 years</td>\n",
       "      <td>0</td>\n",
       "      <td>0</td>\n",
       "      <td>13</td>\n",
       "    </tr>\n",
       "    <tr>\n",
       "      <td>1</td>\n",
       "      <td>6414100192</td>\n",
       "      <td>2014-12-09</td>\n",
       "      <td>538000.0</td>\n",
       "      <td>3</td>\n",
       "      <td>2.25</td>\n",
       "      <td>2570</td>\n",
       "      <td>7242</td>\n",
       "      <td>2.0</td>\n",
       "      <td>0</td>\n",
       "      <td>0</td>\n",
       "      <td>...</td>\n",
       "      <td>0</td>\n",
       "      <td>0</td>\n",
       "      <td>0</td>\n",
       "      <td>0</td>\n",
       "      <td>0</td>\n",
       "      <td>0</td>\n",
       "      <td>20 - 25 years</td>\n",
       "      <td>1</td>\n",
       "      <td>0</td>\n",
       "      <td>11</td>\n",
       "    </tr>\n",
       "    <tr>\n",
       "      <td>2</td>\n",
       "      <td>5631500400</td>\n",
       "      <td>2015-02-25</td>\n",
       "      <td>180000.0</td>\n",
       "      <td>2</td>\n",
       "      <td>1.00</td>\n",
       "      <td>770</td>\n",
       "      <td>10000</td>\n",
       "      <td>1.0</td>\n",
       "      <td>0</td>\n",
       "      <td>0</td>\n",
       "      <td>...</td>\n",
       "      <td>0</td>\n",
       "      <td>0</td>\n",
       "      <td>0</td>\n",
       "      <td>0</td>\n",
       "      <td>0</td>\n",
       "      <td>0</td>\n",
       "      <td>over 35 years</td>\n",
       "      <td>0</td>\n",
       "      <td>1</td>\n",
       "      <td>15</td>\n",
       "    </tr>\n",
       "    <tr>\n",
       "      <td>3</td>\n",
       "      <td>2487200875</td>\n",
       "      <td>2014-12-09</td>\n",
       "      <td>604000.0</td>\n",
       "      <td>4</td>\n",
       "      <td>3.00</td>\n",
       "      <td>1960</td>\n",
       "      <td>5000</td>\n",
       "      <td>1.0</td>\n",
       "      <td>0</td>\n",
       "      <td>0</td>\n",
       "      <td>...</td>\n",
       "      <td>0</td>\n",
       "      <td>0</td>\n",
       "      <td>0</td>\n",
       "      <td>0</td>\n",
       "      <td>0</td>\n",
       "      <td>0</td>\n",
       "      <td>over 35 years</td>\n",
       "      <td>1</td>\n",
       "      <td>0</td>\n",
       "      <td>11</td>\n",
       "    </tr>\n",
       "    <tr>\n",
       "      <td>4</td>\n",
       "      <td>1954400510</td>\n",
       "      <td>2015-02-18</td>\n",
       "      <td>510000.0</td>\n",
       "      <td>3</td>\n",
       "      <td>2.00</td>\n",
       "      <td>1680</td>\n",
       "      <td>8080</td>\n",
       "      <td>1.0</td>\n",
       "      <td>0</td>\n",
       "      <td>0</td>\n",
       "      <td>...</td>\n",
       "      <td>1</td>\n",
       "      <td>0</td>\n",
       "      <td>0</td>\n",
       "      <td>0</td>\n",
       "      <td>0</td>\n",
       "      <td>0</td>\n",
       "      <td>over 35 years</td>\n",
       "      <td>0</td>\n",
       "      <td>1</td>\n",
       "      <td>22</td>\n",
       "    </tr>\n",
       "  </tbody>\n",
       "</table>\n",
       "<p>5 rows × 106 columns</p>\n",
       "</div>"
      ],
      "text/plain": [
       "           id       date     price  bedrooms  bathrooms  sqft_living  \\\n",
       "0  7129300520 2014-10-13  221900.0         3       1.00         1180   \n",
       "1  6414100192 2014-12-09  538000.0         3       2.25         2570   \n",
       "2  5631500400 2015-02-25  180000.0         2       1.00          770   \n",
       "3  2487200875 2014-12-09  604000.0         4       3.00         1960   \n",
       "4  1954400510 2015-02-18  510000.0         3       2.00         1680   \n",
       "\n",
       "   sqft_lot  floors  waterfront  view  ...  grd_8  grd_9  grd_10  grd_11  \\\n",
       "0      5650     1.0           0     0  ...      0      0       0       0   \n",
       "1      7242     2.0           0     0  ...      0      0       0       0   \n",
       "2     10000     1.0           0     0  ...      0      0       0       0   \n",
       "3      5000     1.0           0     0  ...      0      0       0       0   \n",
       "4      8080     1.0           0     0  ...      1      0       0       0   \n",
       "\n",
       "   grd_12  grd_13      renovated  neighb_living_compared  neighb_lot_compared  \\\n",
       "0       0       0  over 35 years                       0                    0   \n",
       "1       0       0  20 - 25 years                       1                    0   \n",
       "2       0       0  over 35 years                       0                    1   \n",
       "3       0       0  over 35 years                       1                    0   \n",
       "4       0       0  over 35 years                       0                    1   \n",
       "\n",
       "   dist_to_center  \n",
       "0              13  \n",
       "1              11  \n",
       "2              15  \n",
       "3              11  \n",
       "4              22  \n",
       "\n",
       "[5 rows x 106 columns]"
      ]
     },
     "execution_count": 634,
     "metadata": {},
     "output_type": "execute_result"
    }
   ],
   "source": [
    "df_ren.head()"
   ]
  },
  {
   "cell_type": "code",
   "execution_count": 635,
   "metadata": {
    "ExecuteTime": {
     "end_time": "2020-07-28T02:04:00.724743Z",
     "start_time": "2020-07-28T02:04:00.604812Z"
    },
    "scrolled": true
   },
   "outputs": [
    {
     "data": {
      "text/html": [
       "<div>\n",
       "<style scoped>\n",
       "    .dataframe tbody tr th:only-of-type {\n",
       "        vertical-align: middle;\n",
       "    }\n",
       "\n",
       "    .dataframe tbody tr th {\n",
       "        vertical-align: top;\n",
       "    }\n",
       "\n",
       "    .dataframe thead th {\n",
       "        text-align: right;\n",
       "    }\n",
       "</style>\n",
       "<table border=\"1\" class=\"dataframe\">\n",
       "  <thead>\n",
       "    <tr style=\"text-align: right;\">\n",
       "      <th></th>\n",
       "      <th>id</th>\n",
       "      <th>date</th>\n",
       "      <th>price</th>\n",
       "      <th>bedrooms</th>\n",
       "      <th>bathrooms</th>\n",
       "      <th>sqft_living</th>\n",
       "      <th>sqft_lot</th>\n",
       "      <th>floors</th>\n",
       "      <th>waterfront</th>\n",
       "      <th>view</th>\n",
       "      <th>...</th>\n",
       "      <th>neighb_lot_compared</th>\n",
       "      <th>dist_to_center</th>\n",
       "      <th>ren_10 - 15 years</th>\n",
       "      <th>ren_15 - 20 years</th>\n",
       "      <th>ren_20 - 25 years</th>\n",
       "      <th>ren_25 - 30 years</th>\n",
       "      <th>ren_30 - 35 years</th>\n",
       "      <th>ren_5 - 10 years</th>\n",
       "      <th>ren_over 35 years</th>\n",
       "      <th>ren_within 5 years</th>\n",
       "    </tr>\n",
       "  </thead>\n",
       "  <tbody>\n",
       "    <tr>\n",
       "      <td>0</td>\n",
       "      <td>7129300520</td>\n",
       "      <td>2014-10-13</td>\n",
       "      <td>221900.0</td>\n",
       "      <td>3</td>\n",
       "      <td>1.00</td>\n",
       "      <td>1180</td>\n",
       "      <td>5650</td>\n",
       "      <td>1.0</td>\n",
       "      <td>0</td>\n",
       "      <td>0</td>\n",
       "      <td>...</td>\n",
       "      <td>0</td>\n",
       "      <td>13</td>\n",
       "      <td>0</td>\n",
       "      <td>0</td>\n",
       "      <td>0</td>\n",
       "      <td>0</td>\n",
       "      <td>0</td>\n",
       "      <td>0</td>\n",
       "      <td>1</td>\n",
       "      <td>0</td>\n",
       "    </tr>\n",
       "    <tr>\n",
       "      <td>1</td>\n",
       "      <td>6414100192</td>\n",
       "      <td>2014-12-09</td>\n",
       "      <td>538000.0</td>\n",
       "      <td>3</td>\n",
       "      <td>2.25</td>\n",
       "      <td>2570</td>\n",
       "      <td>7242</td>\n",
       "      <td>2.0</td>\n",
       "      <td>0</td>\n",
       "      <td>0</td>\n",
       "      <td>...</td>\n",
       "      <td>0</td>\n",
       "      <td>11</td>\n",
       "      <td>0</td>\n",
       "      <td>0</td>\n",
       "      <td>1</td>\n",
       "      <td>0</td>\n",
       "      <td>0</td>\n",
       "      <td>0</td>\n",
       "      <td>0</td>\n",
       "      <td>0</td>\n",
       "    </tr>\n",
       "  </tbody>\n",
       "</table>\n",
       "<p>2 rows × 114 columns</p>\n",
       "</div>"
      ],
      "text/plain": [
       "           id       date     price  bedrooms  bathrooms  sqft_living  \\\n",
       "0  7129300520 2014-10-13  221900.0         3       1.00         1180   \n",
       "1  6414100192 2014-12-09  538000.0         3       2.25         2570   \n",
       "\n",
       "   sqft_lot  floors  waterfront  view  ...  neighb_lot_compared  \\\n",
       "0      5650     1.0           0     0  ...                    0   \n",
       "1      7242     2.0           0     0  ...                    0   \n",
       "\n",
       "   dist_to_center  ren_10 - 15 years  ren_15 - 20 years  ren_20 - 25 years  \\\n",
       "0              13                  0                  0                  0   \n",
       "1              11                  0                  0                  1   \n",
       "\n",
       "   ren_25 - 30 years  ren_30 - 35 years  ren_5 - 10 years  ren_over 35 years  \\\n",
       "0                  0                  0                 0                  1   \n",
       "1                  0                  0                 0                  0   \n",
       "\n",
       "   ren_within 5 years  \n",
       "0                   0  \n",
       "1                   0  \n",
       "\n",
       "[2 rows x 114 columns]"
      ]
     },
     "execution_count": 635,
     "metadata": {},
     "output_type": "execute_result"
    }
   ],
   "source": [
    "df_dv3 = df_ren.copy()\n",
    "ren_dummies = pd.get_dummies(df_ren['renovated'],prefix='ren')\n",
    "df_ren_dum = pd.concat([df_dv3, ren_dummies], axis=1)\n",
    "df_ren_dum.head(2)"
   ]
  },
  {
   "cell_type": "markdown",
   "metadata": {},
   "source": []
  },
  {
   "cell_type": "code",
   "execution_count": 655,
   "metadata": {
    "ExecuteTime": {
     "end_time": "2020-07-29T16:50:29.979857Z",
     "start_time": "2020-07-29T16:50:29.781970Z"
    }
   },
   "outputs": [
    {
     "name": "stdout",
     "output_type": "stream",
     "text": [
      "Train Mean Squarred Error: 22914866706.47722\n",
      "Test Mean Squarred Error: 23676760929.624172\n",
      "Train Root Mean Squarred Error: 151376.57251529122\n",
      "Test Root Mean Squarred Error: 153872.5476802934\n"
     ]
    }
   ],
   "source": [
    "    data = df_ren_dum.copy()\n",
    "    y = data['price']\n",
    "    X = data.drop(['price','date','id','zipcode', 'has_basement', 'grade',\n",
    "                   'yr_renovated', 'renovated', 'floors', 'bathrooms', 'lat',\n",
    "                   'long', 'sqft_living15', 'sqft_lot15', 'condition', 'yr_built', \n",
    "                   'zip_98077', 'zip_98125', 'grd_9'], axis = 1)\n",
    "    # create data sets with an 80/20 split - train/test\n",
    "    X_train, X_test, y_train, y_test = train_test_split(X, y, test_size = 0.2)\n",
    "    linreg = LinearRegression()\n",
    "    linreg.fit(X_train, y_train)\n",
    "\n",
    "    y_hat_train = linreg.predict(X_train)\n",
    "    y_hat_test = linreg.predict(X_test)\n",
    "\n",
    "    mse_train = np.sum((y_train-y_hat_train)**2)/len(y_train)\n",
    "    mse_test =np.sum((y_test-y_hat_test)**2)/len(y_test)\n",
    "    print('Train Mean Squarred Error:', mse_train)\n",
    "    print('Test Mean Squarred Error:', mse_test)\n",
    "    rmse_train = np.sqrt(mse_train)\n",
    "    rmse_test = np.sqrt(mse_test)\n",
    "    print('Train Root Mean Squarred Error:', rmse_train)\n",
    "    print('Test Root Mean Squarred Error:', rmse_test)"
   ]
  },
  {
   "cell_type": "code",
   "execution_count": 637,
   "metadata": {
    "ExecuteTime": {
     "end_time": "2020-07-28T02:04:11.299839Z",
     "start_time": "2020-07-28T02:04:10.653212Z"
    },
    "scrolled": true
   },
   "outputs": [
    {
     "data": {
      "text/html": [
       "<table class=\"simpletable\">\n",
       "<caption>OLS Regression Results</caption>\n",
       "<tr>\n",
       "  <th>Dep. Variable:</th>          <td>price</td>      <th>  R-squared:         </th>  <td>   0.830</td>  \n",
       "</tr>\n",
       "<tr>\n",
       "  <th>Model:</th>                   <td>OLS</td>       <th>  Adj. R-squared:    </th>  <td>   0.829</td>  \n",
       "</tr>\n",
       "<tr>\n",
       "  <th>Method:</th>             <td>Least Squares</td>  <th>  F-statistic:       </th>  <td>   1107.</td>  \n",
       "</tr>\n",
       "<tr>\n",
       "  <th>Date:</th>             <td>Tue, 28 Jul 2020</td> <th>  Prob (F-statistic):</th>   <td>  0.00</td>   \n",
       "</tr>\n",
       "<tr>\n",
       "  <th>Time:</th>                 <td>03:04:11</td>     <th>  Log-Likelihood:    </th> <td>-2.8593e+05</td>\n",
       "</tr>\n",
       "<tr>\n",
       "  <th>No. Observations:</th>      <td> 21420</td>      <th>  AIC:               </th>  <td>5.720e+05</td> \n",
       "</tr>\n",
       "<tr>\n",
       "  <th>Df Residuals:</th>          <td> 21325</td>      <th>  BIC:               </th>  <td>5.728e+05</td> \n",
       "</tr>\n",
       "<tr>\n",
       "  <th>Df Model:</th>              <td>    94</td>      <th>                     </th>      <td> </td>     \n",
       "</tr>\n",
       "<tr>\n",
       "  <th>Covariance Type:</th>      <td>nonrobust</td>    <th>                     </th>      <td> </td>     \n",
       "</tr>\n",
       "</table>\n",
       "<table class=\"simpletable\">\n",
       "<tr>\n",
       "             <td></td>               <th>coef</th>     <th>std err</th>      <th>t</th>      <th>P>|t|</th>  <th>[0.025</th>    <th>0.975]</th>  \n",
       "</tr>\n",
       "<tr>\n",
       "  <th>bedrooms</th>               <td>-8181.2802</td> <td> 1467.599</td> <td>   -5.575</td> <td> 0.000</td> <td>-1.11e+04</td> <td>-5304.677</td>\n",
       "</tr>\n",
       "<tr>\n",
       "  <th>sqft_living</th>            <td>  163.5787</td> <td>    3.160</td> <td>   51.772</td> <td> 0.000</td> <td>  157.386</td> <td>  169.772</td>\n",
       "</tr>\n",
       "<tr>\n",
       "  <th>sqft_lot</th>               <td>    0.2064</td> <td>    0.028</td> <td>    7.451</td> <td> 0.000</td> <td>    0.152</td> <td>    0.261</td>\n",
       "</tr>\n",
       "<tr>\n",
       "  <th>waterfront</th>             <td> 7.511e+05</td> <td> 1.33e+04</td> <td>   56.271</td> <td> 0.000</td> <td> 7.25e+05</td> <td> 7.77e+05</td>\n",
       "</tr>\n",
       "<tr>\n",
       "  <th>view</th>                   <td> 1.159e+05</td> <td> 3995.758</td> <td>   29.018</td> <td> 0.000</td> <td> 1.08e+05</td> <td> 1.24e+05</td>\n",
       "</tr>\n",
       "<tr>\n",
       "  <th>sqft_above</th>             <td>   21.9460</td> <td>    3.029</td> <td>    7.245</td> <td> 0.000</td> <td>   16.008</td> <td>   27.884</td>\n",
       "</tr>\n",
       "<tr>\n",
       "  <th>zip_98001</th>              <td>-5.883e+04</td> <td> 1.31e+04</td> <td>   -4.506</td> <td> 0.000</td> <td>-8.44e+04</td> <td>-3.32e+04</td>\n",
       "</tr>\n",
       "<tr>\n",
       "  <th>zip_98002</th>              <td>-3.313e+04</td> <td> 1.52e+04</td> <td>   -2.173</td> <td> 0.030</td> <td> -6.3e+04</td> <td>-3246.813</td>\n",
       "</tr>\n",
       "<tr>\n",
       "  <th>zip_98003</th>              <td>-6.976e+04</td> <td> 1.35e+04</td> <td>   -5.162</td> <td> 0.000</td> <td>-9.62e+04</td> <td>-4.33e+04</td>\n",
       "</tr>\n",
       "<tr>\n",
       "  <th>zip_98004</th>              <td> 5.596e+05</td> <td> 1.09e+04</td> <td>   51.293</td> <td> 0.000</td> <td> 5.38e+05</td> <td> 5.81e+05</td>\n",
       "</tr>\n",
       "<tr>\n",
       "  <th>zip_98005</th>              <td> 1.363e+05</td> <td> 1.34e+04</td> <td>   10.191</td> <td> 0.000</td> <td>  1.1e+05</td> <td> 1.63e+05</td>\n",
       "</tr>\n",
       "<tr>\n",
       "  <th>zip_98006</th>              <td> 9.185e+04</td> <td> 9394.371</td> <td>    9.777</td> <td> 0.000</td> <td> 7.34e+04</td> <td>  1.1e+05</td>\n",
       "</tr>\n",
       "<tr>\n",
       "  <th>zip_98007</th>              <td> 8.674e+04</td> <td> 1.43e+04</td> <td>    6.045</td> <td> 0.000</td> <td> 5.86e+04</td> <td> 1.15e+05</td>\n",
       "</tr>\n",
       "<tr>\n",
       "  <th>zip_98008</th>              <td> 1.102e+05</td> <td>  1.1e+04</td> <td>    9.992</td> <td> 0.000</td> <td> 8.86e+04</td> <td> 1.32e+05</td>\n",
       "</tr>\n",
       "<tr>\n",
       "  <th>zip_98010</th>              <td> 5.096e+04</td> <td> 1.98e+04</td> <td>    2.577</td> <td> 0.010</td> <td> 1.22e+04</td> <td> 8.97e+04</td>\n",
       "</tr>\n",
       "<tr>\n",
       "  <th>zip_98011</th>              <td>-2.598e+04</td> <td> 1.26e+04</td> <td>   -2.055</td> <td> 0.040</td> <td>-5.07e+04</td> <td>-1205.860</td>\n",
       "</tr>\n",
       "<tr>\n",
       "  <th>zip_98014</th>              <td> 4.412e+04</td> <td> 1.78e+04</td> <td>    2.476</td> <td> 0.013</td> <td> 9193.099</td> <td>  7.9e+04</td>\n",
       "</tr>\n",
       "<tr>\n",
       "  <th>zip_98019</th>              <td> 8138.4511</td> <td> 1.44e+04</td> <td>    0.563</td> <td> 0.573</td> <td>-2.02e+04</td> <td> 3.64e+04</td>\n",
       "</tr>\n",
       "<tr>\n",
       "  <th>zip_98022</th>              <td> 5.759e+04</td> <td> 1.97e+04</td> <td>    2.927</td> <td> 0.003</td> <td>  1.9e+04</td> <td> 9.62e+04</td>\n",
       "</tr>\n",
       "<tr>\n",
       "  <th>zip_98023</th>              <td>-8.696e+04</td> <td> 1.22e+04</td> <td>   -7.102</td> <td> 0.000</td> <td>-1.11e+05</td> <td> -6.3e+04</td>\n",
       "</tr>\n",
       "<tr>\n",
       "  <th>zip_98024</th>              <td> 8.481e+04</td> <td> 1.98e+04</td> <td>    4.277</td> <td> 0.000</td> <td> 4.59e+04</td> <td> 1.24e+05</td>\n",
       "</tr>\n",
       "<tr>\n",
       "  <th>zip_98027</th>              <td> 4.707e+04</td> <td> 1.06e+04</td> <td>    4.450</td> <td> 0.000</td> <td> 2.63e+04</td> <td> 6.78e+04</td>\n",
       "</tr>\n",
       "<tr>\n",
       "  <th>zip_98028</th>              <td>-4.095e+04</td> <td>  1.1e+04</td> <td>   -3.720</td> <td> 0.000</td> <td>-6.25e+04</td> <td>-1.94e+04</td>\n",
       "</tr>\n",
       "<tr>\n",
       "  <th>zip_98029</th>              <td> 1.071e+05</td> <td> 1.15e+04</td> <td>    9.296</td> <td> 0.000</td> <td> 8.46e+04</td> <td>  1.3e+05</td>\n",
       "</tr>\n",
       "<tr>\n",
       "  <th>zip_98030</th>              <td>-8.186e+04</td> <td>  1.3e+04</td> <td>   -6.311</td> <td> 0.000</td> <td>-1.07e+05</td> <td>-5.64e+04</td>\n",
       "</tr>\n",
       "<tr>\n",
       "  <th>zip_98031</th>              <td> -9.08e+04</td> <td> 1.21e+04</td> <td>   -7.507</td> <td> 0.000</td> <td>-1.15e+05</td> <td>-6.71e+04</td>\n",
       "</tr>\n",
       "<tr>\n",
       "  <th>zip_98032</th>              <td>-9.283e+04</td> <td> 1.59e+04</td> <td>   -5.824</td> <td> 0.000</td> <td>-1.24e+05</td> <td>-6.16e+04</td>\n",
       "</tr>\n",
       "<tr>\n",
       "  <th>zip_98033</th>              <td> 1.764e+05</td> <td> 9679.625</td> <td>   18.228</td> <td> 0.000</td> <td> 1.57e+05</td> <td> 1.95e+05</td>\n",
       "</tr>\n",
       "<tr>\n",
       "  <th>zip_98034</th>              <td> 2.458e+04</td> <td> 9042.789</td> <td>    2.718</td> <td> 0.007</td> <td> 6854.919</td> <td> 4.23e+04</td>\n",
       "</tr>\n",
       "<tr>\n",
       "  <th>zip_98038</th>              <td> -2.02e+04</td> <td> 1.25e+04</td> <td>   -1.617</td> <td> 0.106</td> <td>-4.47e+04</td> <td> 4279.708</td>\n",
       "</tr>\n",
       "<tr>\n",
       "  <th>zip_98039</th>              <td> 1.024e+06</td> <td> 2.31e+04</td> <td>   44.399</td> <td> 0.000</td> <td> 9.79e+05</td> <td> 1.07e+06</td>\n",
       "</tr>\n",
       "<tr>\n",
       "  <th>zip_98040</th>              <td> 3.169e+05</td> <td> 1.13e+04</td> <td>   28.027</td> <td> 0.000</td> <td> 2.95e+05</td> <td> 3.39e+05</td>\n",
       "</tr>\n",
       "<tr>\n",
       "  <th>zip_98042</th>              <td>-5.889e+04</td> <td> 1.17e+04</td> <td>   -5.047</td> <td> 0.000</td> <td>-8.18e+04</td> <td> -3.6e+04</td>\n",
       "</tr>\n",
       "<tr>\n",
       "  <th>zip_98045</th>              <td> 1.043e+05</td> <td> 1.79e+04</td> <td>    5.812</td> <td> 0.000</td> <td> 6.91e+04</td> <td> 1.39e+05</td>\n",
       "</tr>\n",
       "<tr>\n",
       "  <th>zip_98052</th>              <td> 8.175e+04</td> <td> 9015.024</td> <td>    9.068</td> <td> 0.000</td> <td> 6.41e+04</td> <td> 9.94e+04</td>\n",
       "</tr>\n",
       "<tr>\n",
       "  <th>zip_98053</th>              <td> 8.312e+04</td> <td> 1.07e+04</td> <td>    7.797</td> <td> 0.000</td> <td> 6.22e+04</td> <td> 1.04e+05</td>\n",
       "</tr>\n",
       "<tr>\n",
       "  <th>zip_98055</th>              <td>-1.029e+05</td> <td> 1.15e+04</td> <td>   -8.919</td> <td> 0.000</td> <td>-1.25e+05</td> <td>-8.03e+04</td>\n",
       "</tr>\n",
       "<tr>\n",
       "  <th>zip_98056</th>              <td>-6.835e+04</td> <td> 9860.598</td> <td>   -6.932</td> <td> 0.000</td> <td>-8.77e+04</td> <td> -4.9e+04</td>\n",
       "</tr>\n",
       "<tr>\n",
       "  <th>zip_98058</th>              <td>-8.492e+04</td> <td> 1.02e+04</td> <td>   -8.335</td> <td> 0.000</td> <td>-1.05e+05</td> <td> -6.5e+04</td>\n",
       "</tr>\n",
       "<tr>\n",
       "  <th>zip_98059</th>              <td> -6.21e+04</td> <td> 9703.336</td> <td>   -6.400</td> <td> 0.000</td> <td>-8.11e+04</td> <td>-4.31e+04</td>\n",
       "</tr>\n",
       "<tr>\n",
       "  <th>zip_98065</th>              <td> 4.037e+04</td> <td> 1.42e+04</td> <td>    2.840</td> <td> 0.005</td> <td> 1.25e+04</td> <td> 6.82e+04</td>\n",
       "</tr>\n",
       "<tr>\n",
       "  <th>zip_98070</th>              <td>-1.177e+05</td> <td> 1.61e+04</td> <td>   -7.294</td> <td> 0.000</td> <td>-1.49e+05</td> <td>-8.61e+04</td>\n",
       "</tr>\n",
       "<tr>\n",
       "  <th>zip_98072</th>              <td> 2.253e+04</td> <td> 1.14e+04</td> <td>    1.975</td> <td> 0.048</td> <td>  174.418</td> <td> 4.49e+04</td>\n",
       "</tr>\n",
       "<tr>\n",
       "  <th>zip_98074</th>              <td> 4.177e+04</td> <td> 1.01e+04</td> <td>    4.142</td> <td> 0.000</td> <td>  2.2e+04</td> <td> 6.15e+04</td>\n",
       "</tr>\n",
       "<tr>\n",
       "  <th>zip_98075</th>              <td>  4.95e+04</td> <td>  1.1e+04</td> <td>    4.518</td> <td> 0.000</td> <td>  2.8e+04</td> <td>  7.1e+04</td>\n",
       "</tr>\n",
       "<tr>\n",
       "  <th>zip_98092</th>              <td>-6.423e+04</td> <td> 1.39e+04</td> <td>   -4.622</td> <td> 0.000</td> <td>-9.15e+04</td> <td> -3.7e+04</td>\n",
       "</tr>\n",
       "<tr>\n",
       "  <th>zip_98102</th>              <td> 2.344e+05</td> <td> 1.72e+04</td> <td>   13.645</td> <td> 0.000</td> <td> 2.01e+05</td> <td> 2.68e+05</td>\n",
       "</tr>\n",
       "<tr>\n",
       "  <th>zip_98103</th>              <td> 1.102e+05</td> <td> 9768.745</td> <td>   11.285</td> <td> 0.000</td> <td> 9.11e+04</td> <td> 1.29e+05</td>\n",
       "</tr>\n",
       "<tr>\n",
       "  <th>zip_98105</th>              <td> 2.599e+05</td> <td> 1.25e+04</td> <td>   20.760</td> <td> 0.000</td> <td> 2.35e+05</td> <td> 2.84e+05</td>\n",
       "</tr>\n",
       "<tr>\n",
       "  <th>zip_98106</th>              <td>-9.746e+04</td> <td> 1.09e+04</td> <td>   -8.961</td> <td> 0.000</td> <td>-1.19e+05</td> <td>-7.61e+04</td>\n",
       "</tr>\n",
       "<tr>\n",
       "  <th>zip_98107</th>              <td> 1.105e+05</td> <td> 1.21e+04</td> <td>    9.151</td> <td> 0.000</td> <td> 8.68e+04</td> <td> 1.34e+05</td>\n",
       "</tr>\n",
       "<tr>\n",
       "  <th>zip_98108</th>              <td>-1.015e+05</td> <td> 1.32e+04</td> <td>   -7.677</td> <td> 0.000</td> <td>-1.27e+05</td> <td>-7.56e+04</td>\n",
       "</tr>\n",
       "<tr>\n",
       "  <th>zip_98109</th>              <td> 2.546e+05</td> <td>  1.7e+04</td> <td>   15.008</td> <td> 0.000</td> <td> 2.21e+05</td> <td> 2.88e+05</td>\n",
       "</tr>\n",
       "<tr>\n",
       "  <th>zip_98112</th>              <td>  3.93e+05</td> <td> 1.24e+04</td> <td>   31.762</td> <td> 0.000</td> <td> 3.69e+05</td> <td> 4.17e+05</td>\n",
       "</tr>\n",
       "<tr>\n",
       "  <th>zip_98115</th>              <td> 1.202e+05</td> <td> 9518.044</td> <td>   12.628</td> <td> 0.000</td> <td> 1.02e+05</td> <td> 1.39e+05</td>\n",
       "</tr>\n",
       "<tr>\n",
       "  <th>zip_98116</th>              <td> 7.214e+04</td> <td> 1.13e+04</td> <td>    6.382</td> <td> 0.000</td> <td>    5e+04</td> <td> 9.43e+04</td>\n",
       "</tr>\n",
       "<tr>\n",
       "  <th>zip_98117</th>              <td> 1.022e+05</td> <td> 9701.543</td> <td>   10.539</td> <td> 0.000</td> <td> 8.32e+04</td> <td> 1.21e+05</td>\n",
       "</tr>\n",
       "<tr>\n",
       "  <th>zip_98118</th>              <td>-5.148e+04</td> <td> 9618.455</td> <td>   -5.352</td> <td> 0.000</td> <td>-7.03e+04</td> <td>-3.26e+04</td>\n",
       "</tr>\n",
       "<tr>\n",
       "  <th>zip_98119</th>              <td> 2.413e+05</td> <td> 1.41e+04</td> <td>   17.124</td> <td> 0.000</td> <td> 2.14e+05</td> <td> 2.69e+05</td>\n",
       "</tr>\n",
       "<tr>\n",
       "  <th>zip_98122</th>              <td> 1.025e+05</td> <td> 1.21e+04</td> <td>    8.469</td> <td> 0.000</td> <td> 7.88e+04</td> <td> 1.26e+05</td>\n",
       "</tr>\n",
       "<tr>\n",
       "  <th>zip_98126</th>              <td>-2.855e+04</td> <td> 1.08e+04</td> <td>   -2.653</td> <td> 0.008</td> <td>-4.96e+04</td> <td>-7455.241</td>\n",
       "</tr>\n",
       "<tr>\n",
       "  <th>zip_98133</th>              <td>-2.748e+04</td> <td> 9431.267</td> <td>   -2.914</td> <td> 0.004</td> <td> -4.6e+04</td> <td>-8995.626</td>\n",
       "</tr>\n",
       "<tr>\n",
       "  <th>zip_98136</th>              <td>  3.75e+04</td> <td> 1.16e+04</td> <td>    3.220</td> <td> 0.001</td> <td> 1.47e+04</td> <td> 6.03e+04</td>\n",
       "</tr>\n",
       "<tr>\n",
       "  <th>zip_98144</th>              <td> 4.147e+04</td> <td> 1.13e+04</td> <td>    3.668</td> <td> 0.000</td> <td> 1.93e+04</td> <td> 6.36e+04</td>\n",
       "</tr>\n",
       "<tr>\n",
       "  <th>zip_98146</th>              <td>-9.033e+04</td> <td> 1.11e+04</td> <td>   -8.111</td> <td> 0.000</td> <td>-1.12e+05</td> <td>-6.85e+04</td>\n",
       "</tr>\n",
       "<tr>\n",
       "  <th>zip_98148</th>              <td>-8.223e+04</td> <td> 2.14e+04</td> <td>   -3.850</td> <td> 0.000</td> <td>-1.24e+05</td> <td>-4.04e+04</td>\n",
       "</tr>\n",
       "<tr>\n",
       "  <th>zip_98155</th>              <td>-2.815e+04</td> <td> 9569.042</td> <td>   -2.941</td> <td> 0.003</td> <td>-4.69e+04</td> <td>-9389.318</td>\n",
       "</tr>\n",
       "<tr>\n",
       "  <th>zip_98166</th>              <td> -9.82e+04</td> <td> 1.16e+04</td> <td>   -8.493</td> <td> 0.000</td> <td>-1.21e+05</td> <td>-7.55e+04</td>\n",
       "</tr>\n",
       "<tr>\n",
       "  <th>zip_98168</th>              <td>-1.349e+05</td> <td> 1.14e+04</td> <td>  -11.872</td> <td> 0.000</td> <td>-1.57e+05</td> <td>-1.13e+05</td>\n",
       "</tr>\n",
       "<tr>\n",
       "  <th>zip_98177</th>              <td> 4.459e+04</td> <td> 1.15e+04</td> <td>    3.878</td> <td> 0.000</td> <td> 2.21e+04</td> <td> 6.71e+04</td>\n",
       "</tr>\n",
       "<tr>\n",
       "  <th>zip_98178</th>              <td>-1.555e+05</td> <td> 1.14e+04</td> <td>  -13.621</td> <td> 0.000</td> <td>-1.78e+05</td> <td>-1.33e+05</td>\n",
       "</tr>\n",
       "<tr>\n",
       "  <th>zip_98188</th>              <td>-1.174e+05</td> <td> 1.46e+04</td> <td>   -8.029</td> <td> 0.000</td> <td>-1.46e+05</td> <td>-8.87e+04</td>\n",
       "</tr>\n",
       "<tr>\n",
       "  <th>zip_98198</th>              <td>-1.137e+05</td> <td> 1.19e+04</td> <td>   -9.555</td> <td> 0.000</td> <td>-1.37e+05</td> <td>-9.04e+04</td>\n",
       "</tr>\n",
       "<tr>\n",
       "  <th>zip_98199</th>              <td> 1.513e+05</td> <td> 1.17e+04</td> <td>   12.971</td> <td> 0.000</td> <td> 1.28e+05</td> <td> 1.74e+05</td>\n",
       "</tr>\n",
       "<tr>\n",
       "  <th>grd_3</th>                  <td> 1.317e+05</td> <td> 1.53e+05</td> <td>    0.864</td> <td> 0.388</td> <td>-1.67e+05</td> <td> 4.31e+05</td>\n",
       "</tr>\n",
       "<tr>\n",
       "  <th>grd_4</th>                  <td>-3.745e+04</td> <td> 2.99e+04</td> <td>   -1.253</td> <td> 0.210</td> <td> -9.6e+04</td> <td> 2.11e+04</td>\n",
       "</tr>\n",
       "<tr>\n",
       "  <th>grd_5</th>                  <td>-6.882e+04</td> <td> 1.12e+04</td> <td>   -6.119</td> <td> 0.000</td> <td>-9.09e+04</td> <td>-4.68e+04</td>\n",
       "</tr>\n",
       "<tr>\n",
       "  <th>grd_6</th>                  <td>-7.432e+04</td> <td> 5897.230</td> <td>  -12.602</td> <td> 0.000</td> <td>-8.59e+04</td> <td>-6.28e+04</td>\n",
       "</tr>\n",
       "<tr>\n",
       "  <th>grd_7</th>                  <td>-7.965e+04</td> <td> 4418.717</td> <td>  -18.026</td> <td> 0.000</td> <td>-8.83e+04</td> <td> -7.1e+04</td>\n",
       "</tr>\n",
       "<tr>\n",
       "  <th>grd_8</th>                  <td>-6.722e+04</td> <td> 3928.899</td> <td>  -17.108</td> <td> 0.000</td> <td>-7.49e+04</td> <td>-5.95e+04</td>\n",
       "</tr>\n",
       "<tr>\n",
       "  <th>grd_10</th>                 <td> 1.208e+05</td> <td> 5674.290</td> <td>   21.294</td> <td> 0.000</td> <td>  1.1e+05</td> <td> 1.32e+05</td>\n",
       "</tr>\n",
       "<tr>\n",
       "  <th>grd_11</th>                 <td> 3.116e+05</td> <td> 8950.792</td> <td>   34.807</td> <td> 0.000</td> <td> 2.94e+05</td> <td> 3.29e+05</td>\n",
       "</tr>\n",
       "<tr>\n",
       "  <th>grd_12</th>                 <td> 7.366e+05</td> <td> 1.76e+04</td> <td>   41.764</td> <td> 0.000</td> <td> 7.02e+05</td> <td> 7.71e+05</td>\n",
       "</tr>\n",
       "<tr>\n",
       "  <th>grd_13</th>                 <td> 1.807e+06</td> <td> 4.38e+04</td> <td>   41.228</td> <td> 0.000</td> <td> 1.72e+06</td> <td> 1.89e+06</td>\n",
       "</tr>\n",
       "<tr>\n",
       "  <th>neighb_living_compared</th> <td>-3.193e+04</td> <td> 2571.532</td> <td>  -12.415</td> <td> 0.000</td> <td> -3.7e+04</td> <td>-2.69e+04</td>\n",
       "</tr>\n",
       "<tr>\n",
       "  <th>neighb_lot_compared</th>    <td> 9900.5182</td> <td> 2177.416</td> <td>    4.547</td> <td> 0.000</td> <td> 5632.619</td> <td> 1.42e+04</td>\n",
       "</tr>\n",
       "<tr>\n",
       "  <th>dist_to_center</th>         <td>-6264.4936</td> <td>  429.032</td> <td>  -14.601</td> <td> 0.000</td> <td>-7105.429</td> <td>-5423.558</td>\n",
       "</tr>\n",
       "<tr>\n",
       "  <th>ren_10 - 15 years</th>      <td> 4.306e+05</td> <td> 1.83e+04</td> <td>   23.479</td> <td> 0.000</td> <td> 3.95e+05</td> <td> 4.67e+05</td>\n",
       "</tr>\n",
       "<tr>\n",
       "  <th>ren_15 - 20 years</th>      <td> 3.305e+05</td> <td> 2.04e+04</td> <td>   16.232</td> <td> 0.000</td> <td> 2.91e+05</td> <td>  3.7e+05</td>\n",
       "</tr>\n",
       "<tr>\n",
       "  <th>ren_20 - 25 years</th>      <td> 3.973e+05</td> <td> 2.18e+04</td> <td>   18.237</td> <td> 0.000</td> <td> 3.55e+05</td> <td>  4.4e+05</td>\n",
       "</tr>\n",
       "<tr>\n",
       "  <th>ren_25 - 30 years</th>      <td> 3.413e+05</td> <td> 2.07e+04</td> <td>   16.489</td> <td> 0.000</td> <td> 3.01e+05</td> <td> 3.82e+05</td>\n",
       "</tr>\n",
       "<tr>\n",
       "  <th>ren_30 - 35 years</th>      <td> 2.933e+05</td> <td> 2.34e+04</td> <td>   12.511</td> <td> 0.000</td> <td> 2.47e+05</td> <td> 3.39e+05</td>\n",
       "</tr>\n",
       "<tr>\n",
       "  <th>ren_5 - 10 years</th>       <td> 4.561e+05</td> <td>  1.9e+04</td> <td>   23.983</td> <td> 0.000</td> <td> 4.19e+05</td> <td> 4.93e+05</td>\n",
       "</tr>\n",
       "<tr>\n",
       "  <th>ren_over 35 years</th>      <td> 3.038e+05</td> <td> 1.14e+04</td> <td>   26.580</td> <td> 0.000</td> <td> 2.81e+05</td> <td> 3.26e+05</td>\n",
       "</tr>\n",
       "<tr>\n",
       "  <th>ren_within 5 years</th>     <td> 3.729e+05</td> <td> 1.75e+04</td> <td>   21.350</td> <td> 0.000</td> <td> 3.39e+05</td> <td> 4.07e+05</td>\n",
       "</tr>\n",
       "</table>\n",
       "<table class=\"simpletable\">\n",
       "<tr>\n",
       "  <th>Omnibus:</th>       <td>15601.099</td> <th>  Durbin-Watson:     </th>  <td>   1.999</td>  \n",
       "</tr>\n",
       "<tr>\n",
       "  <th>Prob(Omnibus):</th>  <td> 0.000</td>   <th>  Jarque-Bera (JB):  </th> <td>1465979.786</td>\n",
       "</tr>\n",
       "<tr>\n",
       "  <th>Skew:</th>           <td> 2.772</td>   <th>  Prob(JB):          </th>  <td>    0.00</td>  \n",
       "</tr>\n",
       "<tr>\n",
       "  <th>Kurtosis:</th>       <td>43.148</td>   <th>  Cond. No.          </th>  <td>6.49e+06</td>  \n",
       "</tr>\n",
       "</table><br/><br/>Warnings:<br/>[1] Standard Errors assume that the covariance matrix of the errors is correctly specified.<br/>[2] The condition number is large, 6.49e+06. This might indicate that there are<br/>strong multicollinearity or other numerical problems."
      ],
      "text/plain": [
       "<class 'statsmodels.iolib.summary.Summary'>\n",
       "\"\"\"\n",
       "                            OLS Regression Results                            \n",
       "==============================================================================\n",
       "Dep. Variable:                  price   R-squared:                       0.830\n",
       "Model:                            OLS   Adj. R-squared:                  0.829\n",
       "Method:                 Least Squares   F-statistic:                     1107.\n",
       "Date:                Tue, 28 Jul 2020   Prob (F-statistic):               0.00\n",
       "Time:                        03:04:11   Log-Likelihood:            -2.8593e+05\n",
       "No. Observations:               21420   AIC:                         5.720e+05\n",
       "Df Residuals:                   21325   BIC:                         5.728e+05\n",
       "Df Model:                          94                                         \n",
       "Covariance Type:            nonrobust                                         \n",
       "==========================================================================================\n",
       "                             coef    std err          t      P>|t|      [0.025      0.975]\n",
       "------------------------------------------------------------------------------------------\n",
       "bedrooms               -8181.2802   1467.599     -5.575      0.000   -1.11e+04   -5304.677\n",
       "sqft_living              163.5787      3.160     51.772      0.000     157.386     169.772\n",
       "sqft_lot                   0.2064      0.028      7.451      0.000       0.152       0.261\n",
       "waterfront              7.511e+05   1.33e+04     56.271      0.000    7.25e+05    7.77e+05\n",
       "view                    1.159e+05   3995.758     29.018      0.000    1.08e+05    1.24e+05\n",
       "sqft_above                21.9460      3.029      7.245      0.000      16.008      27.884\n",
       "zip_98001              -5.883e+04   1.31e+04     -4.506      0.000   -8.44e+04   -3.32e+04\n",
       "zip_98002              -3.313e+04   1.52e+04     -2.173      0.030    -6.3e+04   -3246.813\n",
       "zip_98003              -6.976e+04   1.35e+04     -5.162      0.000   -9.62e+04   -4.33e+04\n",
       "zip_98004               5.596e+05   1.09e+04     51.293      0.000    5.38e+05    5.81e+05\n",
       "zip_98005               1.363e+05   1.34e+04     10.191      0.000     1.1e+05    1.63e+05\n",
       "zip_98006               9.185e+04   9394.371      9.777      0.000    7.34e+04     1.1e+05\n",
       "zip_98007               8.674e+04   1.43e+04      6.045      0.000    5.86e+04    1.15e+05\n",
       "zip_98008               1.102e+05    1.1e+04      9.992      0.000    8.86e+04    1.32e+05\n",
       "zip_98010               5.096e+04   1.98e+04      2.577      0.010    1.22e+04    8.97e+04\n",
       "zip_98011              -2.598e+04   1.26e+04     -2.055      0.040   -5.07e+04   -1205.860\n",
       "zip_98014               4.412e+04   1.78e+04      2.476      0.013    9193.099     7.9e+04\n",
       "zip_98019               8138.4511   1.44e+04      0.563      0.573   -2.02e+04    3.64e+04\n",
       "zip_98022               5.759e+04   1.97e+04      2.927      0.003     1.9e+04    9.62e+04\n",
       "zip_98023              -8.696e+04   1.22e+04     -7.102      0.000   -1.11e+05    -6.3e+04\n",
       "zip_98024               8.481e+04   1.98e+04      4.277      0.000    4.59e+04    1.24e+05\n",
       "zip_98027               4.707e+04   1.06e+04      4.450      0.000    2.63e+04    6.78e+04\n",
       "zip_98028              -4.095e+04    1.1e+04     -3.720      0.000   -6.25e+04   -1.94e+04\n",
       "zip_98029               1.071e+05   1.15e+04      9.296      0.000    8.46e+04     1.3e+05\n",
       "zip_98030              -8.186e+04    1.3e+04     -6.311      0.000   -1.07e+05   -5.64e+04\n",
       "zip_98031               -9.08e+04   1.21e+04     -7.507      0.000   -1.15e+05   -6.71e+04\n",
       "zip_98032              -9.283e+04   1.59e+04     -5.824      0.000   -1.24e+05   -6.16e+04\n",
       "zip_98033               1.764e+05   9679.625     18.228      0.000    1.57e+05    1.95e+05\n",
       "zip_98034               2.458e+04   9042.789      2.718      0.007    6854.919    4.23e+04\n",
       "zip_98038               -2.02e+04   1.25e+04     -1.617      0.106   -4.47e+04    4279.708\n",
       "zip_98039               1.024e+06   2.31e+04     44.399      0.000    9.79e+05    1.07e+06\n",
       "zip_98040               3.169e+05   1.13e+04     28.027      0.000    2.95e+05    3.39e+05\n",
       "zip_98042              -5.889e+04   1.17e+04     -5.047      0.000   -8.18e+04    -3.6e+04\n",
       "zip_98045               1.043e+05   1.79e+04      5.812      0.000    6.91e+04    1.39e+05\n",
       "zip_98052               8.175e+04   9015.024      9.068      0.000    6.41e+04    9.94e+04\n",
       "zip_98053               8.312e+04   1.07e+04      7.797      0.000    6.22e+04    1.04e+05\n",
       "zip_98055              -1.029e+05   1.15e+04     -8.919      0.000   -1.25e+05   -8.03e+04\n",
       "zip_98056              -6.835e+04   9860.598     -6.932      0.000   -8.77e+04    -4.9e+04\n",
       "zip_98058              -8.492e+04   1.02e+04     -8.335      0.000   -1.05e+05    -6.5e+04\n",
       "zip_98059               -6.21e+04   9703.336     -6.400      0.000   -8.11e+04   -4.31e+04\n",
       "zip_98065               4.037e+04   1.42e+04      2.840      0.005    1.25e+04    6.82e+04\n",
       "zip_98070              -1.177e+05   1.61e+04     -7.294      0.000   -1.49e+05   -8.61e+04\n",
       "zip_98072               2.253e+04   1.14e+04      1.975      0.048     174.418    4.49e+04\n",
       "zip_98074               4.177e+04   1.01e+04      4.142      0.000     2.2e+04    6.15e+04\n",
       "zip_98075                4.95e+04    1.1e+04      4.518      0.000     2.8e+04     7.1e+04\n",
       "zip_98092              -6.423e+04   1.39e+04     -4.622      0.000   -9.15e+04    -3.7e+04\n",
       "zip_98102               2.344e+05   1.72e+04     13.645      0.000    2.01e+05    2.68e+05\n",
       "zip_98103               1.102e+05   9768.745     11.285      0.000    9.11e+04    1.29e+05\n",
       "zip_98105               2.599e+05   1.25e+04     20.760      0.000    2.35e+05    2.84e+05\n",
       "zip_98106              -9.746e+04   1.09e+04     -8.961      0.000   -1.19e+05   -7.61e+04\n",
       "zip_98107               1.105e+05   1.21e+04      9.151      0.000    8.68e+04    1.34e+05\n",
       "zip_98108              -1.015e+05   1.32e+04     -7.677      0.000   -1.27e+05   -7.56e+04\n",
       "zip_98109               2.546e+05    1.7e+04     15.008      0.000    2.21e+05    2.88e+05\n",
       "zip_98112                3.93e+05   1.24e+04     31.762      0.000    3.69e+05    4.17e+05\n",
       "zip_98115               1.202e+05   9518.044     12.628      0.000    1.02e+05    1.39e+05\n",
       "zip_98116               7.214e+04   1.13e+04      6.382      0.000       5e+04    9.43e+04\n",
       "zip_98117               1.022e+05   9701.543     10.539      0.000    8.32e+04    1.21e+05\n",
       "zip_98118              -5.148e+04   9618.455     -5.352      0.000   -7.03e+04   -3.26e+04\n",
       "zip_98119               2.413e+05   1.41e+04     17.124      0.000    2.14e+05    2.69e+05\n",
       "zip_98122               1.025e+05   1.21e+04      8.469      0.000    7.88e+04    1.26e+05\n",
       "zip_98126              -2.855e+04   1.08e+04     -2.653      0.008   -4.96e+04   -7455.241\n",
       "zip_98133              -2.748e+04   9431.267     -2.914      0.004    -4.6e+04   -8995.626\n",
       "zip_98136                3.75e+04   1.16e+04      3.220      0.001    1.47e+04    6.03e+04\n",
       "zip_98144               4.147e+04   1.13e+04      3.668      0.000    1.93e+04    6.36e+04\n",
       "zip_98146              -9.033e+04   1.11e+04     -8.111      0.000   -1.12e+05   -6.85e+04\n",
       "zip_98148              -8.223e+04   2.14e+04     -3.850      0.000   -1.24e+05   -4.04e+04\n",
       "zip_98155              -2.815e+04   9569.042     -2.941      0.003   -4.69e+04   -9389.318\n",
       "zip_98166               -9.82e+04   1.16e+04     -8.493      0.000   -1.21e+05   -7.55e+04\n",
       "zip_98168              -1.349e+05   1.14e+04    -11.872      0.000   -1.57e+05   -1.13e+05\n",
       "zip_98177               4.459e+04   1.15e+04      3.878      0.000    2.21e+04    6.71e+04\n",
       "zip_98178              -1.555e+05   1.14e+04    -13.621      0.000   -1.78e+05   -1.33e+05\n",
       "zip_98188              -1.174e+05   1.46e+04     -8.029      0.000   -1.46e+05   -8.87e+04\n",
       "zip_98198              -1.137e+05   1.19e+04     -9.555      0.000   -1.37e+05   -9.04e+04\n",
       "zip_98199               1.513e+05   1.17e+04     12.971      0.000    1.28e+05    1.74e+05\n",
       "grd_3                   1.317e+05   1.53e+05      0.864      0.388   -1.67e+05    4.31e+05\n",
       "grd_4                  -3.745e+04   2.99e+04     -1.253      0.210    -9.6e+04    2.11e+04\n",
       "grd_5                  -6.882e+04   1.12e+04     -6.119      0.000   -9.09e+04   -4.68e+04\n",
       "grd_6                  -7.432e+04   5897.230    -12.602      0.000   -8.59e+04   -6.28e+04\n",
       "grd_7                  -7.965e+04   4418.717    -18.026      0.000   -8.83e+04    -7.1e+04\n",
       "grd_8                  -6.722e+04   3928.899    -17.108      0.000   -7.49e+04   -5.95e+04\n",
       "grd_10                  1.208e+05   5674.290     21.294      0.000     1.1e+05    1.32e+05\n",
       "grd_11                  3.116e+05   8950.792     34.807      0.000    2.94e+05    3.29e+05\n",
       "grd_12                  7.366e+05   1.76e+04     41.764      0.000    7.02e+05    7.71e+05\n",
       "grd_13                  1.807e+06   4.38e+04     41.228      0.000    1.72e+06    1.89e+06\n",
       "neighb_living_compared -3.193e+04   2571.532    -12.415      0.000    -3.7e+04   -2.69e+04\n",
       "neighb_lot_compared     9900.5182   2177.416      4.547      0.000    5632.619    1.42e+04\n",
       "dist_to_center         -6264.4936    429.032    -14.601      0.000   -7105.429   -5423.558\n",
       "ren_10 - 15 years       4.306e+05   1.83e+04     23.479      0.000    3.95e+05    4.67e+05\n",
       "ren_15 - 20 years       3.305e+05   2.04e+04     16.232      0.000    2.91e+05     3.7e+05\n",
       "ren_20 - 25 years       3.973e+05   2.18e+04     18.237      0.000    3.55e+05     4.4e+05\n",
       "ren_25 - 30 years       3.413e+05   2.07e+04     16.489      0.000    3.01e+05    3.82e+05\n",
       "ren_30 - 35 years       2.933e+05   2.34e+04     12.511      0.000    2.47e+05    3.39e+05\n",
       "ren_5 - 10 years        4.561e+05    1.9e+04     23.983      0.000    4.19e+05    4.93e+05\n",
       "ren_over 35 years       3.038e+05   1.14e+04     26.580      0.000    2.81e+05    3.26e+05\n",
       "ren_within 5 years      3.729e+05   1.75e+04     21.350      0.000    3.39e+05    4.07e+05\n",
       "==============================================================================\n",
       "Omnibus:                    15601.099   Durbin-Watson:                   1.999\n",
       "Prob(Omnibus):                  0.000   Jarque-Bera (JB):          1465979.786\n",
       "Skew:                           2.772   Prob(JB):                         0.00\n",
       "Kurtosis:                      43.148   Cond. No.                     6.49e+06\n",
       "==============================================================================\n",
       "\n",
       "Warnings:\n",
       "[1] Standard Errors assume that the covariance matrix of the errors is correctly specified.\n",
       "[2] The condition number is large, 6.49e+06. This might indicate that there are\n",
       "strong multicollinearity or other numerical problems.\n",
       "\"\"\""
      ]
     },
     "execution_count": 637,
     "metadata": {},
     "output_type": "execute_result"
    }
   ],
   "source": [
    "from statsmodels.api import OLS\n",
    "OLS(y, X).fit().summary()"
   ]
  },
  {
   "cell_type": "code",
   "execution_count": 16,
   "metadata": {
    "ExecuteTime": {
     "end_time": "2020-07-30T13:12:26.005548Z",
     "start_time": "2020-07-30T13:12:25.577790Z"
    }
   },
   "outputs": [
    {
     "data": {
      "image/png": "[encoded data removed]",
      "text/plain": [
       "<Figure size 864x432 with 1 Axes>"
      ]
     },
     "metadata": {
      "needs_background": "light"
     },
     "output_type": "display_data"
    }
   ],
   "source": [
    "# Histogram for residuals\n",
    "    color = 'Blue'\n",
    "    plt.figure(figsize=(12,6))\n",
    "    plt.hist(residuals, histtype = 'bar', range = (-500000, 500000),bins = 40, color=color)\n",
    "    plt.ylim(0,3000)\n",
    "    plt.xlim(-450000, 450000)\n",
    "    plt.xticks((range(-450000,450000, 50000)), rotation = 'vertical')\n",
    "    plt.xlabel('Residuals = y_real - y_predicted')\n",
    "    plt.title('Residuals Histogram')\n",
    "    plt.show()"
   ]
  },
  {
   "cell_type": "code",
   "execution_count": 638,
   "metadata": {
    "ExecuteTime": {
     "end_time": "2020-07-28T02:16:42.254771Z",
     "start_time": "2020-07-28T02:16:41.296321Z"
    },
    "scrolled": false
   },
   "outputs": [
    {
     "data": {
      "text/html": [
       "<div>\n",
       "<style scoped>\n",
       "    .dataframe tbody tr th:only-of-type {\n",
       "        vertical-align: middle;\n",
       "    }\n",
       "\n",
       "    .dataframe tbody tr th {\n",
       "        vertical-align: top;\n",
       "    }\n",
       "\n",
       "    .dataframe thead th {\n",
       "        text-align: right;\n",
       "    }\n",
       "</style>\n",
       "<table border=\"1\" class=\"dataframe\">\n",
       "  <thead>\n",
       "    <tr style=\"text-align: right;\">\n",
       "      <th></th>\n",
       "      <th>id</th>\n",
       "      <th>price</th>\n",
       "      <th>bedrooms</th>\n",
       "      <th>bathrooms</th>\n",
       "      <th>sqft_living</th>\n",
       "      <th>sqft_lot</th>\n",
       "      <th>floors</th>\n",
       "      <th>waterfront</th>\n",
       "      <th>view</th>\n",
       "      <th>condition</th>\n",
       "      <th>...</th>\n",
       "      <th>neighb_lot_compared</th>\n",
       "      <th>dist_to_center</th>\n",
       "      <th>ren_10 - 15 years</th>\n",
       "      <th>ren_15 - 20 years</th>\n",
       "      <th>ren_20 - 25 years</th>\n",
       "      <th>ren_25 - 30 years</th>\n",
       "      <th>ren_30 - 35 years</th>\n",
       "      <th>ren_5 - 10 years</th>\n",
       "      <th>ren_over 35 years</th>\n",
       "      <th>ren_within 5 years</th>\n",
       "    </tr>\n",
       "  </thead>\n",
       "  <tbody>\n",
       "    <tr>\n",
       "      <td>id</td>\n",
       "      <td>True</td>\n",
       "      <td>False</td>\n",
       "      <td>False</td>\n",
       "      <td>False</td>\n",
       "      <td>False</td>\n",
       "      <td>False</td>\n",
       "      <td>False</td>\n",
       "      <td>False</td>\n",
       "      <td>False</td>\n",
       "      <td>False</td>\n",
       "      <td>...</td>\n",
       "      <td>False</td>\n",
       "      <td>False</td>\n",
       "      <td>False</td>\n",
       "      <td>False</td>\n",
       "      <td>False</td>\n",
       "      <td>False</td>\n",
       "      <td>False</td>\n",
       "      <td>False</td>\n",
       "      <td>False</td>\n",
       "      <td>False</td>\n",
       "    </tr>\n",
       "    <tr>\n",
       "      <td>price</td>\n",
       "      <td>False</td>\n",
       "      <td>True</td>\n",
       "      <td>False</td>\n",
       "      <td>False</td>\n",
       "      <td>True</td>\n",
       "      <td>False</td>\n",
       "      <td>False</td>\n",
       "      <td>False</td>\n",
       "      <td>False</td>\n",
       "      <td>False</td>\n",
       "      <td>...</td>\n",
       "      <td>False</td>\n",
       "      <td>False</td>\n",
       "      <td>False</td>\n",
       "      <td>False</td>\n",
       "      <td>False</td>\n",
       "      <td>False</td>\n",
       "      <td>False</td>\n",
       "      <td>False</td>\n",
       "      <td>False</td>\n",
       "      <td>False</td>\n",
       "    </tr>\n",
       "    <tr>\n",
       "      <td>bedrooms</td>\n",
       "      <td>False</td>\n",
       "      <td>False</td>\n",
       "      <td>True</td>\n",
       "      <td>False</td>\n",
       "      <td>False</td>\n",
       "      <td>False</td>\n",
       "      <td>False</td>\n",
       "      <td>False</td>\n",
       "      <td>False</td>\n",
       "      <td>False</td>\n",
       "      <td>...</td>\n",
       "      <td>False</td>\n",
       "      <td>False</td>\n",
       "      <td>False</td>\n",
       "      <td>False</td>\n",
       "      <td>False</td>\n",
       "      <td>False</td>\n",
       "      <td>False</td>\n",
       "      <td>False</td>\n",
       "      <td>False</td>\n",
       "      <td>False</td>\n",
       "    </tr>\n",
       "    <tr>\n",
       "      <td>bathrooms</td>\n",
       "      <td>False</td>\n",
       "      <td>False</td>\n",
       "      <td>False</td>\n",
       "      <td>True</td>\n",
       "      <td>True</td>\n",
       "      <td>False</td>\n",
       "      <td>False</td>\n",
       "      <td>False</td>\n",
       "      <td>False</td>\n",
       "      <td>False</td>\n",
       "      <td>...</td>\n",
       "      <td>False</td>\n",
       "      <td>False</td>\n",
       "      <td>False</td>\n",
       "      <td>False</td>\n",
       "      <td>False</td>\n",
       "      <td>False</td>\n",
       "      <td>False</td>\n",
       "      <td>False</td>\n",
       "      <td>False</td>\n",
       "      <td>False</td>\n",
       "    </tr>\n",
       "    <tr>\n",
       "      <td>sqft_living</td>\n",
       "      <td>False</td>\n",
       "      <td>True</td>\n",
       "      <td>False</td>\n",
       "      <td>True</td>\n",
       "      <td>True</td>\n",
       "      <td>False</td>\n",
       "      <td>False</td>\n",
       "      <td>False</td>\n",
       "      <td>False</td>\n",
       "      <td>False</td>\n",
       "      <td>...</td>\n",
       "      <td>False</td>\n",
       "      <td>False</td>\n",
       "      <td>False</td>\n",
       "      <td>False</td>\n",
       "      <td>False</td>\n",
       "      <td>False</td>\n",
       "      <td>False</td>\n",
       "      <td>False</td>\n",
       "      <td>False</td>\n",
       "      <td>False</td>\n",
       "    </tr>\n",
       "    <tr>\n",
       "      <td>...</td>\n",
       "      <td>...</td>\n",
       "      <td>...</td>\n",
       "      <td>...</td>\n",
       "      <td>...</td>\n",
       "      <td>...</td>\n",
       "      <td>...</td>\n",
       "      <td>...</td>\n",
       "      <td>...</td>\n",
       "      <td>...</td>\n",
       "      <td>...</td>\n",
       "      <td>...</td>\n",
       "      <td>...</td>\n",
       "      <td>...</td>\n",
       "      <td>...</td>\n",
       "      <td>...</td>\n",
       "      <td>...</td>\n",
       "      <td>...</td>\n",
       "      <td>...</td>\n",
       "      <td>...</td>\n",
       "      <td>...</td>\n",
       "      <td>...</td>\n",
       "    </tr>\n",
       "    <tr>\n",
       "      <td>ren_25 - 30 years</td>\n",
       "      <td>False</td>\n",
       "      <td>False</td>\n",
       "      <td>False</td>\n",
       "      <td>False</td>\n",
       "      <td>False</td>\n",
       "      <td>False</td>\n",
       "      <td>False</td>\n",
       "      <td>False</td>\n",
       "      <td>False</td>\n",
       "      <td>False</td>\n",
       "      <td>...</td>\n",
       "      <td>False</td>\n",
       "      <td>False</td>\n",
       "      <td>False</td>\n",
       "      <td>False</td>\n",
       "      <td>False</td>\n",
       "      <td>True</td>\n",
       "      <td>False</td>\n",
       "      <td>False</td>\n",
       "      <td>False</td>\n",
       "      <td>False</td>\n",
       "    </tr>\n",
       "    <tr>\n",
       "      <td>ren_30 - 35 years</td>\n",
       "      <td>False</td>\n",
       "      <td>False</td>\n",
       "      <td>False</td>\n",
       "      <td>False</td>\n",
       "      <td>False</td>\n",
       "      <td>False</td>\n",
       "      <td>False</td>\n",
       "      <td>False</td>\n",
       "      <td>False</td>\n",
       "      <td>False</td>\n",
       "      <td>...</td>\n",
       "      <td>False</td>\n",
       "      <td>False</td>\n",
       "      <td>False</td>\n",
       "      <td>False</td>\n",
       "      <td>False</td>\n",
       "      <td>False</td>\n",
       "      <td>True</td>\n",
       "      <td>False</td>\n",
       "      <td>False</td>\n",
       "      <td>False</td>\n",
       "    </tr>\n",
       "    <tr>\n",
       "      <td>ren_5 - 10 years</td>\n",
       "      <td>False</td>\n",
       "      <td>False</td>\n",
       "      <td>False</td>\n",
       "      <td>False</td>\n",
       "      <td>False</td>\n",
       "      <td>False</td>\n",
       "      <td>False</td>\n",
       "      <td>False</td>\n",
       "      <td>False</td>\n",
       "      <td>False</td>\n",
       "      <td>...</td>\n",
       "      <td>False</td>\n",
       "      <td>False</td>\n",
       "      <td>False</td>\n",
       "      <td>False</td>\n",
       "      <td>False</td>\n",
       "      <td>False</td>\n",
       "      <td>False</td>\n",
       "      <td>True</td>\n",
       "      <td>False</td>\n",
       "      <td>False</td>\n",
       "    </tr>\n",
       "    <tr>\n",
       "      <td>ren_over 35 years</td>\n",
       "      <td>False</td>\n",
       "      <td>False</td>\n",
       "      <td>False</td>\n",
       "      <td>False</td>\n",
       "      <td>False</td>\n",
       "      <td>False</td>\n",
       "      <td>False</td>\n",
       "      <td>False</td>\n",
       "      <td>False</td>\n",
       "      <td>False</td>\n",
       "      <td>...</td>\n",
       "      <td>False</td>\n",
       "      <td>False</td>\n",
       "      <td>False</td>\n",
       "      <td>False</td>\n",
       "      <td>False</td>\n",
       "      <td>False</td>\n",
       "      <td>False</td>\n",
       "      <td>False</td>\n",
       "      <td>True</td>\n",
       "      <td>False</td>\n",
       "    </tr>\n",
       "    <tr>\n",
       "      <td>ren_within 5 years</td>\n",
       "      <td>False</td>\n",
       "      <td>False</td>\n",
       "      <td>False</td>\n",
       "      <td>False</td>\n",
       "      <td>False</td>\n",
       "      <td>False</td>\n",
       "      <td>False</td>\n",
       "      <td>False</td>\n",
       "      <td>False</td>\n",
       "      <td>False</td>\n",
       "      <td>...</td>\n",
       "      <td>False</td>\n",
       "      <td>False</td>\n",
       "      <td>False</td>\n",
       "      <td>False</td>\n",
       "      <td>False</td>\n",
       "      <td>False</td>\n",
       "      <td>False</td>\n",
       "      <td>False</td>\n",
       "      <td>False</td>\n",
       "      <td>True</td>\n",
       "    </tr>\n",
       "  </tbody>\n",
       "</table>\n",
       "<p>112 rows × 112 columns</p>\n",
       "</div>"
      ],
      "text/plain": [
       "                       id  price  bedrooms  bathrooms  sqft_living  sqft_lot  \\\n",
       "id                   True  False     False      False        False     False   \n",
       "price               False   True     False      False         True     False   \n",
       "bedrooms            False  False      True      False        False     False   \n",
       "bathrooms           False  False     False       True         True     False   \n",
       "sqft_living         False   True     False       True         True     False   \n",
       "...                   ...    ...       ...        ...          ...       ...   \n",
       "ren_25 - 30 years   False  False     False      False        False     False   \n",
       "ren_30 - 35 years   False  False     False      False        False     False   \n",
       "ren_5 - 10 years    False  False     False      False        False     False   \n",
       "ren_over 35 years   False  False     False      False        False     False   \n",
       "ren_within 5 years  False  False     False      False        False     False   \n",
       "\n",
       "                    floors  waterfront   view  condition  ...  \\\n",
       "id                   False       False  False      False  ...   \n",
       "price                False       False  False      False  ...   \n",
       "bedrooms             False       False  False      False  ...   \n",
       "bathrooms            False       False  False      False  ...   \n",
       "sqft_living          False       False  False      False  ...   \n",
       "...                    ...         ...    ...        ...  ...   \n",
       "ren_25 - 30 years    False       False  False      False  ...   \n",
       "ren_30 - 35 years    False       False  False      False  ...   \n",
       "ren_5 - 10 years     False       False  False      False  ...   \n",
       "ren_over 35 years    False       False  False      False  ...   \n",
       "ren_within 5 years   False       False  False      False  ...   \n",
       "\n",
       "                    neighb_lot_compared  dist_to_center  ren_10 - 15 years  \\\n",
       "id                                False           False              False   \n",
       "price                             False           False              False   \n",
       "bedrooms                          False           False              False   \n",
       "bathrooms                         False           False              False   \n",
       "sqft_living                       False           False              False   \n",
       "...                                 ...             ...                ...   \n",
       "ren_25 - 30 years                 False           False              False   \n",
       "ren_30 - 35 years                 False           False              False   \n",
       "ren_5 - 10 years                  False           False              False   \n",
       "ren_over 35 years                 False           False              False   \n",
       "ren_within 5 years                False           False              False   \n",
       "\n",
       "                    ren_15 - 20 years  ren_20 - 25 years  ren_25 - 30 years  \\\n",
       "id                              False              False              False   \n",
       "price                           False              False              False   \n",
       "bedrooms                        False              False              False   \n",
       "bathrooms                       False              False              False   \n",
       "sqft_living                     False              False              False   \n",
       "...                               ...                ...                ...   \n",
       "ren_25 - 30 years               False              False               True   \n",
       "ren_30 - 35 years               False              False              False   \n",
       "ren_5 - 10 years                False              False              False   \n",
       "ren_over 35 years               False              False              False   \n",
       "ren_within 5 years              False              False              False   \n",
       "\n",
       "                    ren_30 - 35 years  ren_5 - 10 years  ren_over 35 years  \\\n",
       "id                              False             False              False   \n",
       "price                           False             False              False   \n",
       "bedrooms                        False             False              False   \n",
       "bathrooms                       False             False              False   \n",
       "sqft_living                     False             False              False   \n",
       "...                               ...               ...                ...   \n",
       "ren_25 - 30 years               False             False              False   \n",
       "ren_30 - 35 years                True             False              False   \n",
       "ren_5 - 10 years                False              True              False   \n",
       "ren_over 35 years               False             False               True   \n",
       "ren_within 5 years              False             False              False   \n",
       "\n",
       "                    ren_within 5 years  \n",
       "id                               False  \n",
       "price                            False  \n",
       "bedrooms                         False  \n",
       "bathrooms                        False  \n",
       "sqft_living                      False  \n",
       "...                                ...  \n",
       "ren_25 - 30 years                False  \n",
       "ren_30 - 35 years                False  \n",
       "ren_5 - 10 years                 False  \n",
       "ren_over 35 years                False  \n",
       "ren_within 5 years                True  \n",
       "\n",
       "[112 rows x 112 columns]"
      ]
     },
     "execution_count": 638,
     "metadata": {},
     "output_type": "execute_result"
    }
   ],
   "source": [
    "abs(df_ren_dum.corr())>.60"
   ]
  },
  {
   "cell_type": "code",
   "execution_count": 640,
   "metadata": {
    "ExecuteTime": {
     "end_time": "2020-07-28T02:17:10.587963Z",
     "start_time": "2020-07-28T02:17:10.561963Z"
    }
   },
   "outputs": [],
   "source": [
    "with open('m2_df.pickle', 'wb') as f:\n",
    "    pickle.dump(df_ren_dum, f)"
   ]
  },
  {
   "cell_type": "code",
   "execution_count": null,
   "metadata": {},
   "outputs": [],
   "source": []
  }
 ],
 "metadata": {
  "kernelspec": {
   "display_name": "Python [conda env:learn-env] *",
   "language": "python",
   "name": "conda-env-learn-env-py"
  },
  "language_info": {
   "codemirror_mode": {
    "name": "ipython",
    "version": 3
   },
   "file_extension": ".py",
   "mimetype": "text/x-python",
   "name": "python",
   "nbconvert_exporter": "python",
   "pygments_lexer": "ipython3",
   "version": "3.6.9"
  },
  "toc": {
   "base_numbering": 1,
   "nav_menu": {},
   "number_sections": true,
   "sideBar": true,
   "skip_h1_title": false,
   "title_cell": "Table of Contents",
   "title_sidebar": "Contents",
   "toc_cell": false,
   "toc_position": {},
   "toc_section_display": true,
   "toc_window_display": false
  }
 },
 "nbformat": 4,
 "nbformat_minor": 2
}
