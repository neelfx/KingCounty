{
 "cells": [
  {
   "cell_type": "code",
   "execution_count": 2,
   "metadata": {
    "ExecuteTime": {
     "end_time": "2020-07-30T12:15:27.882836Z",
     "start_time": "2020-07-30T12:15:26.084830Z"
    }
   },
   "outputs": [],
   "source": [
    "import pickle\n",
    "import pandas as pd\n",
    "import numpy as np\n",
    "import seaborn as sns\n",
    "import matplotlib.pyplot as plt\n",
    "%matplotlib inline\n"
   ]
  },
  {
   "cell_type": "code",
   "execution_count": 3,
   "metadata": {
    "ExecuteTime": {
     "end_time": "2020-07-30T12:15:27.903769Z",
     "start_time": "2020-07-30T12:15:27.885780Z"
    }
   },
   "outputs": [],
   "source": [
    "with open('cleaned_df.pickle', 'rb') as file:\n",
    "    df = pickle.load(file)"
   ]
  },
  {
   "cell_type": "code",
   "execution_count": 4,
   "metadata": {
    "ExecuteTime": {
     "end_time": "2020-07-30T12:15:27.940750Z",
     "start_time": "2020-07-30T12:15:27.908768Z"
    }
   },
   "outputs": [
    {
     "name": "stdout",
     "output_type": "stream",
     "text": [
      "<class 'pandas.core.frame.DataFrame'>\n",
      "RangeIndex: 21597 entries, 0 to 21596\n",
      "Data columns (total 21 columns):\n",
      "id               21597 non-null int64\n",
      "date             21597 non-null datetime64[ns]\n",
      "price            21597 non-null float64\n",
      "bedrooms         21597 non-null int64\n",
      "bathrooms        21597 non-null float64\n",
      "sqft_living      21597 non-null int64\n",
      "sqft_lot         21597 non-null int64\n",
      "floors           21597 non-null float64\n",
      "waterfront       21597 non-null int64\n",
      "view             21597 non-null int64\n",
      "condition        21597 non-null int64\n",
      "grade            21597 non-null int64\n",
      "sqft_above       21597 non-null int64\n",
      "has_basement     21597 non-null int64\n",
      "yr_built         21597 non-null int64\n",
      "yr_renovated     21597 non-null float64\n",
      "zipcode          21597 non-null int64\n",
      "lat              21597 non-null float64\n",
      "long             21597 non-null float64\n",
      "sqft_living15    21597 non-null int64\n",
      "sqft_lot15       21597 non-null int64\n",
      "dtypes: datetime64[ns](1), float64(6), int64(14)\n",
      "memory usage: 3.5 MB\n"
     ]
    }
   ],
   "source": [
    "df.info()"
   ]
  },
  {
   "cell_type": "code",
   "execution_count": 5,
   "metadata": {
    "ExecuteTime": {
     "end_time": "2020-07-30T12:15:28.178629Z",
     "start_time": "2020-07-30T12:15:27.944748Z"
    }
   },
   "outputs": [],
   "source": [
    "with open('regression_model1.pickle', 'rb') as file:\n",
    "    model = pickle.load(file)"
   ]
  },
  {
   "cell_type": "code",
   "execution_count": 6,
   "metadata": {
    "ExecuteTime": {
     "end_time": "2020-07-30T12:15:30.969806Z",
     "start_time": "2020-07-30T12:15:30.861848Z"
    }
   },
   "outputs": [
    {
     "data": {
      "text/html": [
       "<table class=\"simpletable\">\n",
       "<tr>\n",
       "        <td>Model:</td>               <td>OLS</td>         <td>Adj. R-squared:</td>      <td>0.698</td>   \n",
       "</tr>\n",
       "<tr>\n",
       "  <td>Dependent Variable:</td>       <td>price</td>             <td>AIC:</td>         <td>588949.4420</td>\n",
       "</tr>\n",
       "<tr>\n",
       "         <td>Date:</td>        <td>2020-07-30 13:15</td>        <td>BIC:</td>         <td>589093.0876</td>\n",
       "</tr>\n",
       "<tr>\n",
       "   <td>No. Observations:</td>        <td>21597</td>        <td>Log-Likelihood:</td>   <td>-2.9446e+05</td>\n",
       "</tr>\n",
       "<tr>\n",
       "       <td>Df Model:</td>             <td>17</td>           <td>F-statistic:</td>        <td>2936.</td>   \n",
       "</tr>\n",
       "<tr>\n",
       "     <td>Df Residuals:</td>          <td>21579</td>      <td>Prob (F-statistic):</td>    <td>0.00</td>    \n",
       "</tr>\n",
       "<tr>\n",
       "      <td>R-squared:</td>            <td>0.698</td>            <td>Scale:</td>        <td>4.0772e+10</td> \n",
       "</tr>\n",
       "</table>\n",
       "<table class=\"simpletable\">\n",
       "<tr>\n",
       "        <td></td>            <th>Coef.</th>      <th>Std.Err.</th>       <th>t</th>     <th>P>|t|</th>    <th>[0.025</th>       <th>0.975]</th>    \n",
       "</tr>\n",
       "<tr>\n",
       "  <th>Intercept</th>     <td>6045740.6153</td> <td>2941268.3866</td>  <td>2.0555</td>  <td>0.0398</td>  <td>280637.1446</td> <td>11810844.0859</td>\n",
       "</tr>\n",
       "<tr>\n",
       "  <th>bedrooms</th>       <td>-36431.1956</td>   <td>1906.4168</td>  <td>-19.1098</td> <td>0.0000</td>  <td>-40167.9133</td>  <td>-32694.4778</td> \n",
       "</tr>\n",
       "<tr>\n",
       "  <th>bathrooms</th>      <td>41521.1234</td>    <td>3273.4808</td>   <td>12.6841</td> <td>0.0000</td>  <td>35104.8592</td>   <td>47937.3877</td>  \n",
       "</tr>\n",
       "<tr>\n",
       "  <th>sqft_living</th>     <td>151.8617</td>      <td>4.4059</td>     <td>34.4676</td> <td>0.0000</td>   <td>143.2257</td>     <td>160.4976</td>   \n",
       "</tr>\n",
       "<tr>\n",
       "  <th>sqft_lot</th>         <td>0.1360</td>       <td>0.0481</td>     <td>2.8297</td>  <td>0.0047</td>    <td>0.0418</td>       <td>0.2303</td>    \n",
       "</tr>\n",
       "<tr>\n",
       "  <th>floors</th>          <td>7753.9902</td>    <td>3611.8760</td>   <td>2.1468</td>  <td>0.0318</td>   <td>674.4462</td>    <td>14833.5342</td>  \n",
       "</tr>\n",
       "<tr>\n",
       "  <th>waterfront</th>     <td>699558.8404</td>  <td>17397.1211</td>   <td>40.2112</td> <td>0.0000</td>  <td>665459.1970</td>  <td>733658.4838</td> \n",
       "</tr>\n",
       "<tr>\n",
       "  <th>view</th>           <td>115981.7504</td>   <td>5221.0856</td>   <td>22.2141</td> <td>0.0000</td>  <td>105748.0367</td>  <td>126215.4642</td> \n",
       "</tr>\n",
       "<tr>\n",
       "  <th>condition</th>      <td>27014.2208</td>    <td>2353.7303</td>   <td>11.4772</td> <td>0.0000</td>  <td>22400.7355</td>   <td>31627.7061</td>  \n",
       "</tr>\n",
       "<tr>\n",
       "  <th>grade</th>          <td>97746.2757</td>    <td>2166.2025</td>   <td>45.1233</td> <td>0.0000</td>  <td>93500.3587</td>   <td>101992.1927</td> \n",
       "</tr>\n",
       "<tr>\n",
       "  <th>sqft_above</th>       <td>28.9612</td>      <td>4.3703</td>     <td>6.6268</td>  <td>0.0000</td>    <td>20.3950</td>      <td>37.5274</td>   \n",
       "</tr>\n",
       "<tr>\n",
       "  <th>yr_built</th>       <td>-2650.6197</td>     <td>72.1786</td>   <td>-36.7230</td> <td>0.0000</td>  <td>-2792.0952</td>   <td>-2509.1442</td>  \n",
       "</tr>\n",
       "<tr>\n",
       "  <th>yr_renovated</th>     <td>24.1317</td>      <td>3.9898</td>     <td>6.0484</td>  <td>0.0000</td>    <td>16.3115</td>      <td>31.9520</td>   \n",
       "</tr>\n",
       "<tr>\n",
       "  <th>zipcode</th>         <td>-575.7685</td>     <td>33.0947</td>   <td>-17.3976</td> <td>0.0000</td>   <td>-640.6367</td>    <td>-510.9004</td>  \n",
       "</tr>\n",
       "<tr>\n",
       "  <th>lat</th>            <td>597751.2435</td>  <td>10770.9365</td>   <td>55.4967</td> <td>0.0000</td>  <td>576639.4117</td>  <td>618863.0753</td> \n",
       "</tr>\n",
       "<tr>\n",
       "  <th>long</th>          <td>-216954.7822</td>  <td>13203.4693</td>  <td>-16.4316</td> <td>0.0000</td> <td>-242834.5580</td> <td>-191075.0063</td> \n",
       "</tr>\n",
       "<tr>\n",
       "  <th>sqft_living15</th>    <td>22.8233</td>      <td>3.4641</td>     <td>6.5885</td>  <td>0.0000</td>    <td>16.0334</td>      <td>29.6132</td>   \n",
       "</tr>\n",
       "<tr>\n",
       "  <th>sqft_lot15</th>       <td>-0.3864</td>      <td>0.0736</td>     <td>-5.2510</td> <td>0.0000</td>    <td>-0.5306</td>      <td>-0.2422</td>   \n",
       "</tr>\n",
       "</table>\n",
       "<table class=\"simpletable\">\n",
       "<tr>\n",
       "     <td>Omnibus:</td>    <td>18372.423</td>  <td>Durbin-Watson:</td>      <td>1.987</td>   \n",
       "</tr>\n",
       "<tr>\n",
       "  <td>Prob(Omnibus):</td>   <td>0.000</td>   <td>Jarque-Bera (JB):</td> <td>1837283.188</td>\n",
       "</tr>\n",
       "<tr>\n",
       "       <td>Skew:</td>       <td>3.572</td>       <td>Prob(JB):</td>        <td>0.000</td>   \n",
       "</tr>\n",
       "<tr>\n",
       "     <td>Kurtosis:</td>    <td>47.617</td>    <td>Condition No.:</td>    <td>215444781</td> \n",
       "</tr>\n",
       "</table>"
      ],
      "text/plain": [
       "<class 'statsmodels.iolib.summary2.Summary'>\n",
       "\"\"\"\n",
       "                         Results: Ordinary least squares\n",
       "==================================================================================\n",
       "Model:                    OLS                  Adj. R-squared:         0.698      \n",
       "Dependent Variable:       price                AIC:                    588949.4420\n",
       "Date:                     2020-07-30 13:15     BIC:                    589093.0876\n",
       "No. Observations:         21597                Log-Likelihood:         -2.9446e+05\n",
       "Df Model:                 17                   F-statistic:            2936.      \n",
       "Df Residuals:             21579                Prob (F-statistic):     0.00       \n",
       "R-squared:                0.698                Scale:                  4.0772e+10 \n",
       "----------------------------------------------------------------------------------\n",
       "                 Coef.       Std.Err.      t     P>|t|     [0.025        0.975]   \n",
       "----------------------------------------------------------------------------------\n",
       "Intercept     6045740.6153 2941268.3866   2.0555 0.0398  280637.1446 11810844.0859\n",
       "bedrooms       -36431.1956    1906.4168 -19.1098 0.0000  -40167.9133   -32694.4778\n",
       "bathrooms       41521.1234    3273.4808  12.6841 0.0000   35104.8592    47937.3877\n",
       "sqft_living       151.8617       4.4059  34.4676 0.0000     143.2257      160.4976\n",
       "sqft_lot            0.1360       0.0481   2.8297 0.0047       0.0418        0.2303\n",
       "floors           7753.9902    3611.8760   2.1468 0.0318     674.4462    14833.5342\n",
       "waterfront     699558.8404   17397.1211  40.2112 0.0000  665459.1970   733658.4838\n",
       "view           115981.7504    5221.0856  22.2141 0.0000  105748.0367   126215.4642\n",
       "condition       27014.2208    2353.7303  11.4772 0.0000   22400.7355    31627.7061\n",
       "grade           97746.2757    2166.2025  45.1233 0.0000   93500.3587   101992.1927\n",
       "sqft_above         28.9612       4.3703   6.6268 0.0000      20.3950       37.5274\n",
       "yr_built        -2650.6197      72.1786 -36.7230 0.0000   -2792.0952    -2509.1442\n",
       "yr_renovated       24.1317       3.9898   6.0484 0.0000      16.3115       31.9520\n",
       "zipcode          -575.7685      33.0947 -17.3976 0.0000    -640.6367     -510.9004\n",
       "lat            597751.2435   10770.9365  55.4967 0.0000  576639.4117   618863.0753\n",
       "long          -216954.7822   13203.4693 -16.4316 0.0000 -242834.5580  -191075.0063\n",
       "sqft_living15      22.8233       3.4641   6.5885 0.0000      16.0334       29.6132\n",
       "sqft_lot15         -0.3864       0.0736  -5.2510 0.0000      -0.5306       -0.2422\n",
       "----------------------------------------------------------------------------------\n",
       "Omnibus:                 18372.423          Durbin-Watson:             1.987      \n",
       "Prob(Omnibus):           0.000              Jarque-Bera (JB):          1837283.188\n",
       "Skew:                    3.572              Prob(JB):                  0.000      \n",
       "Kurtosis:                47.617             Condition No.:             215444781  \n",
       "==================================================================================\n",
       "* The condition number is large (2e+08). This might indicate             strong\n",
       "multicollinearity or other numerical problems.\n",
       "\"\"\""
      ]
     },
     "execution_count": 6,
     "metadata": {},
     "output_type": "execute_result"
    }
   ],
   "source": [
    "model.summary2()"
   ]
  },
  {
   "cell_type": "code",
   "execution_count": 7,
   "metadata": {
    "ExecuteTime": {
     "end_time": "2020-07-30T12:15:33.279811Z",
     "start_time": "2020-07-30T12:15:33.118905Z"
    }
   },
   "outputs": [],
   "source": [
    "from sklearn.model_selection import train_test_split\n",
    "from sklearn.linear_model import LinearRegression\n",
    "\n",
    "data = df\n",
    "y = data['price']\n",
    "X = data.drop(['price','date','id','zipcode'], axis = 1)\n",
    "#X = data.drop(['price', 'date','has_basement', 'id'], axis = 1)\n"
   ]
  },
  {
   "cell_type": "code",
   "execution_count": 8,
   "metadata": {
    "ExecuteTime": {
     "end_time": "2020-07-30T12:15:34.059722Z",
     "start_time": "2020-07-30T12:15:34.042731Z"
    }
   },
   "outputs": [],
   "source": [
    "# create data sets with an 80/20 split - train/test\n",
    "X_train, X_test, y_train, y_test = train_test_split(X, y, test_size = 0.2)"
   ]
  },
  {
   "cell_type": "code",
   "execution_count": 9,
   "metadata": {
    "ExecuteTime": {
     "end_time": "2020-07-30T12:15:34.678737Z",
     "start_time": "2020-07-30T12:15:34.671742Z"
    }
   },
   "outputs": [
    {
     "data": {
      "text/plain": [
       "4320"
      ]
     },
     "execution_count": 9,
     "metadata": {},
     "output_type": "execute_result"
    }
   ],
   "source": [
    "len(y_test)"
   ]
  },
  {
   "cell_type": "code",
   "execution_count": 10,
   "metadata": {
    "ExecuteTime": {
     "end_time": "2020-07-30T12:15:35.204061Z",
     "start_time": "2020-07-30T12:15:35.173081Z"
    }
   },
   "outputs": [
    {
     "name": "stdout",
     "output_type": "stream",
     "text": [
      "Train Mean Squarred Error: 41345928016.883644\n",
      "Test Mean Squarred Error: 41156640598.709145\n"
     ]
    }
   ],
   "source": [
    "linreg = LinearRegression()\n",
    "linreg.fit(X_train, y_train)\n",
    "\n",
    "y_hat_train = linreg.predict(X_train)\n",
    "y_hat_test = linreg.predict(X_test)\n",
    "\n",
    "mse_train = np.sum((y_train-y_hat_train)**2)/len(y_train)\n",
    "mse_test =np.sum((y_test-y_hat_test)**2)/len(y_test)\n",
    "print('Train Mean Squarred Error:', mse_train)\n",
    "print('Test Mean Squarred Error:', mse_test)"
   ]
  },
  {
   "cell_type": "code",
   "execution_count": 11,
   "metadata": {
    "ExecuteTime": {
     "end_time": "2020-07-30T12:15:36.805616Z",
     "start_time": "2020-07-30T12:15:36.799617Z"
    }
   },
   "outputs": [
    {
     "name": "stdout",
     "output_type": "stream",
     "text": [
      "Train Root Mean Squared Error: 203336.9814295561\n",
      "Test Root Mean Squared Error: 202870.9949665283\n"
     ]
    }
   ],
   "source": [
    "rmse_train = np.sqrt(mse_train)\n",
    "rmse_test = np.sqrt(mse_test)\n",
    "print('Train Root Mean Squared Error:', rmse_train)\n",
    "print('Test Root Mean Squared Error:', rmse_test)"
   ]
  },
  {
   "cell_type": "code",
   "execution_count": 12,
   "metadata": {
    "ExecuteTime": {
     "end_time": "2020-07-30T12:15:38.268614Z",
     "start_time": "2020-07-30T12:15:37.645970Z"
    }
   },
   "outputs": [
    {
     "data": {
      "image/png": "[encoded data removed]",
      "text/plain": [
       "<Figure size 432x288 with 1 Axes>"
      ]
     },
     "metadata": {
      "needs_background": "light"
     },
     "output_type": "display_data"
    }
   ],
   "source": [
    "from sklearn.model_selection import cross_val_predict\n",
    "\n",
    "predicted = cross_val_predict(linreg, X, y, cv=10)\n",
    "\n",
    "fig, ax = plt.subplots()\n",
    "ax.scatter(y, predicted)\n",
    "ax.plot([y.min(), y.max()], [y.min(), y.max()], 'k--', lw=4)\n",
    "ax.set_xlabel('Measured')\n",
    "ax.set_ylabel('Predicted')\n",
    "plt.show()"
   ]
  },
  {
   "cell_type": "code",
   "execution_count": 13,
   "metadata": {
    "ExecuteTime": {
     "end_time": "2020-07-30T12:15:38.837063Z",
     "start_time": "2020-07-30T12:15:38.538234Z"
    }
   },
   "outputs": [
    {
     "data": {
      "text/plain": [
       "<matplotlib.axes._subplots.AxesSubplot at 0x1a40dca6cf8>"
      ]
     },
     "execution_count": 13,
     "metadata": {},
     "output_type": "execute_result"
    },
    {
     "data": {
      "image/png": "[encoded data removed]",
      "text/plain": [
       "<Figure size 432x288 with 1 Axes>"
      ]
     },
     "metadata": {
      "needs_background": "light"
     },
     "output_type": "display_data"
    }
   ],
   "source": [
    "ax1 = sns.distplot(y_test, hist=False, color=\"r\", label=\"Actual Value\")\n",
    "sns.distplot(y_hat_test, hist=False, color=\"b\", label=\"Fitted Values\" , ax=ax1)"
   ]
  },
  {
   "cell_type": "code",
   "execution_count": 14,
   "metadata": {
    "ExecuteTime": {
     "end_time": "2020-07-30T12:15:39.856671Z",
     "start_time": "2020-07-30T12:15:39.846677Z"
    }
   },
   "outputs": [],
   "source": [
    "y_predicted = linreg.predict(X)"
   ]
  },
  {
   "cell_type": "code",
   "execution_count": 15,
   "metadata": {
    "ExecuteTime": {
     "end_time": "2020-07-30T12:15:40.305399Z",
     "start_time": "2020-07-30T12:15:40.301395Z"
    }
   },
   "outputs": [],
   "source": [
    "residuals = y - y_predicted"
   ]
  },
  {
   "cell_type": "code",
   "execution_count": 16,
   "metadata": {
    "ExecuteTime": {
     "end_time": "2020-07-30T12:15:41.339913Z",
     "start_time": "2020-07-30T12:15:40.969146Z"
    }
   },
   "outputs": [
    {
     "data": {
      "image/png": "[encoded data removed]",
      "text/plain": [
       "<Figure size 432x288 with 1 Axes>"
      ]
     },
     "metadata": {
      "needs_background": "light"
     },
     "output_type": "display_data"
    }
   ],
   "source": [
    "from scipy.stats import probplot\n",
    "\n",
    "_ = probplot(residuals, plot=plt)"
   ]
  },
  {
   "cell_type": "code",
   "execution_count": 17,
   "metadata": {
    "ExecuteTime": {
     "end_time": "2020-07-30T12:15:42.628866Z",
     "start_time": "2020-07-30T12:15:42.314045Z"
    }
   },
   "outputs": [
    {
     "data": {
      "image/png": "[encoded data removed]",
      "text/plain": [
       "<Figure size 864x432 with 1 Axes>"
      ]
     },
     "metadata": {
      "needs_background": "light"
     },
     "output_type": "display_data"
    }
   ],
   "source": [
    "# Histogram for residuals\n",
    "    color = 'Blue'\n",
    "    plt.figure(figsize=(12,6))\n",
    "    plt.hist(residuals, histtype = 'bar', range = (-500000, 500000),bins = 40, color=color)\n",
    "    plt.ylim(0,3000)\n",
    "    plt.xlim(-450000, 450000)\n",
    "    plt.xticks((range(-450000,450000, 50000)), rotation = 'vertical')\n",
    "    plt.xlabel('Residuals = y_real - y_predicted')\n",
    "    plt.title('Residuals Histogram')\n",
    "    plt.show()"
   ]
  },
  {
   "cell_type": "markdown",
   "metadata": {},
   "source": [
    "Baseline Model:\n",
    "\n",
    "Skew: 3.572 - very high\n",
    "\n",
    "Kurtosis: - 47.61 (high amount of outliers)\n",
    "\n",
    "R-squared - 0.69  - how well model fits 0-1\n",
    "\n",
    "R-MSE - $202k\n",
    "\n"
   ]
  },
  {
   "cell_type": "code",
   "execution_count": null,
   "metadata": {},
   "outputs": [],
   "source": []
  }
 ],
 "metadata": {
  "kernelspec": {
   "display_name": "Python [conda env:learn-env] *",
   "language": "python",
   "name": "conda-env-learn-env-py"
  },
  "language_info": {
   "codemirror_mode": {
    "name": "ipython",
    "version": 3
   },
   "file_extension": ".py",
   "mimetype": "text/x-python",
   "name": "python",
   "nbconvert_exporter": "python",
   "pygments_lexer": "ipython3",
   "version": "3.6.9"
  },
  "toc": {
   "base_numbering": 1,
   "nav_menu": {},
   "number_sections": true,
   "sideBar": true,
   "skip_h1_title": false,
   "title_cell": "Table of Contents",
   "title_sidebar": "Contents",
   "toc_cell": false,
   "toc_position": {},
   "toc_section_display": true,
   "toc_window_display": false
  }
 },
 "nbformat": 4,
 "nbformat_minor": 2
}
